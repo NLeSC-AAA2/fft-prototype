{
 "cells": [
  {
   "cell_type": "code",
   "execution_count": 1,
   "metadata": {},
   "outputs": [],
   "source": [
    "from genfft.plan import full_factor_fft, Array"
   ]
  },
  {
   "cell_type": "code",
   "execution_count": 5,
   "metadata": {},
   "outputs": [],
   "source": [
    "fft12 = full_factor_fft(18)"
   ]
  },
  {
   "cell_type": "code",
   "execution_count": 8,
   "metadata": {},
   "outputs": [],
   "source": [
    "x = Array('x', dtype='complex64', shape=(18,))"
   ]
  },
  {
   "cell_type": "code",
   "execution_count": 9,
   "metadata": {},
   "outputs": [
    {
     "data": {
      "text/plain": [
       "('loop',\n",
       " [('loop',\n",
       "   ['notw_3(x, x + 1, y, y + 1, 12, 2, 3, 4, 6)',\n",
       "    'twiddle_3(y, y + 1, twiddle_3_3, 6, 0, 3, 2)'],\n",
       "   ['notw_3(x + 2, x + 3, y + 18, y + 19, 12, 2, 3, 4, 6)',\n",
       "    'twiddle_3(y + 18, y + 19, twiddle_3_3, 6, 0, 3, 2)']),\n",
       "  'twiddle_2(y, y + 1, twiddle_9_2, 18, 0, 9, 2)'])"
      ]
     },
     "execution_count": 9,
     "metadata": {},
     "output_type": "execute_result"
    }
   ],
   "source": [
    "fft12(x)"
   ]
  },
  {
   "cell_type": "code",
   "execution_count": null,
   "metadata": {},
   "outputs": [],
   "source": []
  }
 ],
 "metadata": {
  "kernelspec": {
   "display_name": "Python 3",
   "language": "python",
   "name": "python3"
  },
  "language_info": {
   "codemirror_mode": {
    "name": "ipython",
    "version": 3
   },
   "file_extension": ".py",
   "mimetype": "text/x-python",
   "name": "python",
   "nbconvert_exporter": "python",
   "pygments_lexer": "ipython3",
   "version": "3.7.6"
  }
 },
 "nbformat": 4,
 "nbformat_minor": 4
}
