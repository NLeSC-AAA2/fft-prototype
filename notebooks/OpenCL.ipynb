{
 "cells": [
  {
   "cell_type": "markdown",
   "metadata": {},
   "source": [
    "# Backward transform\n",
    "\n",
    "The real-to-complex transforms are not documented very well. The guess is that `r2cf` and `r2cb` are the forward and backward transforms. The both take **two** arguments for real input data. There are two reasonable possibilities: even/odd or lower half/upper half of the data is passed through different pointers. It turns out it is even/odd, which also makes the most sense. To see this, we first test the backward transform.\n",
    "\n",
    "Clean the Noodles cache:"
   ]
  },
  {
   "cell_type": "code",
   "execution_count": 44,
   "metadata": {},
   "outputs": [],
   "source": [
    "!rm -f lib/db"
   ]
  },
  {
   "cell_type": "code",
   "execution_count": 45,
   "metadata": {},
   "outputs": [],
   "source": [
    "import os"
   ]
  },
  {
   "cell_type": "code",
   "execution_count": 54,
   "metadata": {},
   "outputs": [],
   "source": [
    "os.environ[\"PYOPENCL_CTX\"] = \"Intel(R) OpenCL HD Graphics\""
   ]
  },
  {
   "cell_type": "code",
   "execution_count": 55,
   "metadata": {},
   "outputs": [],
   "source": [
    "import pyopencl as cl\n",
    "import numpy as np\n",
    "from copy import copy\n",
    "from genfft.opencl import run, single_stage_r2c, default_config\n",
    "\n",
    "def max_err(a, b):\n",
    "    return np.abs(a - b).max()"
   ]
  },
  {
   "cell_type": "markdown",
   "metadata": {},
   "source": [
    "Generate the codelet and setup OpenCL"
   ]
  },
  {
   "cell_type": "code",
   "execution_count": 56,
   "metadata": {},
   "outputs": [],
   "source": [
    "ctx = cl.create_some_context()\n",
    "cfg = copy(default_config)\n",
    "codelet = run(single_stage_r2c(cfg, 16, direction='b', sign=1))\n",
    "prog = cl.Program(ctx, codelet).build()\n",
    "queue = cl.CommandQueue(ctx)"
   ]
  },
  {
   "cell_type": "markdown",
   "metadata": {},
   "source": [
    "Create an array of complex values for which we know the backward transform, and hope that FFTW uses the same data layout as the Numpy FFT does. Important: make sure that we convert to `float32`."
   ]
  },
  {
   "cell_type": "code",
   "execution_count": 57,
   "metadata": {},
   "outputs": [],
   "source": [
    "x = np.arange(16, dtype='float32')\n",
    "y = np.fft.rfft(x).astype('complex64')"
   ]
  },
  {
   "cell_type": "code",
   "execution_count": 58,
   "metadata": {},
   "outputs": [],
   "source": [
    "mf = cl.mem_flags\n",
    "y_g = cl.Buffer(ctx, mf.READ_ONLY | mf.COPY_HOST_PTR, hostbuf=y)\n",
    "x0_g = cl.Buffer(ctx, mf.WRITE_ONLY, x.nbytes//2)\n",
    "x1_g = cl.Buffer(ctx, mf.WRITE_ONLY, x.nbytes//2)"
   ]
  },
  {
   "cell_type": "markdown",
   "metadata": {},
   "source": [
    "We can slice the `cl.Buffer` object to get pointer offsets, but note that these slices are in **bytes**. The strides for the real data are 1, and for the complex data, since we interlaced real and imag part, 2. The last three arguments give the amount of times the transform should be repeated, and the respective strides for the outer loop."
   ]
  },
  {
   "cell_type": "code",
   "execution_count": 59,
   "metadata": {},
   "outputs": [
    {
     "data": {
      "text/plain": [
       "<pyopencl._cl.Event at 0x7fa598fde530>"
      ]
     },
     "execution_count": 59,
     "metadata": {},
     "output_type": "execute_result"
    }
   ],
   "source": [
    "prog.r2cb_16(queue, (1,), None, x0_g, x1_g, y_g, y_g[4:],\n",
    "             np.int32(1), np.int32(2), np.int32(2),\n",
    "             np.int32(1), np.int32(1), np.int32(1))"
   ]
  },
  {
   "cell_type": "markdown",
   "metadata": {},
   "source": [
    "Now we read out the results in both `x0` and `x1`."
   ]
  },
  {
   "cell_type": "code",
   "execution_count": 60,
   "metadata": {},
   "outputs": [
    {
     "data": {
      "text/plain": [
       "<pyopencl._cl.NannyEvent at 0x7fa598eea650>"
      ]
     },
     "execution_count": 60,
     "metadata": {},
     "output_type": "execute_result"
    }
   ],
   "source": [
    "x0 = np.zeros(8, dtype='float32')\n",
    "x1 = np.zeros(8, dtype='float32')\n",
    "cl.enqueue_copy(queue, x0, x0_g)\n",
    "cl.enqueue_copy(queue, x1, x1_g)"
   ]
  },
  {
   "cell_type": "markdown",
   "metadata": {},
   "source": [
    "These are the even and odd parts of the real data, so we can join them using `np.c_` and flattening."
   ]
  },
  {
   "cell_type": "code",
   "execution_count": 61,
   "metadata": {},
   "outputs": [
    {
     "data": {
      "text/plain": [
       "array([ 0.       ,  1.0000002,  1.9999998,  3.0000005,  4.       ,\n",
       "        5.       ,  6.       ,  7.       ,  8.       ,  9.       ,\n",
       "       10.       , 11.       , 12.       , 13.       , 14.       ,\n",
       "       15.       ], dtype=float32)"
      ]
     },
     "execution_count": 61,
     "metadata": {},
     "output_type": "execute_result"
    }
   ],
   "source": [
    "np.c_[x0, x1].flatten() / 16"
   ]
  },
  {
   "cell_type": "markdown",
   "metadata": {},
   "source": [
    "## Forward transform\n",
    "\n",
    "The forward transform should now be easy."
   ]
  },
  {
   "cell_type": "code",
   "execution_count": 62,
   "metadata": {},
   "outputs": [],
   "source": [
    "codelet = run(single_stage_r2c(cfg, 16, direction='f'))\n",
    "prog = cl.Program(ctx, codelet).build()\n",
    "queue = cl.CommandQueue(ctx)"
   ]
  },
  {
   "cell_type": "code",
   "execution_count": 63,
   "metadata": {},
   "outputs": [],
   "source": [
    "mf = cl.mem_flags\n",
    "x = np.arange(16, dtype='float32')\n",
    "x_g = cl.Buffer(ctx, mf.READ_ONLY | mf.COPY_HOST_PTR, hostbuf=x)\n",
    "y_g = cl.Buffer(ctx, mf.WRITE_ONLY, x.nbytes + 8)"
   ]
  },
  {
   "cell_type": "code",
   "execution_count": 64,
   "metadata": {},
   "outputs": [
    {
     "data": {
      "text/plain": [
       "<pyopencl._cl.Event at 0x7fa598fe5410>"
      ]
     },
     "execution_count": 64,
     "metadata": {},
     "output_type": "execute_result"
    }
   ],
   "source": [
    "prog.r2cf_16(queue, (1,), None, x_g, x_g[4:], y_g, y_g[4:],\n",
    "             np.int32(2), np.int32(2), np.int32(2),\n",
    "             np.int32(1), np.int32(1), np.int32(1))"
   ]
  },
  {
   "cell_type": "code",
   "execution_count": 65,
   "metadata": {},
   "outputs": [
    {
     "data": {
      "text/plain": [
       "array([ 0.        ,  1.00000002,  1.99999978,  3.0000002 ,  3.99999976,\n",
       "        5.0000003 ,  6.00000002,  7.00000012,  8.        ,  8.99999988,\n",
       "        9.99999998, 10.9999997 , 12.00000024, 12.9999998 , 14.00000022,\n",
       "       14.99999998])"
      ]
     },
     "execution_count": 65,
     "metadata": {},
     "output_type": "execute_result"
    }
   ],
   "source": [
    "y = np.zeros(9, dtype='complex64')\n",
    "cl.enqueue_copy(queue, y, y_g)\n",
    "np.fft.irfft(y)"
   ]
  },
  {
   "cell_type": "code",
   "execution_count": 66,
   "metadata": {},
   "outputs": [
    {
     "data": {
      "text/plain": [
       "1.7893790626999362e-06"
      ]
     },
     "execution_count": 66,
     "metadata": {},
     "output_type": "execute_result"
    }
   ],
   "source": [
    "np.abs(np.fft.rfft(x) - y).max()"
   ]
  },
  {
   "cell_type": "markdown",
   "metadata": {},
   "source": [
    "Whoohoo!"
   ]
  },
  {
   "cell_type": "markdown",
   "metadata": {},
   "source": [
    "## Staged half-complex transform"
   ]
  },
  {
   "cell_type": "code",
   "execution_count": 14,
   "metadata": {},
   "outputs": [],
   "source": [
    "from genfft.opencl import multi_stage_hc2hc"
   ]
  },
  {
   "cell_type": "code",
   "execution_count": 15,
   "metadata": {},
   "outputs": [],
   "source": [
    "codelet = run(multi_stage_hc2hc(cfg, 4, 4))\n",
    "prog = cl.Program(ctx, codelet).build()\n",
    "queue = cl.CommandQueue(ctx)"
   ]
  },
  {
   "cell_type": "markdown",
   "metadata": {},
   "source": [
    "This is a bit more tricky. Say we want to do a 4x4 -> 16 transform. In full complex this would be"
   ]
  },
  {
   "cell_type": "code",
   "execution_count": 16,
   "metadata": {},
   "outputs": [
    {
     "name": "stdout",
     "output_type": "stream",
     "text": [
      "[120. +0.j          -8.+40.21871519j  -8.+19.31370831j  -8.+11.97284555j\n",
      "  -8. +8.j          -8. +5.34542894j  -8. +3.31370831j  -8. +1.59129858j\n",
      "  -8. +0.j          -8. -1.59129858j  -8. -3.31370831j  -8. -5.34542894j\n",
      "  -8. -8.j          -8.-11.97284555j  -8.-19.31370831j  -8.-40.21871519j]\n"
     ]
    }
   ],
   "source": [
    "from genfft.fft import make_twiddle\n",
    "\n",
    "tw = make_twiddle(4,4).conj()\n",
    "x = np.arange(16)\n",
    "a = np.fft.fft(x.reshape(4,4).T)\n",
    "b = np.fft.fft((a * tw).T)\n",
    "print(b.T.flatten())"
   ]
  },
  {
   "cell_type": "markdown",
   "metadata": {},
   "source": [
    "We did twice the work needed, since the latter half of the output is the complex conjugate of the first half,\n",
    "\n",
    "$$F(y)(k) = F(y)^*(-k).$$"
   ]
  },
  {
   "cell_type": "code",
   "execution_count": 28,
   "metadata": {},
   "outputs": [],
   "source": [
    "x = np.arange(16).reshape(4,4)"
   ]
  },
  {
   "cell_type": "code",
   "execution_count": 29,
   "metadata": {},
   "outputs": [
    {
     "data": {
      "text/plain": [
       "array([[24.+0.j, -8.+8.j, -8.+0.j],\n",
       "       [28.+0.j, -8.+8.j, -8.+0.j],\n",
       "       [32.+0.j, -8.+8.j, -8.+0.j],\n",
       "       [36.+0.j, -8.+8.j, -8.+0.j]])"
      ]
     },
     "execution_count": 29,
     "metadata": {},
     "output_type": "execute_result"
    }
   ],
   "source": [
    "a = np.fft.rfft(x.T)\n",
    "a"
   ]
  },
  {
   "cell_type": "code",
   "execution_count": 30,
   "metadata": {},
   "outputs": [],
   "source": [
    "b = np.fft.fft((a * tw[:,:3]).T)"
   ]
  },
  {
   "cell_type": "markdown",
   "metadata": {},
   "source": [
    "Now, on the columns we need to do a **full** complex transform. Also, we need to figure out what to do with the `n+1` column. Compare this with the full-complex version:"
   ]
  },
  {
   "cell_type": "code",
   "execution_count": 31,
   "metadata": {},
   "outputs": [
    {
     "data": {
      "text/plain": [
       "array([[120. +0.j        ,  -8.+40.21871519j,  -8.+19.31370831j],\n",
       "       [ -8. +8.j        ,  -8. +5.34542894j,  -8. +3.31370831j],\n",
       "       [ -8. +0.j        ,  -8. -1.59129858j,  -8. -3.31370831j],\n",
       "       [ -8. -8.j        ,  -8.-11.97284555j,  -8.-19.31370831j]])"
      ]
     },
     "execution_count": 31,
     "metadata": {},
     "output_type": "execute_result"
    }
   ],
   "source": [
    "b.T"
   ]
  },
  {
   "cell_type": "markdown",
   "metadata": {},
   "source": [
    "The way around this, may be decimation-in-time."
   ]
  },
  {
   "cell_type": "code",
   "execution_count": null,
   "metadata": {},
   "outputs": [],
   "source": [
    "a = np.fft.fft(x)"
   ]
  },
  {
   "cell_type": "markdown",
   "metadata": {},
   "source": [
    "## Integer transform"
   ]
  },
  {
   "cell_type": "code",
   "execution_count": 1,
   "metadata": {},
   "outputs": [],
   "source": [
    "from genfft.opencl import multi_stage_int, int_macros, run, default_config\n",
    "from copy import copy\n",
    "cfg = copy(default_config)\n",
    "codelet = run(multi_stage_int(cfg, 4, 4))"
   ]
  },
  {
   "cell_type": "code",
   "execution_count": 2,
   "metadata": {},
   "outputs": [
    {
     "data": {
      "text/plain": [
       "{'R': 'int16',\n",
       " 'E': 'int32',\n",
       " 'stride': 'int',\n",
       " 'INT': 'int',\n",
       " 'K(x)': '((E) x)',\n",
       " 'DK(name,value)': 'const E name = K(value)',\n",
       " 'WS(s,i)': 's*i',\n",
       " 'MAKE_VOLATILE_STRIDE(x,y)': '0',\n",
       " 'FMA(a,b,c)': 'a * b + c',\n",
       " 'FMS(a,b,c)': 'a * b - c',\n",
       " 'FNMA(a,b,c)': '-a * b - c',\n",
       " 'FNMS(a,b,c)': '-a * b + c'}"
      ]
     },
     "execution_count": 2,
     "metadata": {},
     "output_type": "execute_result"
    }
   ],
   "source": [
    "int_macros"
   ]
  },
  {
   "cell_type": "code",
   "execution_count": 3,
   "metadata": {},
   "outputs": [
    {
     "name": "stdout",
     "output_type": "stream",
     "text": [
      "#define R int16\n",
      "#define E int32\n",
      "#define stride int\n",
      "#define INT int\n",
      "#define K(x) ((E) x)\n",
      "#define DK(name,value) const E name = K(value)\n",
      "#define WS(s,i) s*i\n",
      "#define MAKE_VOLATILE_STRIDE(x,y) 0\n",
      "#define FMA(a,b,c) a * b + c\n",
      "#define FMS(a,b,c) a * b - c\n",
      "#define FNMA(a,b,c) -a * b - c\n",
      "#define FNMS(a,b,c) -a * b + c\n",
      "\n",
      "__constant int16 twiddle_4_4[24] = {\n",
      "  1023, 0, 1023, 0, 1023, 0, 945, 391, 723, 723, 391, 945, 723, 723, 0, 1023,\n",
      "    -723, 723, 391, 945, -723, 723, -945, -391\n",
      "};\n",
      "\n",
      "\n",
      "/* Generated by: ../genfft/gen_notw.native -name notw4 -opencl -n 4 -compact -standalone */\n",
      "\n",
      "/*\n",
      " * This function contains 16 FP additions, 0 FP multiplications,\n",
      " * (or, 16 additions, 0 multiplications, 0 fused multiply/add),\n",
      " * 13 stack variables, 0 constants, and 16 memory accesses\n",
      " */\n",
      "__kernel void\n",
      "notw4 (__global const R * ri, __global const R * ii, __global R * ro,\n",
      "       __global R * io, stride is, stride os, INT v, INT ivs, INT ovs)\n",
      "{\n",
      "  {\n",
      "    INT i;\n",
      "    for (i = v; i > 0;\n",
      "         i = i - 1, ri = ri + ivs, ii = ii + ivs, ro = ro + ovs, io =\n",
      "         io + ovs, MAKE_VOLATILE_STRIDE (16, is), MAKE_VOLATILE_STRIDE (16,\n",
      "                                                                        os))\n",
      "      {\n",
      "        E T3, Tb, T9, Tf, T6, Ta, Te, Tg;\n",
      "        {\n",
      "          E T1, T2, T7, T8;\n",
      "          T1 = ri[0];\n",
      "          T2 = ri[WS (is, 2)];\n",
      "          T3 = T1 + T2;\n",
      "          Tb = T1 - T2;\n",
      "          T7 = ii[0];\n",
      "          T8 = ii[WS (is, 2)];\n",
      "          T9 = T7 - T8;\n",
      "          Tf = T7 + T8;\n",
      "        }\n",
      "        {\n",
      "          E T4, T5, Tc, Td;\n",
      "          T4 = ri[WS (is, 1)];\n",
      "          T5 = ri[WS (is, 3)];\n",
      "          T6 = T4 + T5;\n",
      "          Ta = T4 - T5;\n",
      "          Tc = ii[WS (is, 1)];\n",
      "          Td = ii[WS (is, 3)];\n",
      "          Te = Tc - Td;\n",
      "          Tg = Tc + Td;\n",
      "        }\n",
      "        ro[WS (os, 2)] = T3 - T6;\n",
      "        io[WS (os, 2)] = Tf - Tg;\n",
      "        ro[0] = T3 + T6;\n",
      "        io[0] = Tf + Tg;\n",
      "        io[WS (os, 1)] = T9 - Ta;\n",
      "        ro[WS (os, 1)] = Tb + Te;\n",
      "        io[WS (os, 3)] = Ta + T9;\n",
      "        ro[WS (os, 3)] = Tb - Te;\n",
      "      }\n",
      "  }\n",
      "}\n",
      "\n",
      "\n",
      "/* Generated by: ../genfft/gen_twiddle.native -name twiddle4 -opencl -n 4 -compact -standalone */\n",
      "\n",
      "/*\n",
      " * This function contains 22 FP additions, 12 FP multiplications,\n",
      " * (or, 16 additions, 6 multiplications, 6 fused multiply/add),\n",
      " * 13 stack variables, 0 constants, and 16 memory accesses\n",
      " */\n",
      "__kernel void\n",
      "twiddle4 (__global R * ri, __global R * ii, __constant const R * W, stride rs,\n",
      "          INT mb, INT me, INT ms)\n",
      "{\n",
      "  {\n",
      "    INT m;\n",
      "    for (m = mb, W = W + (mb * 6); m < me;\n",
      "         m = m + 1, ri = ri + ms, ii = ii + ms, W =\n",
      "         W + 6, MAKE_VOLATILE_STRIDE (8, rs))\n",
      "      {\n",
      "        E T1, Tp, T6, To, Tc, Tk, Th, Tl;\n",
      "        T1 = ri[0];\n",
      "        Tp = ii[0];\n",
      "        {\n",
      "          E T3, T5, T2, T4;\n",
      "          T3 = ri[WS (rs, 2)];\n",
      "          T5 = ii[WS (rs, 2)];\n",
      "          T2 = W[2];\n",
      "          T4 = W[3];\n",
      "          T6 = FMA (T2, T3, T4 * T5);\n",
      "          To = FNMS (T4, T3, T2 * T5);\n",
      "        }\n",
      "        {\n",
      "          E T9, Tb, T8, Ta;\n",
      "          T9 = ri[WS (rs, 1)];\n",
      "          Tb = ii[WS (rs, 1)];\n",
      "          T8 = W[0];\n",
      "          Ta = W[1];\n",
      "          Tc = FMA (T8, T9, Ta * Tb);\n",
      "          Tk = FNMS (Ta, T9, T8 * Tb);\n",
      "        }\n",
      "        {\n",
      "          E Te, Tg, Td, Tf;\n",
      "          Te = ri[WS (rs, 3)];\n",
      "          Tg = ii[WS (rs, 3)];\n",
      "          Td = W[4];\n",
      "          Tf = W[5];\n",
      "          Th = FMA (Td, Te, Tf * Tg);\n",
      "          Tl = FNMS (Tf, Te, Td * Tg);\n",
      "        }\n",
      "        {\n",
      "          E T7, Ti, Tn, Tq;\n",
      "          T7 = T1 + T6;\n",
      "          Ti = Tc + Th;\n",
      "          ri[WS (rs, 2)] = T7 - Ti;\n",
      "          ri[0] = T7 + Ti;\n",
      "          Tn = Tk + Tl;\n",
      "          Tq = To + Tp;\n",
      "          ii[0] = Tn + Tq;\n",
      "          ii[WS (rs, 2)] = Tq - Tn;\n",
      "        }\n",
      "        {\n",
      "          E Tj, Tm, Tr, Ts;\n",
      "          Tj = T1 - T6;\n",
      "          Tm = Tk - Tl;\n",
      "          ri[WS (rs, 3)] = Tj - Tm;\n",
      "          ri[WS (rs, 1)] = Tj + Tm;\n",
      "          Tr = Tp - To;\n",
      "          Ts = Tc - Th;\n",
      "          ii[WS (rs, 1)] = Tr - Ts;\n",
      "          ii[WS (rs, 3)] = Ts + Tr;\n",
      "        }\n",
      "      }\n",
      "  }\n",
      "}\n",
      "\n"
     ]
    }
   ],
   "source": [
    "print(codelet)"
   ]
  },
  {
   "cell_type": "code",
   "execution_count": null,
   "metadata": {},
   "outputs": [],
   "source": []
  }
 ],
 "metadata": {
  "kernelspec": {
   "display_name": "Python 3",
   "language": "python",
   "name": "python3"
  },
  "language_info": {
   "codemirror_mode": {
    "name": "ipython",
    "version": 3
   },
   "file_extension": ".py",
   "mimetype": "text/x-python",
   "name": "python",
   "nbconvert_exporter": "python",
   "pygments_lexer": "ipython3",
   "version": "3.7.6"
  }
 },
 "nbformat": 4,
 "nbformat_minor": 4
}
