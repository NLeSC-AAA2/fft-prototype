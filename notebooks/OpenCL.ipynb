{
 "cells": [
  {
   "cell_type": "markdown",
   "metadata": {},
   "source": [
    "# Backward transform\n",
    "\n",
    "The real-to-complex transforms are not documented very well. The guess is that `r2cf` and `r2cb` are the forward and backward transforms. The both take **two** arguments for real input data. There are two reasonable possibilities: even/odd or lower half/upper half of the data is passed through different pointers. It turns out it is even/odd, which also makes the most sense. To see this, we first test the backward transform.\n",
    "\n",
    "Clean the Noodles cache:"
   ]
  },
  {
   "cell_type": "code",
   "execution_count": 1,
   "metadata": {},
   "outputs": [],
   "source": [
    "!rm -f lib/db"
   ]
  },
  {
   "cell_type": "code",
   "execution_count": 1,
   "metadata": {},
   "outputs": [],
   "source": [
    "import pyopencl as cl\n",
    "import numpy as np\n",
    "from copy import copy\n",
    "from genfft.opencl import run, single_stage_r2c, default_config"
   ]
  },
  {
   "cell_type": "markdown",
   "metadata": {},
   "source": [
    "Generate the codelet and setup OpenCL"
   ]
  },
  {
   "cell_type": "code",
   "execution_count": 14,
   "metadata": {},
   "outputs": [],
   "source": [
    "ctx = cl.create_some_context()\n",
    "cfg = copy(default_config)\n",
    "codelet = run(single_stage_r2c(cfg, 16, direction='b', sign=1))\n",
    "prog = cl.Program(ctx, codelet).build()\n",
    "queue = cl.CommandQueue(ctx)"
   ]
  },
  {
   "cell_type": "markdown",
   "metadata": {},
   "source": [
    "Create an array of complex values for which we know the backward transform, and hope that FFTW uses the same data layout as the Numpy FFT does. Important: make sure that we convert to `float32`."
   ]
  },
  {
   "cell_type": "code",
   "execution_count": 15,
   "metadata": {},
   "outputs": [],
   "source": [
    "x = np.arange(16, dtype='float32')\n",
    "y = np.fft.rfft(x).astype('complex64')"
   ]
  },
  {
   "cell_type": "code",
   "execution_count": 16,
   "metadata": {},
   "outputs": [],
   "source": [
    "mf = cl.mem_flags\n",
    "y_g = cl.Buffer(ctx, mf.READ_ONLY | mf.COPY_HOST_PTR, hostbuf=y)\n",
    "x0_g = cl.Buffer(ctx, mf.WRITE_ONLY, x.nbytes//2)\n",
    "x1_g = cl.Buffer(ctx, mf.WRITE_ONLY, x.nbytes//2)"
   ]
  },
  {
   "cell_type": "markdown",
   "metadata": {},
   "source": [
    "We can slice the `cl.Buffer` object to get pointer offsets, but note that these slices are in **bytes**. The strides for the real data are 1, and for the complex data, since we interlaced real and imag part, 2. The last three arguments give the amount of times the transform should be repeated, and the respective strides for the outer loop."
   ]
  },
  {
   "cell_type": "code",
   "execution_count": 17,
   "metadata": {},
   "outputs": [
    {
     "data": {
      "text/plain": [
       "<pyopencl._cl.Event at 0x7f3810f19fb0>"
      ]
     },
     "execution_count": 17,
     "metadata": {},
     "output_type": "execute_result"
    }
   ],
   "source": [
    "prog.r2cb_16(queue, (1,), None, x0_g, x1_g, y_g, y_g[4:],\n",
    "             np.int32(1), np.int32(2), np.int32(2),\n",
    "             np.int32(1), np.int32(1), np.int32(1))"
   ]
  },
  {
   "cell_type": "markdown",
   "metadata": {},
   "source": [
    "Now we read out the results in both `x0` and `x1`."
   ]
  },
  {
   "cell_type": "code",
   "execution_count": 18,
   "metadata": {},
   "outputs": [
    {
     "data": {
      "text/plain": [
       "<pyopencl._cl.NannyEvent at 0x7f3810f29fb0>"
      ]
     },
     "execution_count": 18,
     "metadata": {},
     "output_type": "execute_result"
    }
   ],
   "source": [
    "x0 = np.zeros(8, dtype='float32')\n",
    "x1 = np.zeros(8, dtype='float32')\n",
    "cl.enqueue_copy(queue, x0, x0_g)\n",
    "cl.enqueue_copy(queue, x1, x1_g)"
   ]
  },
  {
   "cell_type": "markdown",
   "metadata": {},
   "source": [
    "These are the even and odd parts of the real data, so we can join them using `np.c_` and flattening."
   ]
  },
  {
   "cell_type": "code",
   "execution_count": 19,
   "metadata": {},
   "outputs": [
    {
     "data": {
      "text/plain": [
       "array([ 0.       ,  1.0000002,  1.9999998,  3.0000005,  4.       ,\n",
       "        5.       ,  6.       ,  7.       ,  8.       ,  9.       ,\n",
       "       10.       , 11.       , 12.       , 13.       , 14.       ,\n",
       "       15.       ], dtype=float32)"
      ]
     },
     "execution_count": 19,
     "metadata": {},
     "output_type": "execute_result"
    }
   ],
   "source": [
    "np.c_[x0, x1].flatten() / 16"
   ]
  },
  {
   "cell_type": "markdown",
   "metadata": {},
   "source": [
    "## Forward transform\n",
    "\n",
    "The forward transform should now be easy."
   ]
  },
  {
   "cell_type": "code",
   "execution_count": 21,
   "metadata": {},
   "outputs": [],
   "source": [
    "codelet = run(single_stage_r2c(cfg, 16, direction='f'))\n",
    "prog = cl.Program(ctx, codelet).build()\n",
    "queue = cl.CommandQueue(ctx)"
   ]
  },
  {
   "cell_type": "code",
   "execution_count": 22,
   "metadata": {},
   "outputs": [],
   "source": [
    "mf = cl.mem_flags\n",
    "x = np.arange(16, dtype='float32')\n",
    "x_g = cl.Buffer(ctx, mf.READ_ONLY | mf.COPY_HOST_PTR, hostbuf=x)\n",
    "y_g = cl.Buffer(ctx, mf.WRITE_ONLY, x.nbytes + 8)"
   ]
  },
  {
   "cell_type": "code",
   "execution_count": 23,
   "metadata": {},
   "outputs": [
    {
     "data": {
      "text/plain": [
       "<pyopencl._cl.Event at 0x7f38311592f0>"
      ]
     },
     "execution_count": 23,
     "metadata": {},
     "output_type": "execute_result"
    }
   ],
   "source": [
    "prog.r2cf_16(queue, (1,), None, x_g, x_g[4:], y_g, y_g[4:],\n",
    "             np.int32(2), np.int32(2), np.int32(2),\n",
    "             np.int32(1), np.int32(1), np.int32(1))"
   ]
  },
  {
   "cell_type": "code",
   "execution_count": 31,
   "metadata": {},
   "outputs": [
    {
     "data": {
      "text/plain": [
       "array([ 0.        ,  1.00000002,  1.99999978,  3.0000002 ,  3.99999976,\n",
       "        5.0000003 ,  6.00000002,  7.00000012,  8.        ,  8.99999988,\n",
       "        9.99999998, 10.9999997 , 12.00000024, 12.9999998 , 14.00000022,\n",
       "       14.99999998])"
      ]
     },
     "execution_count": 31,
     "metadata": {},
     "output_type": "execute_result"
    }
   ],
   "source": [
    "y = np.zeros(9, dtype='complex64')\n",
    "cl.enqueue_copy(queue, y, y_g)\n",
    "np.fft.irfft(y)"
   ]
  },
  {
   "cell_type": "code",
   "execution_count": 27,
   "metadata": {},
   "outputs": [
    {
     "data": {
      "text/plain": [
       "1.7893790626999362e-06"
      ]
     },
     "execution_count": 27,
     "metadata": {},
     "output_type": "execute_result"
    }
   ],
   "source": [
    "np.abs(np.fft.rfft(x) - y).max()"
   ]
  },
  {
   "cell_type": "markdown",
   "metadata": {},
   "source": [
    "Whoohoo!"
   ]
  }
 ],
 "metadata": {
  "kernelspec": {
   "display_name": "Python 3",
   "language": "python",
   "name": "python3"
  },
  "language_info": {
   "codemirror_mode": {
    "name": "ipython",
    "version": 3
   },
   "file_extension": ".py",
   "mimetype": "text/x-python",
   "name": "python",
   "nbconvert_exporter": "python",
   "pygments_lexer": "ipython3",
   "version": "3.7.5"
  }
 },
 "nbformat": 4,
 "nbformat_minor": 4
}
