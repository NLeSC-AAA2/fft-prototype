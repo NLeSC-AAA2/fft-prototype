{
 "cells": [
  {
   "cell_type": "code",
   "execution_count": 1,
   "metadata": {},
   "outputs": [],
   "source": [
    "from fftw import generate_fft, default_config\n",
    "import numpy as np"
   ]
  },
  {
   "cell_type": "code",
   "execution_count": 2,
   "metadata": {},
   "outputs": [],
   "source": [
    "default_config[\"generator_path\"] = \"../genfft\"\n",
    "default_config[\"compile_args\"] = [\"-x\", \"c++\", \"-O3\", \"-include\", \"fftw/codelet.hh\", \"-shared\"]"
   ]
  },
  {
   "cell_type": "code",
   "execution_count": 57,
   "metadata": {},
   "outputs": [],
   "source": [
    "fft16 = generate_fft(default_config, \"notw\", n=16)\n",
    "fft4 = generate_fft(default_config, \"notw\", n=4)\n",
    "fft5 = generate_fft(default_config, \"notw\", n=5)\n",
    "fft3 = generate_fft(default_config, \"notw\", n=3)\n",
    "fft2 = generate_fft(default_config, \"notw\", n=2)\n",
    "fft6 = generate_fft(default_config, \"notw\", n=6)\n",
    "\n",
    "twiddle2 = generate_fft(default_config, \"twiddle\", n=2)\n",
    "twiddle4 = generate_fft(default_config, \"twiddle\", n=4)\n",
    "twiddle3 = generate_fft(default_config, \"twiddle\", n=3)\n",
    "twiddle5 = generate_fft(default_config, \"twiddle\", n=5)\n",
    "\n",
    "\n",
    "def w(k, n):\n",
    "    return np.exp(2j * np.pi * k / n)\n",
    "\n",
    "\n",
    "def make_twiddle(n1, n2):\n",
    "    I1 = np.arange(n1)\n",
    "    I2 = np.arange(n2)\n",
    "    return w(I1[:,None] * I2[None,:], n1*n2).astype('complex64')\n",
    "\n",
    "\n",
    "def fft_two_factor(config, n, m):\n",
    "    fft_n = generate_fft(config, \"notw\", n=n)\n",
    "    fft_m = generate_fft(config, \"notw\", n=m)\n",
    "    W = make_twiddle(m, n).conj()\n",
    "    \n",
    "    def fft(x):\n",
    "        y = np.zeros_like(x).reshape([m, n])\n",
    "        z = np.zeros_like(x)\n",
    "        fft_n(x.reshape([n, m]).T, y)\n",
    "        y *= W\n",
    "        fft_m(y.T, z.reshape([m, n]).T)\n",
    "        return z\n",
    "    \n",
    "    return fft\n",
    "\n",
    "\n",
    "fft_p12 = fft_two_factor(default_config, 3, 4)\n",
    "fft_p12i = fft_two_factor(default_config, 6, 2)\n",
    "\n",
    "\n",
    "def fft_two_factor_twiddle(config, n, m):\n",
    "    fft_n = generate_fft(config, \"notw\", n=n)\n",
    "    fft_m = generate_fft(config, \"twiddle\", n=m)\n",
    "    W = make_twiddle(n, m)[:,1:].copy()\n",
    "    \n",
    "    def fft(x):\n",
    "        y = np.zeros_like(x).reshape([m, n])\n",
    "        fft_n(x.reshape([n, m]).T, y)\n",
    "        fft_m(y.T, W)\n",
    "        return y.flatten()\n",
    "    \n",
    "    return fft\n",
    "\n",
    "fft_t12 = fft_two_factor_twiddle(default_config, 3, 4)\n",
    "fft_t12i = fft_two_factor_twiddle(default_config, 6, 2)\n",
    "\n",
    "fft_p4 = fft_two_factor(default_config, 2, 2)\n",
    "fft_t4 = fft_two_factor_twiddle(default_config, 2, 2)\n",
    "\n",
    "x4 = np.arange(4, dtype='complex64')\n",
    "x12 = np.arange(12, dtype='complex64')\n",
    "x15 = np.arange(15, dtype='complex64')"
   ]
  },
  {
   "cell_type": "code",
   "execution_count": 58,
   "metadata": {},
   "outputs": [],
   "source": [
    "from fftw.pretty_print import ndtotext"
   ]
  },
  {
   "cell_type": "code",
   "execution_count": 61,
   "metadata": {},
   "outputs": [
    {
     "name": "stdout",
     "output_type": "stream",
     "text": [
      "┌────────────────────────────────────────────────────────────────┐\n",
      " [       (66+0j) (-6+22.392303j) (-6+10.392304j)         (-6+6j)] \n",
      " [(-6+3.464101j) (-6+1.6076956j)         (-6+0j) (-6-1.6076956j)] \n",
      " [(-6-3.464101j)         (-6-6j) (-6-10.392304j) (-6-22.392303j)] \n",
      "└────────────────────────────────────────────────────────────────┘\n",
      "┌─────────────────────────────────────────────────────────────────┐\n",
      " [        (66+0j) (-6+22.392303j) (-6+10.392304j)         (-6+6j)] \n",
      " [(-6+3.4641016j) (-6+1.6076946j)         (-6+0j) (-6-1.6076946j)] \n",
      " [(-6-3.4641016j)         (-6-6j) (-6-10.392304j) (-6-22.392303j)] \n",
      "└─────────────────────────────────────────────────────────────────┘\n",
      "┌─────────────────────────────────────────────────────────────────┐\n",
      " [        (66+0j) (-6+22.392305j) (-6+10.392304j)         (-6+6j)] \n",
      " [(-6+3.4641016j) (-6+1.6076951j)         (-6+0j) (-6-1.6076951j)] \n",
      " [(-6-3.4641016j)         (-6-6j) (-6-10.392304j) (-6-22.392305j)] \n",
      "└─────────────────────────────────────────────────────────────────┘\n"
     ]
    }
   ],
   "source": [
    "print(ndtotext(fft_p12(x12).reshape([3,4])))\n",
    "print(ndtotext(fft_p12i(x12).reshape([3,4])))\n",
    "print(ndtotext(np.fft.fft(x12).reshape([3,4]).astype('complex64')))"
   ]
  },
  {
   "cell_type": "code",
   "execution_count": 62,
   "metadata": {},
   "outputs": [
    {
     "name": "stdout",
     "output_type": "stream",
     "text": [
      "┌─────────────────────────────────────────┐\n",
      " [(66+0j) (-6+22.392303j) (-6+10.392304j)] \n",
      " [(-6+6j)  (-6+3.464101j) (-6+1.6076956j)] \n",
      " [(-6+0j) (-6-1.6076956j)  (-6-3.464101j)] \n",
      " [(-6-6j) (-6-10.392304j) (-6-22.392303j)] \n",
      "└─────────────────────────────────────────┘\n",
      "┌─────────────────────────────────────────────────────────────────────────────────┐\n",
      " [(66+0j) (-6+22.392303j) (-6+10.392304j) (-6+6j) (-6+3.4641016j) (-6+1.6076946j)] \n",
      " [(-6+0j) (-6-1.6076946j) (-6-3.4641016j) (-6-6j) (-6-10.392304j) (-6-22.392303j)] \n",
      "└─────────────────────────────────────────────────────────────────────────────────┘\n",
      "┌─────────────────────────────────────────────────────────────────────────────────┐\n",
      " [(66+0j) (-6+22.392303j) (-6+10.392304j) (-6+6j) (-6+3.4641016j) (-6+1.6076946j)] \n",
      " [(-6+0j) (-6-1.6076946j) (-6-3.4641016j) (-6-6j) (-6-10.392304j) (-6-22.392303j)] \n",
      "└─────────────────────────────────────────────────────────────────────────────────┘\n"
     ]
    }
   ],
   "source": [
    "print(ndtotext(fft_t12(x12).reshape([4, 3])))\n",
    "print(ndtotext(fft_p12i(x12).reshape([2, 6])))\n",
    "print(ndtotext(fft_t12i(x12).reshape([2, 6])))"
   ]
  },
  {
   "cell_type": "code",
   "execution_count": 63,
   "metadata": {},
   "outputs": [
    {
     "data": {
      "text/plain": [
       "array([ 6.+0.j, -2.+2.j, -2.+0.j, -2.-2.j], dtype=complex64)"
      ]
     },
     "execution_count": 63,
     "metadata": {},
     "output_type": "execute_result"
    }
   ],
   "source": [
    "fft_t4(x4)"
   ]
  },
  {
   "cell_type": "code",
   "execution_count": 64,
   "metadata": {},
   "outputs": [
    {
     "data": {
      "text/plain": [
       "array([ 6.+0.j, -2.+2.j, -2.+0.j, -2.-2.j], dtype=complex64)"
      ]
     },
     "execution_count": 64,
     "metadata": {},
     "output_type": "execute_result"
    }
   ],
   "source": [
    "fft_p4(x4)"
   ]
  },
  {
   "cell_type": "code",
   "execution_count": null,
   "metadata": {},
   "outputs": [],
   "source": []
  }
 ],
 "metadata": {
  "kernelspec": {
   "display_name": "Python 3",
   "language": "python",
   "name": "python3"
  },
  "language_info": {
   "codemirror_mode": {
    "name": "ipython",
    "version": 3
   },
   "file_extension": ".py",
   "mimetype": "text/x-python",
   "name": "python",
   "nbconvert_exporter": "python",
   "pygments_lexer": "ipython3",
   "version": "3.7.2"
  }
 },
 "nbformat": 4,
 "nbformat_minor": 2
}
