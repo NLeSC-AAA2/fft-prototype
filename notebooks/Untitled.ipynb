{
 "cells": [
  {
   "cell_type": "code",
   "execution_count": 1,
   "metadata": {},
   "outputs": [],
   "source": [
    "from genfft import generate_fft, default_config, fft_two_factor_twiddle\n",
    "import numpy as np\n",
    "from copy import copy"
   ]
  },
  {
   "cell_type": "code",
   "execution_count": 2,
   "metadata": {},
   "outputs": [],
   "source": [
    "cfg = copy(default_config)\n",
    "cfg[\"generator_path\"] = \"../genfft\"\n",
    "cfg[\"compile_args\"] = [\"-x\", \"c++\", \"-O3\", \"-include\", \"genfft/codelet.hh\", \"-shared\"]"
   ]
  },
  {
   "cell_type": "code",
   "execution_count": 3,
   "metadata": {},
   "outputs": [
    {
     "data": {
      "text/plain": [
       "array([ 0.0000000e+00+0.00000000e+00j,  8.8817842e-16-1.37861639e-06j,\n",
       "        0.0000000e+00-4.24942073e-07j,  0.0000000e+00+0.00000000e+00j,\n",
       "        0.0000000e+00-5.39011657e-07j, -8.8817842e-16+4.24942073e-07j,\n",
       "        0.0000000e+00+0.00000000e+00j, -8.8817842e-16-4.24942073e-07j,\n",
       "        0.0000000e+00+5.39011657e-07j,  0.0000000e+00+0.00000000e+00j,\n",
       "        0.0000000e+00+4.24942073e-07j,  8.8817842e-16+1.37861639e-06j])"
      ]
     },
     "execution_count": 3,
     "metadata": {},
     "output_type": "execute_result"
    }
   ],
   "source": [
    "fft12 = fft_two_factor_twiddle(cfg, 3, 4)\n",
    "\n",
    "x = np.arange(12, dtype='complex64')\n",
    "\n",
    "fft12(x) - np.fft.fft(x)"
   ]
  },
  {
   "cell_type": "code",
   "execution_count": 13,
   "metadata": {},
   "outputs": [
    {
     "data": {
      "text/plain": [
       "8.962143078707292e-06"
      ]
     },
     "execution_count": 13,
     "metadata": {},
     "output_type": "execute_result"
    }
   ],
   "source": [
    "fft27 = fft_two_factor_twiddle(cfg, 3, 9)\n",
    "x = np.arange(27, dtype='complex64')\n",
    "np.abs(fft27(x) - np.fft.fft(x)).max()"
   ]
  },
  {
   "cell_type": "code",
   "execution_count": 14,
   "metadata": {},
   "outputs": [
    {
     "data": {
      "text/plain": [
       "['onuth']"
      ]
     },
     "execution_count": 14,
     "metadata": {},
     "output_type": "execute_result"
    }
   ],
   "source": [
    "\"onuth\".splitlines()"
   ]
  },
  {
   "cell_type": "code",
   "execution_count": 17,
   "metadata": {},
   "outputs": [],
   "source": [
    "x = np.arange(10, dtype='complex64')"
   ]
  },
  {
   "cell_type": "code",
   "execution_count": 18,
   "metadata": {},
   "outputs": [
    {
     "data": {
      "text/plain": [
       "array([0., 1., 2., 3., 4., 5., 6., 7., 8., 9.], dtype=float32)"
      ]
     },
     "execution_count": 18,
     "metadata": {},
     "output_type": "execute_result"
    }
   ],
   "source": [
    "x.real"
   ]
  },
  {
   "cell_type": "code",
   "execution_count": 19,
   "metadata": {},
   "outputs": [],
   "source": [
    "x.real[3] = 42"
   ]
  },
  {
   "cell_type": "code",
   "execution_count": 20,
   "metadata": {},
   "outputs": [
    {
     "data": {
      "text/plain": [
       "array([ 0.+0.j,  1.+0.j,  2.+0.j, 42.+0.j,  4.+0.j,  5.+0.j,  6.+0.j,\n",
       "        7.+0.j,  8.+0.j,  9.+0.j], dtype=complex64)"
      ]
     },
     "execution_count": 20,
     "metadata": {},
     "output_type": "execute_result"
    }
   ],
   "source": [
    "x"
   ]
  },
  {
   "cell_type": "code",
   "execution_count": 4,
   "metadata": {},
   "outputs": [
    {
     "data": {
      "text/plain": [
       "array([ 0.0000000e+00+0.00000000e+00j,  8.8817842e-16-1.37861639e-06j,\n",
       "        0.0000000e+00-4.24942073e-07j,  0.0000000e+00+0.00000000e+00j,\n",
       "        0.0000000e+00-6.21744984e-08j, -8.8817842e-16+4.24942073e-07j,\n",
       "        0.0000000e+00+0.00000000e+00j, -8.8817842e-16-4.24942073e-07j,\n",
       "        0.0000000e+00+6.21744984e-08j,  0.0000000e+00+0.00000000e+00j,\n",
       "        0.0000000e+00+4.24942073e-07j,  8.8817842e-16+1.37861639e-06j])"
      ]
     },
     "execution_count": 4,
     "metadata": {},
     "output_type": "execute_result"
    }
   ],
   "source": [
    "fft12 = generate_fft(cfg, \"notw_complex\", n=12)\n",
    "x = np.arange(12, dtype='complex64')\n",
    "y = np.zeros_like(x)\n",
    "fft12(x, y) \n",
    "y - np.fft.fft(x)"
   ]
  },
  {
   "cell_type": "code",
   "execution_count": 8,
   "metadata": {},
   "outputs": [
    {
     "data": {
      "text/plain": [
       "array([ 30.       +0.j,  36.       +0.j,  17.196152 +0.j, -30.320509 +0.j,\n",
       "       -16.392305 +0.j,   4.392305 +0.j,  11.       +0.j,  -1.       +0.j,\n",
       "        -9.464102 +0.j,  -2.5358987+0.j,   6.8038483+0.j,   4.3205085+0.j],\n",
       "      dtype=complex64)"
      ]
     },
     "execution_count": 8,
     "metadata": {},
     "output_type": "execute_result"
    }
   ],
   "source": [
    "y"
   ]
  },
  {
   "cell_type": "code",
   "execution_count": null,
   "metadata": {},
   "outputs": [],
   "source": []
  }
 ],
 "metadata": {
  "kernelspec": {
   "display_name": "Python 3",
   "language": "python",
   "name": "python3"
  },
  "language_info": {
   "codemirror_mode": {
    "name": "ipython",
    "version": 3
   },
   "file_extension": ".py",
   "mimetype": "text/x-python",
   "name": "python",
   "nbconvert_exporter": "python",
   "pygments_lexer": "ipython3",
   "version": "3.7.2"
  }
 },
 "nbformat": 4,
 "nbformat_minor": 2
}
