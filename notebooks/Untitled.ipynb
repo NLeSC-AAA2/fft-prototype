{
 "cells": [
  {
   "cell_type": "code",
   "execution_count": 1,
   "metadata": {},
   "outputs": [],
   "source": [
    "from genfft import generate_fft, default_config, fft_two_factor_twiddle\n",
    "import numpy as np\n",
    "from copy import copy"
   ]
  },
  {
   "cell_type": "code",
   "execution_count": 2,
   "metadata": {},
   "outputs": [],
   "source": [
    "cfg = copy(default_config)\n",
    "cfg[\"generator_path\"] = \"../genfft\"\n",
    "cfg[\"compile_args\"] = [\"-x\", \"c++\", \"-O3\", \"-include\", \"genfft/codelet.hh\", \"-shared\"]"
   ]
  },
  {
   "cell_type": "code",
   "execution_count": 3,
   "metadata": {},
   "outputs": [
    {
     "data": {
      "text/plain": [
       "array([0.+0.00000000e+00j, 0.-1.37861639e-06j, 0.-4.24942073e-07j,\n",
       "       0.+0.00000000e+00j, 0.-5.39011656e-07j, 0.+4.24942072e-07j,\n",
       "       0.+8.88178420e-16j, 0.-4.24942073e-07j, 0.+5.39011656e-07j,\n",
       "       0.+8.88178420e-16j, 0.+4.24942073e-07j, 0.+1.37861639e-06j])"
      ]
     },
     "execution_count": 3,
     "metadata": {},
     "output_type": "execute_result"
    }
   ],
   "source": [
    "fft12 = fft_two_factor_twiddle(cfg, 3, 4)\n",
    "x = np.arange(12, dtype='complex64')\n",
    "fft12(x) - np.fft.fft(x)"
   ]
  },
  {
   "cell_type": "code",
   "execution_count": 4,
   "metadata": {},
   "outputs": [
    {
     "data": {
      "text/plain": [
       "8.962143078707292e-06"
      ]
     },
     "execution_count": 4,
     "metadata": {},
     "output_type": "execute_result"
    }
   ],
   "source": [
    "fft27 = fft_two_factor_twiddle(cfg, 3, 9)\n",
    "x = np.arange(27, dtype='complex64')\n",
    "np.abs(fft27(x) - np.fft.fft(x)).max()"
   ]
  },
  {
   "cell_type": "code",
   "execution_count": 5,
   "metadata": {},
   "outputs": [
    {
     "name": "stdout",
     "output_type": "stream",
     "text": [
      "notw 3 1 [2] [2]\n"
     ]
    },
    {
     "data": {
      "text/plain": [
       "array([ 3. +0.j       , -1.5+0.8660254j, -1.5-0.8660254j], dtype=complex64)"
      ]
     },
     "execution_count": 5,
     "metadata": {},
     "output_type": "execute_result"
    }
   ],
   "source": [
    "N = 3\n",
    "fftN = generate_fft(cfg, \"notw_complex\", n=N)\n",
    "x = np.arange(N, dtype='complex64')\n",
    "y = np.zeros_like(x)\n",
    "fftN(x, y) \n",
    "y"
   ]
  },
  {
   "cell_type": "code",
   "execution_count": 6,
   "metadata": {},
   "outputs": [],
   "source": [
    "def w(k, n):\n",
    "    return np.exp(2j * np.pi * k / n)\n",
    "\n",
    "def make_twiddle(n1, n2):\n",
    "    I1 = np.arange(n1)\n",
    "    I2 = np.arange(n2)\n",
    "    return w(I1[:,None] * I2[None,:], n1*n2).astype('complex64')\n",
    "\n",
    "def make_fft(config, n, m):\n",
    "    fft_n = generate_fft(config, \"notw_complex\", n=n)\n",
    "    fft_m = generate_fft(config, \"twiddle_complex\", n=m)\n",
    "    W = make_twiddle(n, m)[:,1:].copy()\n",
    "    W1 = make_twiddle(m, n).conj()\n",
    "\n",
    "    def fft1(x):\n",
    "        y = np.zeros_like(x).reshape([m, n])\n",
    "        z = np.zeros_like(x)\n",
    "        fft_n(x.reshape([n, m]).T, y)\n",
    "        y *= W1\n",
    "        fft_m(y.T, z.reshape([m, n]).T)\n",
    "        return z\n",
    "\n",
    "    def fft(x):\n",
    "        y = np.zeros_like(x).reshape([m, n])\n",
    "        fft_n(x.reshape([n, m]).T, y)\n",
    "        fft_m(y.T, W)\n",
    "        return y.flatten()\n",
    "\n",
    "    return fft"
   ]
  },
  {
   "cell_type": "code",
   "execution_count": 7,
   "metadata": {},
   "outputs": [
    {
     "name": "stderr",
     "output_type": "stream",
     "text": [
      "Uncaught error running job: 140240412823184, Command '['g++', '-x', 'c++', '-O3', '-include', 'genfft/codelet.hh', '-shared', '-o', 'lib/30c8ab0d0557472a89f19e24e6970a93.so', '-']' returned non-zero exit status 1.\n",
      "Flushing queue and waiting for threads to close.\n"
     ]
    },
    {
     "name": "stdout",
     "output_type": "stream",
     "text": [
      "Exception of type <class 'subprocess.CalledProcessError'> :\n",
      "Command '['g++', '-x', 'c++', '-O3', '-include', 'genfft/codelet.hh', '-shared', '-o', 'lib/30c8ab0d0557472a89f19e24e6970a93.so', '-']' returned non-zero exit status 1.\n",
      "<stdin>:9:14: fout: ‘__constant’ has not been declared\n",
      "<stdin>:9:27: fout: expected ‘,’ or ‘...’ before ‘*’ token\n",
      "<stdin>: In functie ‘void fft(R*, int)’:\n",
      "<stdin>:13:14: fout: ‘mb’ was not declared in this scope; did you mean ‘m’?\n",
      "<stdin>:13:18: fout: ‘W’ was not declared in this scope\n",
      "<stdin>:13:40: fout: ‘me’ was not declared in this scope; did you mean ‘m’?\n",
      "<stdin>:14:31: fout: ‘ms’ was not declared in this scope; did you mean ‘m’?\n",
      "<stdin>:14:71: fout: ‘rs’ was not declared in this scope; did you mean ‘ri’?\n",
      "<stdin>:16:12: fout: ‘ii’ was not declared in this scope; did you mean ‘ri’?\n",
      "\n"
     ]
    }
   ],
   "source": [
    "import subprocess\n",
    "\n",
    "try:\n",
    "    fft12 = make_fft(cfg, 3, 4)\n",
    "except subprocess.CalledProcessError as e:\n",
    "    print(e.stderr)"
   ]
  },
  {
   "cell_type": "code",
   "execution_count": 8,
   "metadata": {},
   "outputs": [
    {
     "data": {
      "text/plain": [
       "array([[66. +0.j       , -6.+22.392303j , -6.+10.392304j ],\n",
       "       [-6. +6.j       , -6. +3.464101j , -6. +1.6076956j],\n",
       "       [-6. +0.j       , -6. -1.6076956j, -6. -3.464101j ],\n",
       "       [-6. -6.j       , -6.-10.392304j , -6.-22.392303j ]],\n",
       "      dtype=complex64)"
      ]
     },
     "execution_count": 8,
     "metadata": {},
     "output_type": "execute_result"
    }
   ],
   "source": [
    "x = np.arange(12, dtype='complex64')\n",
    "fft12(x).reshape([4, 3])"
   ]
  },
  {
   "cell_type": "code",
   "execution_count": 9,
   "metadata": {},
   "outputs": [
    {
     "data": {
      "text/plain": [
       "array([66.+0.0000000e+00j, -6.+2.2392305e+01j, -6.+1.0392304e+01j,\n",
       "       -6.+6.0000000e+00j, -6.+3.4641016e+00j, -6.+1.6076951e+00j,\n",
       "       -6.-8.8817842e-16j, -6.-1.6076951e+00j, -6.-3.4641016e+00j,\n",
       "       -6.-6.0000000e+00j, -6.-1.0392304e+01j, -6.-2.2392305e+01j],\n",
       "      dtype=complex64)"
      ]
     },
     "execution_count": 9,
     "metadata": {},
     "output_type": "execute_result"
    }
   ],
   "source": [
    "np.fft.fft(x).astype('complex64')"
   ]
  },
  {
   "cell_type": "code",
   "execution_count": null,
   "metadata": {},
   "outputs": [],
   "source": []
  }
 ],
 "metadata": {
  "kernelspec": {
   "display_name": "Python 3",
   "language": "python",
   "name": "python3"
  },
  "language_info": {
   "codemirror_mode": {
    "name": "ipython",
    "version": 3
   },
   "file_extension": ".py",
   "mimetype": "text/x-python",
   "name": "python",
   "nbconvert_exporter": "python",
   "pygments_lexer": "ipython3",
   "version": "3.7.6"
  }
 },
 "nbformat": 4,
 "nbformat_minor": 4
}
