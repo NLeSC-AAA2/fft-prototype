{
 "cells": [
  {
   "cell_type": "code",
   "execution_count": 1,
   "metadata": {},
   "outputs": [],
   "source": [
    "from fftw import generate_fft, default_config\n",
    "import numpy as np"
   ]
  },
  {
   "cell_type": "code",
   "execution_count": 3,
   "metadata": {},
   "outputs": [],
   "source": [
    "default_config[\"generator_path\"] = \"../genfft\"\n",
    "default_config[\"compile_args\"] = [\"-x\", \"c++\", \"-O3\", \"-include\", \"fftw/codelet.hh\", \"-shared\"]\n",
    "fft5 = generate_fft(default_config, \"notw\", n=5)"
   ]
  },
  {
   "cell_type": "code",
   "execution_count": 5,
   "metadata": {},
   "outputs": [],
   "source": [
    "x = np.arange(5, dtype='complex64')"
   ]
  },
  {
   "cell_type": "code",
   "execution_count": 6,
   "metadata": {},
   "outputs": [],
   "source": [
    "y = np.zeros_like(x)"
   ]
  },
  {
   "cell_type": "code",
   "execution_count": 7,
   "metadata": {},
   "outputs": [],
   "source": [
    "fft5(x, y)"
   ]
  },
  {
   "cell_type": "code",
   "execution_count": 8,
   "metadata": {},
   "outputs": [
    {
     "data": {
      "text/plain": [
       "array([10. +0.j       , -2.5+3.440955j , -2.5+0.8122992j, -2.5-0.8122992j,\n",
       "       -2.5-3.440955j ], dtype=complex64)"
      ]
     },
     "execution_count": 8,
     "metadata": {},
     "output_type": "execute_result"
    }
   ],
   "source": [
    "y"
   ]
  },
  {
   "cell_type": "code",
   "execution_count": 39,
   "metadata": {},
   "outputs": [],
   "source": [
    "fft16 = generate_fft(default_config, \"notw\", n=16)\n",
    "fft4 = generate_fft(default_config, \"notw\", n=4)\n",
    "fft2 = generate_fft(default_config, \"notw\", n=2)"
   ]
  },
  {
   "cell_type": "code",
   "execution_count": 40,
   "metadata": {},
   "outputs": [],
   "source": [
    "x = np.arange(16, dtype='complex64')\n",
    "y = np.zeros_like(x)"
   ]
  },
  {
   "cell_type": "code",
   "execution_count": 56,
   "metadata": {},
   "outputs": [],
   "source": [
    "def w(k, n):\n",
    "    return np.exp(-2j * np.pi * k / n)\n",
    "\n",
    "\n",
    "def fft_p2(x):\n",
    "    y = np.zeros_like(x)\n",
    "    n = x.size\n",
    "    if n == 1:\n",
    "        return x\n",
    "#         fft2(x, y)\n",
    "#     elif n == 4:\n",
    "#         fft4(x, y)\n",
    "    else:\n",
    "        a = fft_p2(x[::2])\n",
    "        b = fft_p2(x[1::2])\n",
    "        c = w(np.arange(n//2, dtype='float32'), n)\n",
    "        y[n//2:] = a + c * b\n",
    "        y[:n//2] = a - c * b\n",
    "        \n",
    "    return y"
   ]
  },
  {
   "cell_type": "code",
   "execution_count": 57,
   "metadata": {},
   "outputs": [
    {
     "data": {
      "text/plain": [
       "array([  0.        +0.j      ,  -5.071597  -6.975129j,\n",
       "         6.6274166-16.j      ,  38.91514  +20.153154j,\n",
       "         0.        +0.j      ,  22.339705 +63.466866j,\n",
       "       -38.627415 +16.j      , -24.183239 -27.661419j,\n",
       "         0.        +0.j      , -24.183239 +27.661423j,\n",
       "       -38.62742  -16.j      ,  22.339697 -63.466866j,\n",
       "         0.        +0.j      ,  38.91513  -20.15316j ,\n",
       "         6.6274157+15.999999j,  -5.0715933 +6.975128j], dtype=complex64)"
      ]
     },
     "execution_count": 57,
     "metadata": {},
     "output_type": "execute_result"
    }
   ],
   "source": [
    "fft_p2(x)"
   ]
  },
  {
   "cell_type": "code",
   "execution_count": 43,
   "metadata": {},
   "outputs": [],
   "source": [
    "fft16(x, y)"
   ]
  },
  {
   "cell_type": "code",
   "execution_count": 44,
   "metadata": {},
   "outputs": [
    {
     "data": {
      "text/plain": [
       "array([120. +0.j       ,  -8.+40.218716j ,  -8.+19.31371j  ,\n",
       "        -8.+11.972846j ,  -8. +8.j       ,  -8. +5.3454294j,\n",
       "        -8. +3.3137083j,  -8. +1.5912971j,  -8. +0.j       ,\n",
       "        -8. -1.5912971j,  -8. -3.3137083j,  -8. -5.3454294j,\n",
       "        -8. -8.j       ,  -8.-11.972846j ,  -8.-19.31371j  ,\n",
       "        -8.-40.218716j ], dtype=complex64)"
      ]
     },
     "execution_count": 44,
     "metadata": {},
     "output_type": "execute_result"
    }
   ],
   "source": [
    "y"
   ]
  },
  {
   "cell_type": "code",
   "execution_count": null,
   "metadata": {},
   "outputs": [],
   "source": []
  }
 ],
 "metadata": {
  "kernelspec": {
   "display_name": "Python 3",
   "language": "python",
   "name": "python3"
  },
  "language_info": {
   "codemirror_mode": {
    "name": "ipython",
    "version": 3
   },
   "file_extension": ".py",
   "mimetype": "text/x-python",
   "name": "python",
   "nbconvert_exporter": "python",
   "pygments_lexer": "ipython3",
   "version": "3.7.2+"
  }
 },
 "nbformat": 4,
 "nbformat_minor": 2
}
