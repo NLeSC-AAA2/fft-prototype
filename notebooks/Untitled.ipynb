{
 "cells": [
  {
   "cell_type": "code",
   "execution_count": 2,
   "metadata": {},
   "outputs": [],
   "source": [
    "from fftw import generate_fft, default_config\n",
    "import numpy as np"
   ]
  },
  {
   "cell_type": "code",
   "execution_count": 3,
   "metadata": {},
   "outputs": [],
   "source": [
    "default_config[\"generator_path\"] = \"../genfft\"\n",
    "default_config[\"compile_args\"] = [\"-x\", \"c++\", \"-O3\", \"-include\", \"fftw/codelet.hh\", \"-shared\"]\n",
    "fft5 = generate_fft(default_config, \"notw\", n=5)"
   ]
  },
  {
   "cell_type": "code",
   "execution_count": 4,
   "metadata": {},
   "outputs": [],
   "source": [
    "x = np.arange(5, dtype='complex64')"
   ]
  },
  {
   "cell_type": "code",
   "execution_count": 5,
   "metadata": {},
   "outputs": [],
   "source": [
    "y = np.zeros_like(x)"
   ]
  },
  {
   "cell_type": "code",
   "execution_count": 6,
   "metadata": {},
   "outputs": [],
   "source": [
    "fft5(x, y)"
   ]
  },
  {
   "cell_type": "code",
   "execution_count": 7,
   "metadata": {},
   "outputs": [
    {
     "data": {
      "text/plain": [
       "array([10. +0.j       , -2.5+3.440955j , -2.5+0.8122992j, -2.5-0.8122992j,\n",
       "       -2.5-3.440955j ], dtype=complex64)"
      ]
     },
     "execution_count": 7,
     "metadata": {},
     "output_type": "execute_result"
    }
   ],
   "source": [
    "y"
   ]
  },
  {
   "cell_type": "code",
   "execution_count": 8,
   "metadata": {},
   "outputs": [],
   "source": [
    "fft16 = generate_fft(default_config, \"notw\", n=16)\n",
    "fft4 = generate_fft(default_config, \"notw\", n=4)\n",
    "fft2 = generate_fft(default_config, \"notw\", n=2)\n",
    "twiddle4 = generate_fft(default_config, \"twiddle\", n=4)"
   ]
  },
  {
   "cell_type": "code",
   "execution_count": 9,
   "metadata": {},
   "outputs": [],
   "source": [
    "x = np.arange(16, dtype='complex64')\n",
    "y = np.zeros_like(x)"
   ]
  },
  {
   "cell_type": "code",
   "execution_count": 16,
   "metadata": {},
   "outputs": [],
   "source": [
    "def w(k, n):\n",
    "    return np.exp(-2j * np.pi * k / n)\n",
    "\n",
    "\n",
    "def fft_p16(x):\n",
    "    yA = np.zeros_like(x).reshape([4,4])\n",
    "    yB = yA.T\n",
    "    z = np.zeros_like(x)\n",
    "    fft4(x.reshape([4,4]).T, yA)\n",
    "    I = np.arange(4)\n",
    "    yA *= w(I[:,None]*I[None,:], 16)\n",
    "    fft4(yB, z.reshape([4,4]).T)\n",
    "    return z\n",
    "\n",
    "\n",
    "def fft_t16(x):\n",
    "    yA = np.zeros_like(x).reshape([4,4])\n",
    "    yB = yA.T\n",
    "    z = np.zeros_like(x)\n",
    "    fft4(x.reshape([4,4]).T, yA)\n",
    "    I = np.arange(4)\n",
    "    twiddle = w(I[:,None]*I[None,1:], 16).astype('complex64')\n",
    "    # print(yA, twiddle, yA.strides, yB.strides)\n",
    "    twiddle4(yB, twiddle)\n",
    "    return y.flatten()"
   ]
  },
  {
   "cell_type": "code",
   "execution_count": 17,
   "metadata": {},
   "outputs": [
    {
     "data": {
      "text/plain": [
       "array([120. +0.j       ,  -8.+40.21872j  ,  -8.+19.31371j  ,\n",
       "        -8.+11.972846j ,  -8. +8.j       ,  -8. +5.3454294j,\n",
       "        -8. +3.3137083j,  -8. +1.591299j ,  -8. +0.j       ,\n",
       "        -8. -1.591299j ,  -8. -3.3137083j,  -8. -5.3454294j,\n",
       "        -8. -8.j       ,  -8.-11.972846j ,  -8.-19.31371j  ,\n",
       "        -8.-40.21872j  ], dtype=complex64)"
      ]
     },
     "execution_count": 17,
     "metadata": {},
     "output_type": "execute_result"
    }
   ],
   "source": [
    "fft_p16(x)"
   ]
  },
  {
   "cell_type": "code",
   "execution_count": null,
   "metadata": {},
   "outputs": [],
   "source": [
    "fft_t16(x)"
   ]
  },
  {
   "cell_type": "code",
   "execution_count": 15,
   "metadata": {},
   "outputs": [],
   "source": [
    "I = np.arange(4)\n",
    "twiddle = w(I[:,None]*I[None,1:], 16).astype('complex64')"
   ]
  },
  {
   "cell_type": "code",
   "execution_count": null,
   "metadata": {},
   "outputs": [],
   "source": [
    "twiddle4(x.reshape(4,4), twiddle)"
   ]
  },
  {
   "cell_type": "code",
   "execution_count": 19,
   "metadata": {},
   "outputs": [
    {
     "data": {
      "text/plain": [
       "array([ 6.+0.j, -2.+2.j, -2.+0.j, -2.-2.j,  4.+0.j,  5.+0.j,  6.+0.j,\n",
       "        7.+0.j,  8.+0.j,  9.+0.j, 10.+0.j, 11.+0.j, 12.+0.j, 13.+0.j,\n",
       "       14.+0.j, 15.+0.j], dtype=complex64)"
      ]
     },
     "execution_count": 19,
     "metadata": {},
     "output_type": "execute_result"
    }
   ],
   "source": [
    "x"
   ]
  },
  {
   "cell_type": "code",
   "execution_count": null,
   "metadata": {},
   "outputs": [],
   "source": []
  }
 ],
 "metadata": {
  "kernelspec": {
   "display_name": "Python 3",
   "language": "python",
   "name": "python3"
  },
  "language_info": {
   "codemirror_mode": {
    "name": "ipython",
    "version": 3
   },
   "file_extension": ".py",
   "mimetype": "text/x-python",
   "name": "python",
   "nbconvert_exporter": "python",
   "pygments_lexer": "ipython3",
   "version": "3.7.2"
  }
 },
 "nbformat": 4,
 "nbformat_minor": 2
}
