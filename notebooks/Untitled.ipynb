{
 "cells": [
  {
   "cell_type": "code",
   "execution_count": 1,
   "metadata": {},
   "outputs": [],
   "source": [
    "from genfft import generate_fft, default_config, fft_two_factor_twiddle\n",
    "import numpy as np\n",
    "from copy import copy"
   ]
  },
  {
   "cell_type": "code",
   "execution_count": 2,
   "metadata": {},
   "outputs": [],
   "source": [
    "cfg = copy(default_config)\n",
    "cfg[\"generator_path\"] = \"../genfft\"\n",
    "cfg[\"compile_args\"] = [\"-x\", \"c++\", \"-O3\", \"-include\", \"genfft/codelet.hh\", \"-shared\"]"
   ]
  },
  {
   "cell_type": "code",
   "execution_count": 3,
   "metadata": {},
   "outputs": [
    {
     "data": {
      "text/plain": [
       "array([ 0.0000000e+00+0.00000000e+00j,  8.8817842e-16-1.37861639e-06j,\n",
       "        0.0000000e+00-4.24942073e-07j,  0.0000000e+00+0.00000000e+00j,\n",
       "        0.0000000e+00-5.39011657e-07j, -8.8817842e-16+4.24942073e-07j,\n",
       "        0.0000000e+00+0.00000000e+00j, -8.8817842e-16-4.24942073e-07j,\n",
       "        0.0000000e+00+5.39011657e-07j,  0.0000000e+00+0.00000000e+00j,\n",
       "        0.0000000e+00+4.24942073e-07j,  8.8817842e-16+1.37861639e-06j])"
      ]
     },
     "execution_count": 3,
     "metadata": {},
     "output_type": "execute_result"
    }
   ],
   "source": [
    "fft12 = fft_two_factor_twiddle(cfg, 3, 4)\n",
    "\n",
    "x = np.arange(12, dtype='complex64')\n",
    "\n",
    "fft12(x) - np.fft.fft(x)"
   ]
  },
  {
   "cell_type": "code",
   "execution_count": 4,
   "metadata": {},
   "outputs": [
    {
     "data": {
      "text/plain": [
       "8.962143078707292e-06"
      ]
     },
     "execution_count": 4,
     "metadata": {},
     "output_type": "execute_result"
    }
   ],
   "source": [
    "fft27 = fft_two_factor_twiddle(cfg, 3, 9)\n",
    "x = np.arange(27, dtype='complex64')\n",
    "np.abs(fft27(x) - np.fft.fft(x)).max()"
   ]
  },
  {
   "cell_type": "code",
   "execution_count": 5,
   "metadata": {},
   "outputs": [
    {
     "data": {
      "text/plain": [
       "array([ 3. +0.j       , -1.5+0.8660254j, -1.5-0.8660254j], dtype=complex64)"
      ]
     },
     "execution_count": 5,
     "metadata": {},
     "output_type": "execute_result"
    }
   ],
   "source": [
    "N = 3\n",
    "fftN = generate_fft(cfg, \"notw_complex\", n=N)\n",
    "x = np.arange(N, dtype='complex64')\n",
    "y = np.zeros_like(x)\n",
    "fftN(x, y) \n",
    "y"
   ]
  },
  {
   "cell_type": "code",
   "execution_count": 4,
   "metadata": {},
   "outputs": [],
   "source": [
    "def w(k, n):\n",
    "    return np.exp(2j * np.pi * k / n)\n",
    "\n",
    "def make_twiddle(n1, n2):\n",
    "    I1 = np.arange(n1)\n",
    "    I2 = np.arange(n2)\n",
    "    return w(I1[:,None] * I2[None,:], n1*n2).astype('complex64')\n",
    "\n",
    "def make_fft(config, n, m):\n",
    "    fft_n = generate_fft(config, \"notw_complex\", n=n)\n",
    "    fft_m = generate_fft(config, \"twiddle_complex\", n=m)\n",
    "    W = make_twiddle(n, m)[:,1:].copy()\n",
    "    W1 = make_twiddle(m, n).conj()\n",
    "\n",
    "    def fft1(x):\n",
    "        y = np.zeros_like(x).reshape([m, n])\n",
    "        z = np.zeros_like(x)\n",
    "        fft_n(x.reshape([n, m]).T, y)\n",
    "        y *= W1\n",
    "        fft_m(y.T, z.reshape([m, n]).T)\n",
    "        return z\n",
    "\n",
    "    def fft(x):\n",
    "        y = np.zeros_like(x).reshape([m, n])\n",
    "        fft_n(x.reshape([n, m]).T, y)\n",
    "        fft_m(y.T, W)\n",
    "        return y.flatten()\n",
    "\n",
    "    return fft"
   ]
  },
  {
   "cell_type": "code",
   "execution_count": 5,
   "metadata": {},
   "outputs": [],
   "source": [
    "import subprocess\n",
    "\n",
    "try:\n",
    "    fft12 = make_fft(cfg, 3, 4)\n",
    "except subprocess.CalledProcessError as e:\n",
    "    print(e.stderr)"
   ]
  },
  {
   "cell_type": "code",
   "execution_count": 6,
   "metadata": {},
   "outputs": [
    {
     "name": "stdout",
     "output_type": "stream",
     "text": [
      "notw 3 4 [2, 8] [6, 2]\n",
      "twiddle 4 3 [2, 6]\n"
     ]
    },
    {
     "data": {
      "text/plain": [
       "array([[66. +0.j       , -6.+22.392303j , -6.+10.392304j ],\n",
       "       [-6. +6.j       , -6. +3.464101j , -6. +1.6076956j],\n",
       "       [-6. +0.j       , -6. -1.6076956j, -6. -3.464101j ],\n",
       "       [-6. -6.j       , -6.-10.392304j , -6.-22.392303j ]],\n",
       "      dtype=complex64)"
      ]
     },
     "execution_count": 6,
     "metadata": {},
     "output_type": "execute_result"
    }
   ],
   "source": [
    "x = np.arange(12, dtype='complex64')\n",
    "fft12(x).reshape([4, 3])"
   ]
  },
  {
   "cell_type": "code",
   "execution_count": 13,
   "metadata": {},
   "outputs": [
    {
     "data": {
      "text/plain": [
       "array([66. +0.j       , -6.+22.392305j , -6.+10.392304j , -6. +6.j       ,\n",
       "       -6. +3.4641016j, -6. +1.6076951j, -6. +0.j       , -6. -1.6076951j,\n",
       "       -6. -3.4641016j, -6. -6.j       , -6.-10.392304j , -6.-22.392305j ],\n",
       "      dtype=complex64)"
      ]
     },
     "execution_count": 13,
     "metadata": {},
     "output_type": "execute_result"
    }
   ],
   "source": [
    "np.fft.fft(x).astype('complex64')"
   ]
  },
  {
   "cell_type": "code",
   "execution_count": 1,
   "metadata": {},
   "outputs": [],
   "source": [
    "!rm lib/*"
   ]
  },
  {
   "cell_type": "code",
   "execution_count": 4,
   "metadata": {},
   "outputs": [
    {
     "name": "stdout",
     "output_type": "stream",
     "text": [
      "Requirement already satisfied: sympy in /home/johannes/.local/share/workon/triple-a2/lib/python3.7/site-packages (1.3)\n",
      "Requirement already satisfied: mpmath>=0.19 in /home/johannes/.local/share/workon/triple-a2/lib/python3.7/site-packages (from sympy) (1.1.0)\n"
     ]
    }
   ],
   "source": [
    "!pip install sympy"
   ]
  },
  {
   "cell_type": "code",
   "execution_count": 5,
   "metadata": {},
   "outputs": [],
   "source": [
    "from sympy.ntheory import factorint"
   ]
  },
  {
   "cell_type": "code",
   "execution_count": 6,
   "metadata": {},
   "outputs": [
    {
     "data": {
      "text/plain": [
       "{2: 2, 3: 1}"
      ]
     },
     "execution_count": 6,
     "metadata": {},
     "output_type": "execute_result"
    }
   ],
   "source": [
    "factorint(12)"
   ]
  },
  {
   "cell_type": "code",
   "execution_count": null,
   "metadata": {},
   "outputs": [],
   "source": []
  }
 ],
 "metadata": {
  "kernelspec": {
   "display_name": "Python 3",
   "language": "python",
   "name": "python3"
  },
  "language_info": {
   "codemirror_mode": {
    "name": "ipython",
    "version": 3
   },
   "file_extension": ".py",
   "mimetype": "text/x-python",
   "name": "python",
   "nbconvert_exporter": "python",
   "pygments_lexer": "ipython3",
   "version": "3.7.2"
  }
 },
 "nbformat": 4,
 "nbformat_minor": 2
}
