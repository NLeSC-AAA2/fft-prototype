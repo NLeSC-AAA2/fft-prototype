{
 "cells": [
  {
   "cell_type": "code",
   "execution_count": 1,
   "metadata": {},
   "outputs": [],
   "source": [
    "import numpy as np\n",
    "import math\n",
    "from itertools import groupby\n",
    "from functools import partial\n",
    "\n",
    "def make_twiddle(n1, n2):\n",
    "    def w(k, n):\n",
    "        return np.exp(2j * np.pi * k / n)\n",
    "\n",
    "    I1 = np.arange(n1)\n",
    "    I2 = np.arange(n2)\n",
    "    return w(I1[:,None] * I2[None,:], n1*n2).astype('complex64')"
   ]
  },
  {
   "cell_type": "markdown",
   "metadata": {},
   "source": [
    "## Radix-n data streamlining\n",
    "\n",
    "For a radix-2 FFT, it is possible to divide input data in such a way that every butterfly operation reads and writes to two different arrays in memory. This could be advantageous for an implementation on the FPGA. The trick is to separate data locations based on the parity of their index.\n",
    "\n",
    "### Parity\n",
    "\n",
    "The index of each element in the array can be written in binary. In the case of a radix-2 FFT, we can see the array being reshaped in a $[2, 2, 2, \\dots]$ shape. Every stage of the $n=2^k$ sized radix-2 FFT is being performed in a different dimension of the $k$-dimensional reshaped array. The indexing in this multi-dimensional array is the same as the binary notation for the linear index. That means that each time the 2-FFT is performed, the multi-index of the elements involved will differ by one bit in the linear index. Separating the array based on the parity of the index will guarantee that each 2-FFT operation reads and writes one (complex) number from each set. The parity is the sum of all the individual bits, modulo 2.\n",
    "\n",
    "$$P_2(i) = \\left(\\sum_k b_k\\right) \\mod 2,\\quad {\\rm where}\\, i := \\sum_k b_k 2^k$$\n",
    "\n",
    "We can extend this concept to the radix-4 FFT, on 4 data channels.\n",
    "\n",
    "### 4-parity\n",
    "\n",
    "In the radix-4 FFT we can view the array as being reshaped to a $[4, 4, 4, \\dots]$ shape. The multi-index into this array is equivalent to the quarternary number notation of the linear index. Similar to the radix-2 parity, we can define the radix-4 parity as the sum of each quarternary digit in the index, modulo 4.\n",
    "\n",
    "$$P_4(i) = \\left(\\sum_k q_k\\right) \\mod 4,\\quad {\\rm where}\\, i := \\sum_k q_k 4^k$$\n",
    "\n",
    "This would ensure that each 4-FFT reads its data from the 4 different input channels. We define the `parity` function to work with any radix:"
   ]
  },
  {
   "cell_type": "code",
   "execution_count": 2,
   "metadata": {},
   "outputs": [],
   "source": [
    "def digits(n, i):\n",
    "    \"\"\"Generates the n-numbered digits of i, in reverse order.\"\"\"\n",
    "    while True:\n",
    "        if i == 0:\n",
    "            return\n",
    "        else:\n",
    "            i, q = divmod(i, n)\n",
    "            yield q\n",
    "            \n",
    "def parity(n, i):\n",
    "    return sum(digits(n, i)) % n"
   ]
  },
  {
   "cell_type": "markdown",
   "metadata": {},
   "source": [
    "To see which index belongs in which channel, we use a `groupby` on keyed the `parity` function"
   ]
  },
  {
   "cell_type": "code",
   "execution_count": 3,
   "metadata": {},
   "outputs": [],
   "source": [
    "def channels(N, radix):\n",
    "    parity_r = partial(parity, radix)\n",
    "    return groupby(sorted(range(N), key=parity_r), parity_r)"
   ]
  },
  {
   "cell_type": "markdown",
   "metadata": {},
   "source": [
    "for instance, for radix-2, size 16, this creates the following channels"
   ]
  },
  {
   "cell_type": "code",
   "execution_count": 4,
   "metadata": {},
   "outputs": [
    {
     "name": "stdout",
     "output_type": "stream",
     "text": [
      "0 [0, 3, 5, 6, 9, 10, 12, 15]\n",
      "1 [1, 2, 4, 7, 8, 11, 13, 14]\n"
     ]
    }
   ],
   "source": [
    "for (g, i) in channels(16, 2):\n",
    "    print(g, list(i))"
   ]
  },
  {
   "cell_type": "markdown",
   "metadata": {},
   "source": [
    "### Example: radix-2 16-FFT\n",
    "\n",
    "We can implement the 16-FFT as a radix-2 operation on an array of shape $[2,2,2,2]$."
   ]
  },
  {
   "cell_type": "code",
   "execution_count": 5,
   "metadata": {},
   "outputs": [],
   "source": [
    "def fft2(x0, x1):\n",
    "    y = np.zeros(shape=(2,)+x0.shape, dtype='complex64')\n",
    "    y[0] = x0 + x1\n",
    "    y[1] = x0 - x1\n",
    "    x0[:] = y[0]\n",
    "    x1[:] = y[1]"
   ]
  },
  {
   "cell_type": "markdown",
   "metadata": {},
   "source": [
    "To check whether our grouping works, we create a dummy array, and a dummy `fft2_check` that just checks if all arguments are in different channels."
   ]
  },
  {
   "cell_type": "code",
   "execution_count": 6,
   "metadata": {},
   "outputs": [],
   "source": [
    "def fft2_check(x0, x1):\n",
    "    assert np.all(x0 != x1)"
   ]
  },
  {
   "cell_type": "code",
   "execution_count": 7,
   "metadata": {},
   "outputs": [],
   "source": [
    "x = np.zeros(shape=(16,), dtype=int)\n",
    "for (g, i) in channels(16, 2):\n",
    "    x[list(i)] = g"
   ]
  },
  {
   "cell_type": "code",
   "execution_count": 8,
   "metadata": {},
   "outputs": [
    {
     "name": "stdout",
     "output_type": "stream",
     "text": [
      "succeeded\n"
     ]
    }
   ],
   "source": [
    "N = 16\n",
    "radix = 2\n",
    "\n",
    "factors = [radix] * int(math.log(N, radix))\n",
    "s = x.reshape(factors).transpose()\n",
    "\n",
    "try:\n",
    "    for k in range(len(factors)):\n",
    "        fft2_check(np.take(s, 0, axis=k), np.take(s, 1, axis=k))\n",
    "except AssertionError:\n",
    "    print(\"failed\")\n",
    "else:\n",
    "    print(\"succeeded\")"
   ]
  },
  {
   "cell_type": "code",
   "execution_count": 9,
   "metadata": {},
   "outputs": [],
   "source": [
    "# x = (np.random.normal(size=N) + 1j * np.random.normal(size=N)).astype('complex64')\n",
    "x = np.arange(0, N, dtype='complex64')\n",
    "s = x.copy().reshape(factors).transpose()\n",
    "\n",
    "fft2(s[...,0], s[...,1])\n",
    "\n",
    "for k in range(1, len(factors)):\n",
    "    w = make_twiddle(2, 2**k).conj()[:,:]\n",
    "    z = s.reshape([-1, 2, 2**k])\n",
    "    z *= w\n",
    "    fft2(z[..., 0, :], z[..., 1, :])\n",
    "    s = z"
   ]
  },
  {
   "cell_type": "code",
   "execution_count": 10,
   "metadata": {},
   "outputs": [
    {
     "data": {
      "text/plain": [
       "array([120.        +0.j       ,  -7.9999995+40.21872j  ,\n",
       "        -8.       +19.31371j  ,  -8.       +11.972846j ,\n",
       "        -8.        +8.j       ,  -8.        +5.3454294j,\n",
       "        -8.        +3.3137083j,  -8.        +1.591299j ,\n",
       "        -8.        +0.j       ,  -8.        -1.591299j ,\n",
       "        -8.        -3.3137083j,  -8.        -5.3454294j,\n",
       "        -8.        -8.j       ,  -8.       -11.972846j ,\n",
       "        -8.       -19.31371j  ,  -7.9999995-40.21872j  ], dtype=complex64)"
      ]
     },
     "execution_count": 10,
     "metadata": {},
     "output_type": "execute_result"
    }
   ],
   "source": [
    "s.flatten()"
   ]
  },
  {
   "cell_type": "code",
   "execution_count": 11,
   "metadata": {},
   "outputs": [
    {
     "data": {
      "text/plain": [
       "3.577337255373132e-06"
      ]
     },
     "execution_count": 11,
     "metadata": {},
     "output_type": "execute_result"
    }
   ],
   "source": [
    "abs(s.flatten() - np.fft.fft(x)).max()"
   ]
  },
  {
   "cell_type": "markdown",
   "metadata": {},
   "source": [
    "### Example: radix-4 64-FFT"
   ]
  },
  {
   "cell_type": "code",
   "execution_count": 12,
   "metadata": {},
   "outputs": [
    {
     "name": "stdout",
     "output_type": "stream",
     "text": [
      "0 [0, 7, 10, 13, 19, 22, 25, 28, 34, 37, 40, 47, 49, 52, 59, 62]\n",
      "1 [1, 4, 11, 14, 16, 23, 26, 29, 35, 38, 41, 44, 50, 53, 56, 63]\n",
      "2 [2, 5, 8, 15, 17, 20, 27, 30, 32, 39, 42, 45, 51, 54, 57, 60]\n",
      "3 [3, 6, 9, 12, 18, 21, 24, 31, 33, 36, 43, 46, 48, 55, 58, 61]\n"
     ]
    }
   ],
   "source": [
    "for g, i in channels(64, 4):\n",
    "    print(g, list(i))"
   ]
  },
  {
   "cell_type": "code",
   "execution_count": 13,
   "metadata": {},
   "outputs": [],
   "source": [
    "from itertools import combinations\n",
    "import math\n",
    "\n",
    "def fft4_check(x0, x1, x2, x3):\n",
    "    for (a, b) in combinations([x0, x1, x2, x3], 2):\n",
    "        assert np.all(a != b)"
   ]
  },
  {
   "cell_type": "code",
   "execution_count": 14,
   "metadata": {},
   "outputs": [],
   "source": [
    "N = 64\n",
    "radix = 4\n",
    "\n",
    "x = np.zeros(shape=(N,), dtype=int)\n",
    "for g, i in channels(N, radix):\n",
    "    x[list(i)] = g"
   ]
  },
  {
   "cell_type": "code",
   "execution_count": 15,
   "metadata": {},
   "outputs": [
    {
     "name": "stdout",
     "output_type": "stream",
     "text": [
      "succeeded\n"
     ]
    }
   ],
   "source": [
    "factors = [radix] * int(math.log(N, radix))\n",
    "s = x.reshape(factors)\n",
    "\n",
    "try:\n",
    "    for k in range(len(factors)):\n",
    "        fft4_check(*(np.take(s, i, axis=k) for i in range(radix)))\n",
    "except AssertionError:\n",
    "    print(\"failed\")\n",
    "else:\n",
    "    print(\"succeeded\")"
   ]
  },
  {
   "cell_type": "markdown",
   "metadata": {},
   "source": [
    "## Implementing the radix-4 FFT"
   ]
  },
  {
   "cell_type": "code",
   "execution_count": 16,
   "metadata": {},
   "outputs": [],
   "source": [
    "def fft4(x0, x1, x2, x3, w0=1, w1=1, w2=1, w3=1):\n",
    "    a = w0*x0 + w2*x2\n",
    "    b = w1*x1 + w3*x3\n",
    "    c = w0*x0 - w2*x2\n",
    "    d = w1*x1 - w3*x3\n",
    "    x0[:] = a + b\n",
    "    x1[:] = c - 1j*d\n",
    "    x2[:] = a - b\n",
    "    x3[:] = c + 1j*d"
   ]
  },
  {
   "cell_type": "code",
   "execution_count": 17,
   "metadata": {},
   "outputs": [],
   "source": [
    "x = np.arange(0, N, dtype='complex64')\n",
    "s = x.copy().reshape(factors).transpose()\n",
    "\n",
    "fft4(*(s[...,k] for k in range(4)))\n",
    "\n",
    "for k in range(1, len(factors)):\n",
    "    w = make_twiddle(4, 4**k).conj()[:,:]\n",
    "    z = s.reshape([-1, 4, 4**k])\n",
    "    z *= w\n",
    "    fft4(*(z[..., l, :] for l in range(4)))\n",
    "    s = z"
   ]
  },
  {
   "cell_type": "code",
   "execution_count": 18,
   "metadata": {},
   "outputs": [
    {
     "data": {
      "text/plain": [
       "2.5034746158780763e-05"
      ]
     },
     "execution_count": 18,
     "metadata": {},
     "output_type": "execute_result"
    }
   ],
   "source": [
    "abs(s.flatten() - np.fft.fft(x)).max()"
   ]
  },
  {
   "cell_type": "markdown",
   "metadata": {},
   "source": [
    "## OpenCL\n",
    "\n",
    "Each of the transforms are in-place, meaning we can do this in any order, but we don't know the system in the indices yet."
   ]
  },
  {
   "cell_type": "code",
   "execution_count": 19,
   "metadata": {},
   "outputs": [
    {
     "data": {
      "text/plain": [
       "array([[0, 1, 2, 3, 1, 2, 3, 0, 2, 3, 0, 1, 3, 0, 1, 2],\n",
       "       [1, 2, 3, 0, 2, 3, 0, 1, 3, 0, 1, 2, 0, 1, 2, 3],\n",
       "       [2, 3, 0, 1, 3, 0, 1, 2, 0, 1, 2, 3, 1, 2, 3, 0],\n",
       "       [3, 0, 1, 2, 0, 1, 2, 3, 1, 2, 3, 0, 2, 3, 0, 1]])"
      ]
     },
     "execution_count": 19,
     "metadata": {},
     "output_type": "execute_result"
    }
   ],
   "source": [
    "# Fill `x` with the integer id of the array to which the location belongs\n",
    "x = np.zeros(shape=(N,), dtype=int)\n",
    "for g, i in channels(N, radix):\n",
    "    x[list(i)] = g  # np.arange(N//radix, dtype=int)\n",
    "s = x.reshape(factors).transpose()\n",
    "\n",
    "perm = np.array([s[...,k].flatten() for k in range(4)])\n",
    "perm"
   ]
  },
  {
   "cell_type": "markdown",
   "metadata": {},
   "source": [
    "This pattern is the same for each iteration. Note that the permutation is always the same cycle starting at a different number. This means the top row gives us which of the four permutations is needed. Do we implement four different versions of `fft4` to implement each permutation?"
   ]
  },
  {
   "cell_type": "code",
   "execution_count": 20,
   "metadata": {},
   "outputs": [
    {
     "data": {
      "text/plain": [
       "array([[ 0,  7, 10, 13],\n",
       "       [ 1,  4, 11, 14],\n",
       "       [ 2,  5,  8, 15],\n",
       "       [ 3,  6,  9, 12]])"
      ]
     },
     "execution_count": 20,
     "metadata": {},
     "output_type": "execute_result"
    }
   ],
   "source": [
    "colid = np.argsort(perm[0]).reshape(4,4)\n",
    "colid"
   ]
  },
  {
   "cell_type": "markdown",
   "metadata": {},
   "source": [
    "These are the indices into the index array that will select which of the four permutated versions of `fft4` needs to be used."
   ]
  },
  {
   "cell_type": "markdown",
   "metadata": {},
   "source": [
    "Now for the indices into each channel:"
   ]
  },
  {
   "cell_type": "code",
   "execution_count": 21,
   "metadata": {},
   "outputs": [
    {
     "data": {
      "text/plain": [
       "array([[ 0,  1,  2,  3,  0,  1,  2,  3,  0,  1,  2,  3,  0,  1,  2,  3],\n",
       "       [ 4,  5,  6,  7,  4,  5,  6,  7,  4,  5,  6,  7,  4,  5,  6,  7],\n",
       "       [ 8,  9, 10, 11,  8,  9, 10, 11,  8,  9, 10, 11,  8,  9, 10, 11],\n",
       "       [12, 13, 14, 15, 12, 13, 14, 15, 12, 13, 14, 15, 12, 13, 14, 15]])"
      ]
     },
     "execution_count": 21,
     "metadata": {},
     "output_type": "execute_result"
    }
   ],
   "source": [
    "# Here `x` is the index into each source array\n",
    "x = np.zeros(shape=(N,), dtype=int)\n",
    "for g, i in channels(N, radix):\n",
    "    #x[list(i)] = g  # np.arange(N//radix, dtype=int)\n",
    "    x[list(i)] = np.arange(N//radix, dtype=int)\n",
    "s = x.reshape(factors).transpose()\n",
    "\n",
    "idx = np.array([s[...,k].flatten() for k in range(4)])\n",
    "idx"
   ]
  },
  {
   "cell_type": "markdown",
   "metadata": {},
   "source": [
    "So the first permutation is called with these indices"
   ]
  },
  {
   "cell_type": "code",
   "execution_count": 22,
   "metadata": {},
   "outputs": [
    {
     "data": {
      "text/plain": [
       "array([[ 0,  3,  2,  1],\n",
       "       [ 4,  7,  6,  5],\n",
       "       [ 8, 11, 10,  9],\n",
       "       [12, 15, 14, 13]])"
      ]
     },
     "execution_count": 22,
     "metadata": {},
     "output_type": "execute_result"
    }
   ],
   "source": [
    "idx[:,colid[0]]"
   ]
  },
  {
   "cell_type": "markdown",
   "metadata": {},
   "source": [
    "and so on ..., these all contain the same columns in different order. Meaning we can run each `fft4` permutation **with the same indices!**"
   ]
  },
  {
   "cell_type": "code",
   "execution_count": 23,
   "metadata": {},
   "outputs": [
    {
     "data": {
      "text/plain": [
       "array([[ 0,  4,  8, 12,  0,  4,  8, 12,  0,  4,  8, 12,  0,  4,  8, 12],\n",
       "       [ 1,  5,  9, 13,  1,  5,  9, 13,  1,  5,  9, 13,  1,  5,  9, 13],\n",
       "       [ 2,  6, 10, 14,  2,  6, 10, 14,  2,  6, 10, 14,  2,  6, 10, 14],\n",
       "       [ 3,  7, 11, 15,  3,  7, 11, 15,  3,  7, 11, 15,  3,  7, 11, 15]])"
      ]
     },
     "execution_count": 23,
     "metadata": {},
     "output_type": "execute_result"
    }
   ],
   "source": [
    "z = s.reshape([-1, 4, 4])\n",
    "idx = np.array([z[:,l,:].flatten() for l in range(4)])\n",
    "idx"
   ]
  },
  {
   "cell_type": "code",
   "execution_count": 24,
   "metadata": {},
   "outputs": [
    {
     "data": {
      "text/plain": [
       "array([[ 0, 12,  8,  4],\n",
       "       [ 1, 13,  9,  5],\n",
       "       [ 2, 14, 10,  6],\n",
       "       [ 3, 15, 11,  7]])"
      ]
     },
     "execution_count": 24,
     "metadata": {},
     "output_type": "execute_result"
    }
   ],
   "source": [
    "idx[:,colid[0]]"
   ]
  },
  {
   "cell_type": "code",
   "execution_count": 25,
   "metadata": {},
   "outputs": [],
   "source": [
    "z = s.reshape([-1, 4, 16])\n",
    "idx = np.array([z[:,l,:].flatten() for l in range(4)])"
   ]
  },
  {
   "cell_type": "code",
   "execution_count": 73,
   "metadata": {},
   "outputs": [
    {
     "data": {
      "text/plain": [
       "array([[ 4,  1, 14, 11],\n",
       "       [ 4,  1, 14, 11],\n",
       "       [ 4,  1, 14, 11],\n",
       "       [ 4,  1, 14, 11]])"
      ]
     },
     "execution_count": 73,
     "metadata": {},
     "output_type": "execute_result"
    }
   ],
   "source": [
    "idx[:,colid[1]]"
   ]
  },
  {
   "cell_type": "markdown",
   "metadata": {},
   "source": [
    "Only the last instance is different. However, note that these are the same indices as we found in computing the 4-parity."
   ]
  },
  {
   "cell_type": "markdown",
   "metadata": {},
   "source": [
    "# An algorithm by recipe"
   ]
  },
  {
   "cell_type": "code",
   "execution_count": 27,
   "metadata": {},
   "outputs": [],
   "source": [
    "from dataclasses import dataclass\n",
    "\n",
    "@dataclass\n",
    "class MultiChannel:\n",
    "    N: int\n",
    "    radix: int\n",
    "    \n",
    "    @property\n",
    "    def depth(self):\n",
    "        return int(math.log(self.N, self.radix))\n",
    "    \n",
    "    @property\n",
    "    def M(self):\n",
    "        return self.N//self.radix\n",
    "    \n",
    "    @property\n",
    "    def L(self):\n",
    "        return self.M//self.radix\n",
    "    \n",
    "    @property\n",
    "    def factors(self):\n",
    "        return [self.radix] * self.depth\n",
    "    \n",
    "    @property\n",
    "    def channels(self):\n",
    "        return channels(self.N, self.radix)\n",
    "    \n",
    "    @property\n",
    "    def channel_loc(self):\n",
    "        x = np.zeros(shape=(self.N,), dtype=int)\n",
    "        for g, i in self.channels:\n",
    "            x[list(i)] = g\n",
    "        return x.reshape(self.factors)\n",
    "    \n",
    "    @property\n",
    "    def index_loc(self):\n",
    "        x = np.zeros(shape=(self.N,), dtype=int)\n",
    "        for g, i in self.channels:\n",
    "            x[list(i)] = np.arange(self.M, dtype=int)\n",
    "        return x.reshape(self.factors)\n",
    "    \n",
    "    def mix(self, x):\n",
    "        return tuple(x[list(i)].copy() for g, i in self.channels)\n",
    "\n",
    "    def unmix(self, s):\n",
    "        x = np.zeros(shape=(self.N,), dtype='complex64')\n",
    "        for g, i in self.channels:\n",
    "            x[list(i)] = s[g]\n",
    "        return x"
   ]
  },
  {
   "cell_type": "code",
   "execution_count": 28,
   "metadata": {},
   "outputs": [],
   "source": [
    "def fft4x(x0, x1, x2, x3, i0, i1, i2, i3, w0=1, w1=1, w2=1, w3=1):\n",
    "    a = w0*x0[i0] + w2*x2[i2]\n",
    "    b = w1*x1[i1] + w3*x3[i3]\n",
    "    c = w0*x0[i0] - w2*x2[i2]\n",
    "    d = w1*x1[i1] - w3*x3[i3]\n",
    "    x0[i0] = a + b\n",
    "    x1[i1] = c - 1j*d\n",
    "    x2[i2] = a - b\n",
    "    x3[i3] = c + 1j*d"
   ]
  },
  {
   "cell_type": "code",
   "execution_count": 29,
   "metadata": {},
   "outputs": [],
   "source": [
    "mc = MultiChannel(64, 4)\n",
    "\n",
    "# let x be the input array\n",
    "x = np.arange(0, N, dtype='complex64')\n",
    "\n",
    "# <lin> ===========================================\n",
    "s_lin = x.copy().reshape(mc.factors).transpose()\n",
    "fft4(*(s_lin[...,k] for k in range(4)))\n",
    "# </lin> ==========================================\n",
    "\n",
    "mc =  MultiChannel(N=64, radix=4)\n",
    "\n",
    "x = np.arange(N, dtype='complex64')\n",
    "s = mc.mix(x.reshape(mc.factors).transpose().flatten())\n",
    "    \n",
    "# 16 fft-4, the inner-loop is best left unfolded\n",
    "ca = mc.channel_loc.reshape([-1, 4])\n",
    "ia = mc.index_loc.reshape([-1, 4])\n",
    "\n",
    "for c, i in zip(ca, ia):\n",
    "    fft4x(*[s[i] for i in c], *i)\n",
    "\n",
    "assert abs(mc.unmix(s) - s_lin.flatten()).max() < 1e-4"
   ]
  },
  {
   "cell_type": "code",
   "execution_count": 30,
   "metadata": {},
   "outputs": [],
   "source": [
    "# <lin> ===========================================\n",
    "w = make_twiddle(4, 4).conj()\n",
    "s_lin *= w\n",
    "fft4(*(s_lin[..., l, :] for l in range(4)))\n",
    "# </lin> ==========================================\n",
    "\n",
    "ca = mc.channel_loc.transpose([0,2,1]).reshape([-1, 4])\n",
    "ia = mc.index_loc.transpose([0,2,1]).reshape([-1, 4])\n",
    "w_4_4 = (np.ones(shape=[4,4,4]) * w).transpose([0,2,1]).reshape([-1,4])\n",
    "\n",
    "for c, i, w in zip(ca, ia, w_4_4):\n",
    "    fft4x(*[s[i] for i in c], *i, *w)\n",
    "\n",
    "assert abs(mc.unmix(s) - s_lin.flatten()).max() < 1e-4"
   ]
  },
  {
   "cell_type": "code",
   "execution_count": 31,
   "metadata": {},
   "outputs": [],
   "source": [
    "# <lin> ===========================================\n",
    "w = make_twiddle(4, 16).conj()\n",
    "s_lin *= w.reshape([4,4,4])\n",
    "fft4(*(s_lin[l] for l in range(4)))\n",
    "# </lin> =========================================="
   ]
  },
  {
   "cell_type": "code",
   "execution_count": 32,
   "metadata": {},
   "outputs": [],
   "source": [
    "ca = mc.channel_loc.transpose([1,2,0]).reshape([-1, 4])\n",
    "ia = mc.index_loc.transpose([1,2,0]).reshape([-1, 4])\n",
    "w_4_16 = w.reshape([4,4,4]).transpose([1,2,0]).reshape([-1,4])\n",
    "\n",
    "for c, i, w in zip(ca, ia, w_4_16):\n",
    "    fft4x(*[s[i] for i in c], *i, *w)\n",
    "\n",
    "assert abs(mc.unmix(s) - s_lin.flatten()).max() < 1e-4\n",
    "assert abs(mc.unmix(s) - np.fft.fft(x)).max() < 1e-4"
   ]
  },
  {
   "cell_type": "markdown",
   "metadata": {},
   "source": [
    "## Observations\n",
    "\n",
    "The `ca` array is always the same."
   ]
  },
  {
   "cell_type": "markdown",
   "metadata": {},
   "source": [
    "# Unrolling the recipe for permutations"
   ]
  },
  {
   "cell_type": "markdown",
   "metadata": {},
   "source": [
    "The pattern of the permutation shifts one every outer loop. To correct for this we need to permute all input factors"
   ]
  },
  {
   "cell_type": "code",
   "execution_count": 33,
   "metadata": {},
   "outputs": [],
   "source": [
    "ca = mc.channel_loc.reshape([4, 4, 4])\n",
    "perm = (ca[:,0,:].argsort(axis=1) + (np.arange(4)*4)[:,None]).flatten()"
   ]
  },
  {
   "cell_type": "code",
   "execution_count": 34,
   "metadata": {},
   "outputs": [
    {
     "data": {
      "text/plain": [
       "array([ 0,  1,  2,  3,  7,  4,  5,  6, 10, 11,  8,  9, 13, 14, 15, 12])"
      ]
     },
     "execution_count": 34,
     "metadata": {},
     "output_type": "execute_result"
    }
   ],
   "source": [
    "perm"
   ]
  },
  {
   "cell_type": "code",
   "execution_count": 35,
   "metadata": {},
   "outputs": [
    {
     "data": {
      "text/plain": [
       "[[0, 1, 2, 3], [7, 4, 5, 6], [10, 11, 8, 9], [13, 14, 15, 12]]"
      ]
     },
     "execution_count": 35,
     "metadata": {},
     "output_type": "execute_result"
    }
   ],
   "source": [
    "[[i*4 + (rot-i)%4 for rot in range(4)] for i in range(4)]"
   ]
  },
  {
   "cell_type": "code",
   "execution_count": 36,
   "metadata": {},
   "outputs": [],
   "source": [
    "mc =  MultiChannel(N=64, radix=4)\n",
    "\n",
    "x = np.arange(N, dtype='complex64')\n",
    "s = mc.mix(x.reshape(mc.factors).transpose().flatten())\n",
    "w_0 = np.ones(shape=[16,4])\n",
    "\n",
    "w = make_twiddle(4, 4).conj()\n",
    "w_4_4 = (np.ones(shape=[4,4,4]) * w).transpose([0,2,1]).reshape([-1,4])[perm]\n",
    "\n",
    "w = make_twiddle(4, 16).conj()\n",
    "w_4_16 = w.reshape([4,4,4]).transpose([1,2,0]).reshape([-1,4])[perm]\n",
    "\n",
    "W = np.r_[w_0, w_4_4, w_4_16]\n",
    "\n",
    "fa = 1\n",
    "fb = 1\n",
    "fc = 4\n",
    "Wp = 0\n",
    "\n",
    "for k in range(3):\n",
    "    for i in range(4):\n",
    "        for rot in range(4):\n",
    "            ix = [fa * (i*4 + (rot - i)%4) + (1-fa) * (i*fc + j*fb) for j in range(4)]\n",
    "            fft4x(*[s[(rot+j) % 4] for j in range(4)],\n",
    "                  *ix,\n",
    "                  *W[Wp])\n",
    "            Wp += 1\n",
    "    if fa == 0:\n",
    "        fc //= 4\n",
    "        fb *= 4\n",
    "    else:\n",
    "        fa = 0"
   ]
  },
  {
   "cell_type": "code",
   "execution_count": 37,
   "metadata": {},
   "outputs": [],
   "source": [
    "assert abs(mc.unmix(s) - np.fft.fft(x)).max() < 1e-4"
   ]
  },
  {
   "cell_type": "code",
   "execution_count": 38,
   "metadata": {},
   "outputs": [],
   "source": [
    "mc =  MultiChannel(N=1024, radix=4)\n",
    "# perm = [i*mc.radix + (rot-i)%mc.radix for i in range(mc.L) for rot in range(mc.radix)]\n",
    "\n",
    "ca = mc.channel_loc.reshape(mc.factors)\n",
    "# perm = (ca[...,0,:].argsort(axis=1) + (np.arange(16)*4)[:,None]).flatten()"
   ]
  },
  {
   "cell_type": "code",
   "execution_count": 63,
   "metadata": {},
   "outputs": [],
   "source": [
    "def comp_perm(radix, i):\n",
    "    base = (i & ~(radix - 1))\n",
    "    rem = (i & (radix - 1))\n",
    "    p = parity(radix, base)\n",
    "    return base | ((rem - p) % radix)\n",
    "\n",
    "def comp_idx(radix, i, j, k):\n",
    "    base = (i & ~(radix**k - 1))\n",
    "    rem  = (i &  (radix**k - 1))\n",
    "    return rem + j * radix**k + base * radix"
   ]
  },
  {
   "cell_type": "code",
   "execution_count": 138,
   "metadata": {},
   "outputs": [],
   "source": [
    "%%capture fft_1024_mc_cl\n",
    "\n",
    "# x = np.arange(mc.N, dtype='complex64')\n",
    "x = np.random.normal(size=mc.N) + 1j*np.random.normal(size=mc.N)\n",
    "s = mc.mix(x.reshape(mc.factors).transpose().flatten())\n",
    "W = np.ones(shape=[mc.radix, mc.radix])\n",
    "perm = np.array([comp_perm(mc.radix, i) for i in range(mc.M)])\n",
    "\n",
    "n = mc.radix\n",
    "for k in range(mc.depth - 1):\n",
    "    w = make_twiddle(mc.radix, n).conj()\n",
    "    w_r_x = (np.ones(shape=[mc.M//n,mc.radix,n]) * w).transpose([0,2,1]).reshape([-1,mc.radix])[perm]\n",
    "    W = np.r_[W, w_r_x]\n",
    "    n *= mc.radix\n",
    "\n",
    "print(f\"__constant float2 W[{W.shape[0]}][{mc.radix-1}] {{\")\n",
    "print( \"    {\" + \"},\\n    {\".join(\", \".join(f\"(float2) ({w.real: f}f, {w.imag: f}f)\" for w in ws[1:]) for ws in W) + \"}};\")\n",
    "\n",
    "print( \"void fft_4(__restrict float2 *s0, __restrict float2 *s1, __restrict float2 *s2, __restrict float2 *s3,\")\n",
    "print( \"           int i0, int i1, int i2, int i3, int iw)\")\n",
    "print( \"{\")\n",
    "print( \"}\")\n",
    "\n",
    "print(f\"void fft_{mc.N}(__restrict float2 *s0, __restrict float2 *s1, __restrict float2 *s2, __restrict float2 *s3)\")\n",
    "print( \"{\")\n",
    "print( \"    bool first = true;\")\n",
    "print(f\"    for (int k = 0; k < {mc.depth}; ++k) {{\")\n",
    "print(f\"        for (int i = 0; i < {mc.L}; ++i) {{\")        \n",
    "print( \"            if (!first) {\")\n",
    "print( \"            } else {\")\n",
    "print( \"            }\")\n",
    "print( \"        }\")\n",
    "print( \"    }\")\n",
    "print( \"}\")\n",
    "\n",
    "fa = True\n",
    "Wp = 0\n",
    "\n",
    "for k in range(mc.depth):\n",
    "    for i in range(mc.L):\n",
    "        if not fa:\n",
    "            ix = [comp_idx(mc.radix, i, j, k-1) for j in range(mc.radix)]\n",
    "            Wp += 4\n",
    "        else:\n",
    "            ix = [comp_perm(mc.radix, i*mc.radix)] * mc.radix\n",
    "        fft4x(s[0], s[1], s[2], s[3], *ix, *W[Wp])\n",
    "        if fa:\n",
    "            ix = [comp_perm(mc.radix, i*mc.radix+1)] * mc.radix\n",
    "        fft4x(s[1], s[2], s[3], s[0], *ix, *W[Wp+1])\n",
    "        if fa:\n",
    "            ix = [comp_perm(mc.radix, i*mc.radix+2)] * mc.radix\n",
    "        fft4x(s[2], s[3], s[0], s[1], *ix, *W[Wp+2])\n",
    "        if fa:\n",
    "            ix = [comp_perm(mc.radix, i*mc.radix+3)] * mc.radix\n",
    "        fft4x(s[3], s[0], s[1], s[2], *ix, *W[Wp+3])\n",
    "    fa = False"
   ]
  },
  {
   "cell_type": "code",
   "execution_count": 135,
   "metadata": {},
   "outputs": [
    {
     "data": {
      "text/plain": [
       "7.588975361366367e-06"
      ]
     },
     "execution_count": 135,
     "metadata": {},
     "output_type": "execute_result"
    }
   ],
   "source": [
    "abs(mc.unmix(s) - np.fft.fft(x)).max()"
   ]
  },
  {
   "cell_type": "markdown",
   "metadata": {},
   "source": [
    "# Running on Vanilla OpenCL"
   ]
  },
  {
   "cell_type": "code",
   "execution_count": 259,
   "metadata": {},
   "outputs": [],
   "source": [
    "import os\n",
    "import pyopencl as cl\n",
    "import pyopencl.cltypes\n",
    "import numpy as np\n",
    "\n",
    "os.environ[\"PYOPENCL_CTX\"] = \"Intel(R) OpenCL HD Graphics\"\n",
    "\n",
    "def max_err(a, b):\n",
    "    return np.abs(a - b).max()\n",
    "\n",
    "np.set_printoptions(threshold=100)"
   ]
  },
  {
   "cell_type": "code",
   "execution_count": 260,
   "metadata": {},
   "outputs": [],
   "source": [
    "kernel = open(\"fft1024.cl\", \"r\").read()"
   ]
  },
  {
   "cell_type": "code",
   "execution_count": 268,
   "metadata": {},
   "outputs": [],
   "source": [
    "ctx = cl.create_some_context()\n",
    "prog = cl.Program(ctx, kernel).build([\"-DTESTING\"])\n",
    "queue = cl.CommandQueue(ctx)"
   ]
  },
  {
   "cell_type": "code",
   "execution_count": 269,
   "metadata": {},
   "outputs": [],
   "source": [
    "x = np.arange(1024, dtype='complex64')\n",
    "y = np.zeros_like(x)"
   ]
  },
  {
   "cell_type": "code",
   "execution_count": 270,
   "metadata": {},
   "outputs": [],
   "source": [
    "mf = cl.mem_flags\n",
    "x_g = cl.Buffer(ctx, mf.READ_ONLY | mf.COPY_HOST_PTR, hostbuf=x)\n",
    "y_g = cl.Buffer(ctx, mf.WRITE_ONLY, x.nbytes)"
   ]
  },
  {
   "cell_type": "code",
   "execution_count": 271,
   "metadata": {},
   "outputs": [
    {
     "data": {
      "text/plain": [
       "<pyopencl._cl.Event at 0x7fc2e80af9b0>"
      ]
     },
     "execution_count": 271,
     "metadata": {},
     "output_type": "execute_result"
    }
   ],
   "source": [
    "prog.fft_1024(queue, (1,), None, x_g, y_g)"
   ]
  },
  {
   "cell_type": "code",
   "execution_count": 272,
   "metadata": {},
   "outputs": [
    {
     "data": {
      "text/plain": [
       "<pyopencl._cl.NannyEvent at 0x7fc2e80af7d0>"
      ]
     },
     "execution_count": 272,
     "metadata": {},
     "output_type": "execute_result"
    }
   ],
   "source": [
    "cl.enqueue_copy(queue, y, y_g)"
   ]
  },
  {
   "cell_type": "code",
   "execution_count": 273,
   "metadata": {},
   "outputs": [
    {
     "data": {
      "text/plain": [
       "array([ 7.1767319e+28+1.2452886e+29j,  3.5380017e+28+7.5806789e+28j,\n",
       "       -2.7162168e+29+2.0000899e+29j, ..., -2.0000000e+00+2.0000000e+00j,\n",
       "       -2.0000000e+00+0.0000000e+00j, -2.0000000e+00-2.0000000e+00j],\n",
       "      dtype=complex64)"
      ]
     },
     "execution_count": 273,
     "metadata": {},
     "output_type": "execute_result"
    }
   ],
   "source": [
    "y"
   ]
  },
  {
   "cell_type": "code",
   "execution_count": 274,
   "metadata": {},
   "outputs": [
    {
     "data": {
      "text/plain": [
       "<pyopencl._cl.NannyEvent at 0x7fc2d049d7d0>"
      ]
     },
     "execution_count": 274,
     "metadata": {},
     "output_type": "execute_result"
    }
   ],
   "source": [
    "x = np.arange(1024, dtype=cl.cltypes.int)\n",
    "y = np.zeros_like(x)\n",
    "x_g = cl.Buffer(ctx, mf.READ_ONLY | mf.COPY_HOST_PTR, hostbuf=x)\n",
    "y_g = cl.Buffer(ctx, mf.WRITE_ONLY, x.nbytes)\n",
    "prog.test_parity_4(queue, (1024,), None, x_g, y_g)\n",
    "cl.enqueue_copy(queue, y, y_g)"
   ]
  },
  {
   "cell_type": "code",
   "execution_count": 275,
   "metadata": {},
   "outputs": [
    {
     "data": {
      "text/plain": [
       "array([0, 1, 2, ..., 1, 2, 3], dtype=int32)"
      ]
     },
     "execution_count": 275,
     "metadata": {},
     "output_type": "execute_result"
    }
   ],
   "source": [
    "y"
   ]
  },
  {
   "cell_type": "code",
   "execution_count": 276,
   "metadata": {},
   "outputs": [],
   "source": [
    "y_ref = np.array([parity(4, i) for i in range(1024)])"
   ]
  },
  {
   "cell_type": "code",
   "execution_count": 277,
   "metadata": {},
   "outputs": [
    {
     "data": {
      "text/plain": [
       "True"
      ]
     },
     "execution_count": 277,
     "metadata": {},
     "output_type": "execute_result"
    }
   ],
   "source": [
    "np.all(y == y_ref)"
   ]
  },
  {
   "cell_type": "code",
   "execution_count": null,
   "metadata": {},
   "outputs": [],
   "source": []
  }
 ],
 "metadata": {
  "kernelspec": {
   "display_name": "Python 3",
   "language": "python",
   "name": "python3"
  },
  "language_info": {
   "codemirror_mode": {
    "name": "ipython",
    "version": 3
   },
   "file_extension": ".py",
   "mimetype": "text/x-python",
   "name": "python",
   "nbconvert_exporter": "python",
   "pygments_lexer": "ipython3",
   "version": "3.7.6"
  }
 },
 "nbformat": 4,
 "nbformat_minor": 4
}
