{
 "cells": [
  {
   "cell_type": "code",
   "execution_count": 9,
   "metadata": {},
   "outputs": [],
   "source": [
    "import numpy as np\n",
    "import math\n",
    "from itertools import groupby\n",
    "from functools import partial\n",
    "\n",
    "def make_twiddle(n1, n2):\n",
    "    def w(k, n):\n",
    "        return np.exp(2j * np.pi * k / n)\n",
    "\n",
    "    I1 = np.arange(n1)\n",
    "    I2 = np.arange(n2)\n",
    "    return w(I1[:,None] * I2[None,:], n1*n2).astype('complex64')"
   ]
  },
  {
   "cell_type": "markdown",
   "metadata": {},
   "source": [
    "## Radix-n data streamlining\n",
    "\n",
    "For a radix-2 FFT, it is possible to divide input data in such a way that every butterfly operation reads and writes to two different arrays in memory. This could be advantageous for an implementation on the FPGA. The trick is to separate data locations based on the parity of their index.\n",
    "\n",
    "### Parity\n",
    "\n",
    "The index of each element in the array can be written in binary. In the case of a radix-2 FFT, we can see the array being reshaped in a $[2, 2, 2, \\dots]$ shape. Every stage of the $n=2^k$ sized radix-2 FFT is being performed in a different dimension of the $k$-dimensional reshaped array. The indexing in this multi-dimensional array is the same as the binary notation for the linear index. That means that each time the 2-FFT is performed, the multi-index of the elements involved will differ by one bit in the linear index. Separating the array based on the parity of the index will guarantee that each 2-FFT operation reads and writes one (complex) number from each set. The parity is the sum of all the individual bits, modulo 2.\n",
    "\n",
    "$$P_2(i) = \\left(\\sum_k b_k\\right) \\mod 2,\\quad {\\rm where}\\, i := \\sum_k b_k 2^k$$\n",
    "\n",
    "We can extend this concept to the radix-4 FFT, on 4 data channels.\n",
    "\n",
    "### 4-parity\n",
    "\n",
    "In the radix-4 FFT we can view the array as being reshaped to a $[4, 4, 4, \\dots]$ shape. The multi-index into this array is equivalent to the quarternary number notation of the linear index. Similar to the radix-2 parity, we can define the radix-4 parity as the sum of each quarternary digit in the index, modulo 4.\n",
    "\n",
    "$$P_4(i) = \\left(\\sum_k q_k\\right) \\mod 4,\\quad {\\rm where}\\, i := \\sum_k q_k 4^k$$\n",
    "\n",
    "This would ensure that each 4-FFT reads its data from the 4 different input channels. We define the `parity` function to work with any radix:"
   ]
  },
  {
   "cell_type": "code",
   "execution_count": 10,
   "metadata": {},
   "outputs": [],
   "source": [
    "def digits(n, i):\n",
    "    \"\"\"Generates the n-numbered digits of i, in reverse order.\"\"\"\n",
    "    while True:\n",
    "        if i == 0:\n",
    "            return\n",
    "        else:\n",
    "            i, q = divmod(i, n)\n",
    "            yield q\n",
    "            \n",
    "def parity(n, i):\n",
    "    return sum(digits(n, i)) % n"
   ]
  },
  {
   "cell_type": "markdown",
   "metadata": {},
   "source": [
    "To see which index belongs in which channel, we use a `groupby` on keyed the `parity` function"
   ]
  },
  {
   "cell_type": "code",
   "execution_count": 11,
   "metadata": {},
   "outputs": [],
   "source": [
    "def channels(N, radix):\n",
    "    parity_r = partial(parity, radix)\n",
    "    return groupby(sorted(range(N), key=parity_r), parity_r)"
   ]
  },
  {
   "cell_type": "markdown",
   "metadata": {},
   "source": [
    "for instance, for radix-2, size 16, this creates the following channels"
   ]
  },
  {
   "cell_type": "code",
   "execution_count": 12,
   "metadata": {},
   "outputs": [
    {
     "name": "stdout",
     "output_type": "stream",
     "text": [
      "0 [0, 3, 5, 6, 9, 10, 12, 15]\n",
      "1 [1, 2, 4, 7, 8, 11, 13, 14]\n"
     ]
    }
   ],
   "source": [
    "for (g, i) in channels(16, 2):\n",
    "    print(g, list(i))"
   ]
  },
  {
   "cell_type": "markdown",
   "metadata": {},
   "source": [
    "### Example: radix-2 16-FFT\n",
    "\n",
    "We can implement the 16-FFT as a radix-2 operation on an array of shape $[2,2,2,2]$."
   ]
  },
  {
   "cell_type": "code",
   "execution_count": 13,
   "metadata": {},
   "outputs": [],
   "source": [
    "def fft2(x0, x1):\n",
    "    y = np.zeros(shape=(2,)+x0.shape, dtype='complex64')\n",
    "    y[0] = x0 + x1\n",
    "    y[1] = x0 - x1\n",
    "    x0[:] = y[0]\n",
    "    x1[:] = y[1]"
   ]
  },
  {
   "cell_type": "markdown",
   "metadata": {},
   "source": [
    "To check whether our grouping works, we create a dummy array, and a dummy `fft2_check` that just checks if all arguments are in different channels."
   ]
  },
  {
   "cell_type": "code",
   "execution_count": 14,
   "metadata": {},
   "outputs": [],
   "source": [
    "def fft2_check(x0, x1):\n",
    "    assert np.all(x0 != x1)"
   ]
  },
  {
   "cell_type": "code",
   "execution_count": 15,
   "metadata": {},
   "outputs": [],
   "source": [
    "x = np.zeros(shape=(16,), dtype=int)\n",
    "for (g, i) in channels(16, 2):\n",
    "    x[list(i)] = g"
   ]
  },
  {
   "cell_type": "code",
   "execution_count": 16,
   "metadata": {},
   "outputs": [
    {
     "name": "stdout",
     "output_type": "stream",
     "text": [
      "succeeded\n"
     ]
    }
   ],
   "source": [
    "N = 16\n",
    "radix = 2\n",
    "\n",
    "factors = [radix] * int(math.log(N, radix))\n",
    "s = x.reshape(factors).transpose()\n",
    "\n",
    "try:\n",
    "    for k in range(len(factors)):\n",
    "        fft2_check(np.take(s, 0, axis=k), np.take(s, 1, axis=k))\n",
    "except AssertionError:\n",
    "    print(\"failed\")\n",
    "else:\n",
    "    print(\"succeeded\")"
   ]
  },
  {
   "cell_type": "code",
   "execution_count": 22,
   "metadata": {},
   "outputs": [],
   "source": [
    "# x = (np.random.normal(size=N) + 1j * np.random.normal(size=N)).astype('complex64')\n",
    "x = np.arange(0, N, dtype='complex64')\n",
    "s = x.copy().reshape(factors).transpose()\n",
    "\n",
    "fft2(s[...,0], s[...,1])\n",
    "\n",
    "for k in range(1, len(factors)):\n",
    "    w = make_twiddle(2, 2**k).conj()[:,:]\n",
    "    z = s.reshape([-1, 2, 2**k])\n",
    "    z *= w\n",
    "    fft2(z[..., 0, :], z[..., 1, :])\n",
    "    s = z"
   ]
  },
  {
   "cell_type": "code",
   "execution_count": 23,
   "metadata": {},
   "outputs": [
    {
     "data": {
      "text/plain": [
       "array([120.        +0.j       ,  -7.9999995+40.21872j  ,\n",
       "        -8.       +19.31371j  ,  -8.       +11.972846j ,\n",
       "        -8.        +8.j       ,  -8.        +5.3454294j,\n",
       "        -8.        +3.3137083j,  -8.        +1.591299j ,\n",
       "        -8.        +0.j       ,  -8.        -1.591299j ,\n",
       "        -8.        -3.3137083j,  -8.        -5.3454294j,\n",
       "        -8.        -8.j       ,  -8.       -11.972846j ,\n",
       "        -8.       -19.31371j  ,  -7.9999995-40.21872j  ], dtype=complex64)"
      ]
     },
     "execution_count": 23,
     "metadata": {},
     "output_type": "execute_result"
    }
   ],
   "source": [
    "s.flatten()"
   ]
  },
  {
   "cell_type": "code",
   "execution_count": 24,
   "metadata": {},
   "outputs": [
    {
     "data": {
      "text/plain": [
       "3.577337255373132e-06"
      ]
     },
     "execution_count": 24,
     "metadata": {},
     "output_type": "execute_result"
    }
   ],
   "source": [
    "abs(s.flatten() - np.fft.fft(x)).max()"
   ]
  },
  {
   "cell_type": "markdown",
   "metadata": {},
   "source": [
    "### Example: radix-4 64-FFT"
   ]
  },
  {
   "cell_type": "code",
   "execution_count": 25,
   "metadata": {},
   "outputs": [
    {
     "name": "stdout",
     "output_type": "stream",
     "text": [
      "0 [0, 7, 10, 13, 19, 22, 25, 28, 34, 37, 40, 47, 49, 52, 59, 62]\n",
      "1 [1, 4, 11, 14, 16, 23, 26, 29, 35, 38, 41, 44, 50, 53, 56, 63]\n",
      "2 [2, 5, 8, 15, 17, 20, 27, 30, 32, 39, 42, 45, 51, 54, 57, 60]\n",
      "3 [3, 6, 9, 12, 18, 21, 24, 31, 33, 36, 43, 46, 48, 55, 58, 61]\n"
     ]
    }
   ],
   "source": [
    "for g, i in channels(64, 4):\n",
    "    print(g, list(i))"
   ]
  },
  {
   "cell_type": "code",
   "execution_count": 26,
   "metadata": {},
   "outputs": [],
   "source": [
    "from itertools import combinations\n",
    "import math\n",
    "\n",
    "def fft4_check(x0, x1, x2, x3):\n",
    "    for (a, b) in combinations([x0, x1, x2, x3], 2):\n",
    "        assert np.all(a != b)"
   ]
  },
  {
   "cell_type": "code",
   "execution_count": 27,
   "metadata": {},
   "outputs": [],
   "source": [
    "N = 64\n",
    "radix = 4\n",
    "\n",
    "x = np.zeros(shape=(N,), dtype=int)\n",
    "for g, i in channels(N, radix):\n",
    "    x[list(i)] = g"
   ]
  },
  {
   "cell_type": "code",
   "execution_count": 28,
   "metadata": {},
   "outputs": [
    {
     "name": "stdout",
     "output_type": "stream",
     "text": [
      "succeeded\n"
     ]
    }
   ],
   "source": [
    "factors = [radix] * int(math.log(N, radix))\n",
    "s = x.reshape(factors)\n",
    "\n",
    "try:\n",
    "    for k in range(len(factors)):\n",
    "        fft4_check(*(np.take(s, i, axis=k) for i in range(radix)))\n",
    "except AssertionError:\n",
    "    print(\"failed\")\n",
    "else:\n",
    "    print(\"succeeded\")"
   ]
  },
  {
   "cell_type": "markdown",
   "metadata": {},
   "source": [
    "## Implementing the radix-4 FFT"
   ]
  },
  {
   "cell_type": "code",
   "execution_count": 29,
   "metadata": {},
   "outputs": [],
   "source": [
    "def fft4(x0, x1, x2, x3):\n",
    "    a = x0 + x2\n",
    "    b = x1 + x3\n",
    "    c = x0 - x2\n",
    "    d = x1 - x3\n",
    "    x0[:] = a + b\n",
    "    x1[:] = c - 1j*d\n",
    "    x2[:] = a - b\n",
    "    x3[:] = c + 1j*d"
   ]
  },
  {
   "cell_type": "code",
   "execution_count": 30,
   "metadata": {},
   "outputs": [],
   "source": [
    "x = np.arange(0, N, dtype='complex64')\n",
    "s = x.copy().reshape(factors).transpose()\n",
    "\n",
    "fft4(*(s[...,k] for k in range(4)))\n",
    "\n",
    "for k in range(1, len(factors)):\n",
    "    w = make_twiddle(4, 4**k).conj()[:,:]\n",
    "    z = s.reshape([-1, 4, 4**k])\n",
    "    z *= w\n",
    "    fft4(*(z[..., l, :] for l in range(4)))\n",
    "    s = z"
   ]
  },
  {
   "cell_type": "code",
   "execution_count": 31,
   "metadata": {},
   "outputs": [
    {
     "data": {
      "text/plain": [
       "2.5034746158780763e-05"
      ]
     },
     "execution_count": 31,
     "metadata": {},
     "output_type": "execute_result"
    }
   ],
   "source": [
    "abs(s.flatten() - np.fft.fft(x)).max()"
   ]
  },
  {
   "cell_type": "markdown",
   "metadata": {},
   "source": [
    "## OpenCL\n",
    "\n",
    "Each of the transforms are in-place, meaning we can do this in any order, but we don't know the system in the indices yet."
   ]
  },
  {
   "cell_type": "code",
   "execution_count": 46,
   "metadata": {},
   "outputs": [
    {
     "data": {
      "text/plain": [
       "array([[0, 1, 2, 3, 1, 2, 3, 0, 2, 3, 0, 1, 3, 0, 1, 2],\n",
       "       [1, 2, 3, 0, 2, 3, 0, 1, 3, 0, 1, 2, 0, 1, 2, 3],\n",
       "       [2, 3, 0, 1, 3, 0, 1, 2, 0, 1, 2, 3, 1, 2, 3, 0],\n",
       "       [3, 0, 1, 2, 0, 1, 2, 3, 1, 2, 3, 0, 2, 3, 0, 1]])"
      ]
     },
     "execution_count": 46,
     "metadata": {},
     "output_type": "execute_result"
    }
   ],
   "source": [
    "# Fill `x` with the integer id of the array to which the location belongs\n",
    "x = np.zeros(shape=(N,), dtype=int)\n",
    "for g, i in channels(N, radix):\n",
    "    x[list(i)] = g  # np.arange(N//radix, dtype=int)\n",
    "s = x.reshape(factors).transpose()\n",
    "\n",
    "perm = np.array([s[...,k].flatten() for k in range(4)])\n",
    "perm"
   ]
  },
  {
   "cell_type": "markdown",
   "metadata": {},
   "source": [
    "This pattern is the same for each iteration. Note that the permutation is always the same cycle starting at a different number. This means the top row gives us which of the four permutations is needed. Do we implement four different versions of `fft4` to implement each permutation?"
   ]
  },
  {
   "cell_type": "code",
   "execution_count": 33,
   "metadata": {},
   "outputs": [
    {
     "data": {
      "text/plain": [
       "array([[ 0,  7, 10, 13],\n",
       "       [ 1,  4, 11, 14],\n",
       "       [ 2,  5,  8, 15],\n",
       "       [ 3,  6,  9, 12]])"
      ]
     },
     "execution_count": 33,
     "metadata": {},
     "output_type": "execute_result"
    }
   ],
   "source": [
    "colid = np.argsort(perm[0]).reshape(4,4)\n",
    "colid"
   ]
  },
  {
   "cell_type": "markdown",
   "metadata": {},
   "source": [
    "These are the indices into the index array that will select which of the four permutated versions of `fft4` needs to be used."
   ]
  },
  {
   "cell_type": "markdown",
   "metadata": {},
   "source": [
    "Now for the indices into each channel:"
   ]
  },
  {
   "cell_type": "code",
   "execution_count": 49,
   "metadata": {},
   "outputs": [
    {
     "data": {
      "text/plain": [
       "array([[ 0,  1,  2,  3,  0,  1,  2,  3,  0,  1,  2,  3,  0,  1,  2,  3],\n",
       "       [ 4,  5,  6,  7,  4,  5,  6,  7,  4,  5,  6,  7,  4,  5,  6,  7],\n",
       "       [ 8,  9, 10, 11,  8,  9, 10, 11,  8,  9, 10, 11,  8,  9, 10, 11],\n",
       "       [12, 13, 14, 15, 12, 13, 14, 15, 12, 13, 14, 15, 12, 13, 14, 15]])"
      ]
     },
     "execution_count": 49,
     "metadata": {},
     "output_type": "execute_result"
    }
   ],
   "source": [
    "# Here `x` is the index into each source array\n",
    "x = np.zeros(shape=(N,), dtype=int)\n",
    "for g, i in channels(N, radix):\n",
    "    #x[list(i)] = g  # np.arange(N//radix, dtype=int)\n",
    "    x[list(i)] = np.arange(N//radix, dtype=int)\n",
    "s = x.reshape(factors).transpose()\n",
    "\n",
    "idx = np.array([s[...,k].flatten() for k in range(4)])\n",
    "idx"
   ]
  },
  {
   "cell_type": "markdown",
   "metadata": {},
   "source": [
    "So the first permutation is called with these indices"
   ]
  },
  {
   "cell_type": "code",
   "execution_count": 35,
   "metadata": {},
   "outputs": [
    {
     "data": {
      "text/plain": [
       "array([[ 0,  3,  2,  1],\n",
       "       [ 4,  7,  6,  5],\n",
       "       [ 8, 11, 10,  9],\n",
       "       [12, 15, 14, 13]])"
      ]
     },
     "execution_count": 35,
     "metadata": {},
     "output_type": "execute_result"
    }
   ],
   "source": [
    "idx[:,colid[0]]"
   ]
  },
  {
   "cell_type": "markdown",
   "metadata": {},
   "source": [
    "and so on ..., these all contain the same columns in different order. Meaning we can run each `fft4` permutation **with the same indices!**"
   ]
  },
  {
   "cell_type": "code",
   "execution_count": 36,
   "metadata": {},
   "outputs": [
    {
     "data": {
      "text/plain": [
       "array([[ 0,  4,  8, 12,  0,  4,  8, 12,  0,  4,  8, 12,  0,  4,  8, 12],\n",
       "       [ 1,  5,  9, 13,  1,  5,  9, 13,  1,  5,  9, 13,  1,  5,  9, 13],\n",
       "       [ 2,  6, 10, 14,  2,  6, 10, 14,  2,  6, 10, 14,  2,  6, 10, 14],\n",
       "       [ 3,  7, 11, 15,  3,  7, 11, 15,  3,  7, 11, 15,  3,  7, 11, 15]])"
      ]
     },
     "execution_count": 36,
     "metadata": {},
     "output_type": "execute_result"
    }
   ],
   "source": [
    "z = s.reshape([-1, 4, 4])\n",
    "idx = np.array([z[:,l,:].flatten() for l in range(4)])\n",
    "idx"
   ]
  },
  {
   "cell_type": "code",
   "execution_count": 37,
   "metadata": {},
   "outputs": [
    {
     "data": {
      "text/plain": [
       "array([[ 0, 12,  8,  4],\n",
       "       [ 1, 13,  9,  5],\n",
       "       [ 2, 14, 10,  6],\n",
       "       [ 3, 15, 11,  7]])"
      ]
     },
     "execution_count": 37,
     "metadata": {},
     "output_type": "execute_result"
    }
   ],
   "source": [
    "idx[:,colid[0]]"
   ]
  },
  {
   "cell_type": "code",
   "execution_count": 38,
   "metadata": {},
   "outputs": [],
   "source": [
    "z = s.reshape([-1, 4, 16])\n",
    "idx = np.array([z[:,l,:].flatten() for l in range(4)])"
   ]
  },
  {
   "cell_type": "code",
   "execution_count": 42,
   "metadata": {},
   "outputs": [
    {
     "data": {
      "text/plain": [
       "array([[ 0, 13, 10,  7],\n",
       "       [ 0, 13, 10,  7],\n",
       "       [ 0, 13, 10,  7],\n",
       "       [ 0, 13, 10,  7]])"
      ]
     },
     "execution_count": 42,
     "metadata": {},
     "output_type": "execute_result"
    }
   ],
   "source": [
    "idx[:,colid[0]]"
   ]
  },
  {
   "cell_type": "markdown",
   "metadata": {},
   "source": [
    "Only the last instance is different. However, note that these are the same indices as we found in computing the 4-parity."
   ]
  },
  {
   "cell_type": "markdown",
   "metadata": {},
   "source": [
    "### Twiddles"
   ]
  },
  {
   "cell_type": "code",
   "execution_count": 70,
   "metadata": {},
   "outputs": [
    {
     "name": "stdout",
     "output_type": "stream",
     "text": [
      "[[ 0  4  8 12]\n",
      " [ 1  5  9 13]\n",
      " [ 2  6 10 14]\n",
      " [ 3  7 11 15]]\n",
      "0[0] * (1-0j), 1[4] * (1-0j), 2[8] * (1-0j), 3[12] * (1-0j), \n",
      "1[1] * (1-0j), 2[5] * (0.9238795042037964-0.3826834261417389j), 3[9] * (0.7071067690849304-0.7071067690849304j), 0[13] * (0.3826834261417389-0.9238795042037964j), \n",
      "2[2] * (1-0j), 3[6] * (0.7071067690849304-0.7071067690849304j), 0[10] * (6.123234262925839e-17-1j), 1[14] * (-0.7071067690849304-0.7071067690849304j), \n",
      "3[3] * (1-0j), 0[7] * (0.3826834261417389-0.9238795042037964j), 1[11] * (-0.7071067690849304-0.7071067690849304j), 2[15] * (-0.9238795042037964+0.3826834261417389j), \n",
      "1[0] * (1-0j), 2[4] * (1-0j), 3[8] * (1-0j), 0[12] * (1-0j), \n",
      "2[1] * (1-0j), 3[5] * (0.9238795042037964-0.3826834261417389j), 0[9] * (0.7071067690849304-0.7071067690849304j), 1[13] * (0.3826834261417389-0.9238795042037964j), \n",
      "3[2] * (1-0j), 0[6] * (0.7071067690849304-0.7071067690849304j), 1[10] * (6.123234262925839e-17-1j), 2[14] * (-0.7071067690849304-0.7071067690849304j), \n",
      "0[3] * (1-0j), 1[7] * (0.3826834261417389-0.9238795042037964j), 2[11] * (-0.7071067690849304-0.7071067690849304j), 3[15] * (-0.9238795042037964+0.3826834261417389j), \n",
      "2[0] * (1-0j), 3[4] * (1-0j), 0[8] * (1-0j), 1[12] * (1-0j), \n",
      "3[1] * (1-0j), 0[5] * (0.9238795042037964-0.3826834261417389j), 1[9] * (0.7071067690849304-0.7071067690849304j), 2[13] * (0.3826834261417389-0.9238795042037964j), \n",
      "0[2] * (1-0j), 1[6] * (0.7071067690849304-0.7071067690849304j), 2[10] * (6.123234262925839e-17-1j), 3[14] * (-0.7071067690849304-0.7071067690849304j), \n",
      "1[3] * (1-0j), 2[7] * (0.3826834261417389-0.9238795042037964j), 3[11] * (-0.7071067690849304-0.7071067690849304j), 0[15] * (-0.9238795042037964+0.3826834261417389j), \n",
      "3[0] * (1-0j), 0[4] * (1-0j), 1[8] * (1-0j), 2[12] * (1-0j), \n",
      "0[1] * (1-0j), 1[5] * (0.9238795042037964-0.3826834261417389j), 2[9] * (0.7071067690849304-0.7071067690849304j), 3[13] * (0.3826834261417389-0.9238795042037964j), \n",
      "1[2] * (1-0j), 2[6] * (0.7071067690849304-0.7071067690849304j), 3[10] * (6.123234262925839e-17-1j), 0[14] * (-0.7071067690849304-0.7071067690849304j), \n",
      "2[3] * (1-0j), 3[7] * (0.3826834261417389-0.9238795042037964j), 0[11] * (-0.7071067690849304-0.7071067690849304j), 1[15] * (-0.9238795042037964+0.3826834261417389j), \n",
      "[[0 1 2 3 1 2 3 0 2 3 0 1 3 0 1 2]\n",
      " [1 2 3 0 2 3 0 1 3 0 1 2 0 1 2 3]\n",
      " [2 3 0 1 3 0 1 2 0 1 2 3 1 2 3 0]\n",
      " [3 0 1 2 0 1 2 3 1 2 3 0 2 3 0 1]]\n",
      "[[ 0  4  8 12  1  5  9 13  2  6 10 14  3  7 11 15]\n",
      " [ 0  4  8 12  1  5  9 13  2  6 10 14  3  7 11 15]\n",
      " [ 0  4  8 12  1  5  9 13  2  6 10 14  3  7 11 15]\n",
      " [ 0  4  8 12  1  5  9 13  2  6 10 14  3  7 11 15]]\n",
      "[[ 1.0000000e+00-0.j          1.0000000e+00-0.j\n",
      "   1.0000000e+00-0.j          1.0000000e+00-0.j\n",
      "   1.0000000e+00-0.j          1.0000000e+00-0.j\n",
      "   1.0000000e+00-0.j          1.0000000e+00-0.j\n",
      "   1.0000000e+00-0.j          1.0000000e+00-0.j\n",
      "   1.0000000e+00-0.j          1.0000000e+00-0.j\n",
      "   1.0000000e+00-0.j          1.0000000e+00-0.j\n",
      "   1.0000000e+00-0.j          1.0000000e+00-0.j        ]\n",
      " [ 1.0000000e+00-0.j          9.9518472e-01-0.09801714j\n",
      "   9.8078525e-01-0.19509032j  9.5694035e-01-0.29028466j\n",
      "   9.2387950e-01-0.38268343j  8.8192129e-01-0.47139674j\n",
      "   8.3146960e-01-0.55557024j  7.7301043e-01-0.6343933j\n",
      "   7.0710677e-01-0.70710677j  6.3439327e-01-0.77301043j\n",
      "   5.5557024e-01-0.8314696j   4.7139674e-01-0.8819213j\n",
      "   3.8268343e-01-0.9238795j   2.9028466e-01-0.95694035j\n",
      "   1.9509032e-01-0.98078525j  9.8017141e-02-0.9951847j ]\n",
      " [ 1.0000000e+00-0.j          9.8078525e-01-0.19509032j\n",
      "   9.2387950e-01-0.38268343j  8.3146960e-01-0.55557024j\n",
      "   7.0710677e-01-0.70710677j  5.5557024e-01-0.8314696j\n",
      "   3.8268343e-01-0.9238795j   1.9509032e-01-0.98078525j\n",
      "   6.1232343e-17-1.j         -1.9509032e-01-0.98078525j\n",
      "  -3.8268343e-01-0.9238795j  -5.5557024e-01-0.8314696j\n",
      "  -7.0710677e-01-0.70710677j -8.3146960e-01-0.55557024j\n",
      "  -9.2387950e-01-0.38268343j -9.8078525e-01-0.19509032j]\n",
      " [ 1.0000000e+00-0.j          9.5694035e-01-0.29028466j\n",
      "   8.3146960e-01-0.55557024j  6.3439327e-01-0.77301043j\n",
      "   3.8268343e-01-0.9238795j   9.8017141e-02-0.9951847j\n",
      "  -1.9509032e-01-0.98078525j -4.7139674e-01-0.8819213j\n",
      "  -7.0710677e-01-0.70710677j -8.8192129e-01-0.47139674j\n",
      "  -9.8078525e-01-0.19509032j -9.9518472e-01+0.09801714j\n",
      "  -9.2387950e-01+0.38268343j -7.7301043e-01+0.6343933j\n",
      "  -5.5557024e-01+0.8314696j  -2.9028466e-01+0.95694035j]]\n"
     ]
    }
   ],
   "source": [
    "# Fill `x` with the integer id of the array to which the location belongs\n",
    "x = np.zeros(shape=(N,), dtype=int)\n",
    "for g, i in channels(N, radix):\n",
    "    x[list(i)] = g  # np.arange(N//radix, dtype=int)\n",
    "channel = x.reshape(factors).transpose()\n",
    "\n",
    "# Here `x` is the index into each source array\n",
    "x = np.zeros(shape=(N,), dtype=int)\n",
    "for g, i in channels(N, radix):\n",
    "    #x[list(i)] = g  # np.arange(N//radix, dtype=int)\n",
    "    x[list(i)] = np.arange(N//radix, dtype=int)\n",
    "index = x.reshape(factors).transpose()\n",
    "\n",
    "perm = np.array([s[...,k].flatten() for k in range(4)])\n",
    "\n",
    "# step 1\n",
    "w = make_twiddle(4, 4).conj()\n",
    "print(index.reshape([-1, 4, 4])[0])\n",
    "for i in range(4):\n",
    "    for j in range(4):\n",
    "        for k in range(4):\n",
    "            print(\"{}[{}] * {}\".format(channel[i, j, k], index[i,j,k], w[j,k]), end=\", \")\n",
    "        print()\n",
    "\n",
    "# step 2\n",
    "w = make_twiddle(4, 16).conj()\n",
    "print(channel.reshape([-1, 4, 16])[0])\n",
    "print(index.reshape([-1, 4, 16])[0])\n",
    "print(w)"
   ]
  },
  {
   "cell_type": "markdown",
   "metadata": {},
   "source": [
    "We can split the twiddles in four parts, hard-coded. The indices we can compute real-time.\n",
    "\n",
    "Thus, the algorithm becomes"
   ]
  },
  {
   "cell_type": "code",
   "execution_count": 236,
   "metadata": {},
   "outputs": [],
   "source": [
    "N = 64\n",
    "radix = 4\n",
    "M = N // radix\n",
    "depth = int(math.log(N, radix))\n",
    "factors = [radix] * depth\n",
    "\n",
    "# let x be the input array\n",
    "x = np.arange(N, dtype='complex64')\n",
    "\n",
    "# we'll execute the algorithm on `radix` number of channels\n",
    "s = tuple(np.zeros(M, dtype='complex64') for r in range(radix))\n",
    "\n",
    "# we perform the transpose at the same time as the group\n",
    "i = np.arange(N, dtype=int).reshape(factors).transpose().flatten()\n",
    "for g, j in channels(N, radix):\n",
    "    s[g][:] = x[i][list(j)]\n",
    "    \n",
    "# we start with a step 1 vs. M // radix\n",
    "p = M // radix\n",
    "q = 1\n",
    "while p > 0:\n",
    "    for a in range(radix):\n",
    "        fft4(s[0][q*a], s[1][q*a + p], s[2][q*a + 2*p], s[3][q*a + 3*p])\n",
    "        fft4(s[1][q*a], s[2][q*a + p], s[3][q*a + 2*p], s[0][q*a + 3*p])\n",
    "        fft4(s[2][q*a], s[3][q*a + p], s[0][q*a + 2*p], s[1][q*a + 3*p])\n",
    "        fft4(s[3][q*a], s[0][q*a + p], s[1][q*a + 2*p], s[2][q*a + 3*p])\n",
    "    q *= radix\n",
    "    p //= radix\n"
   ]
  },
  {
   "cell_type": "code",
   "execution_count": 237,
   "metadata": {},
   "outputs": [
    {
     "data": {
      "text/plain": [
       "(array([ 0.+0.j, 52.+0.j, 40.+0.j, 28.+0.j, 49.+0.j, 37.+0.j, 25.+0.j,\n",
       "        13.+0.j, 34.+0.j, 22.+0.j, 10.+0.j, 62.+0.j, 19.+0.j,  7.+0.j,\n",
       "        59.+0.j, 47.+0.j], dtype=complex64),\n",
       " array([16.+0.j,  4.+0.j, 56.+0.j, 44.+0.j,  1.+0.j, 53.+0.j, 41.+0.j,\n",
       "        29.+0.j, 50.+0.j, 38.+0.j, 26.+0.j, 14.+0.j, 35.+0.j, 23.+0.j,\n",
       "        11.+0.j, 63.+0.j], dtype=complex64),\n",
       " array([32.+0.j, 20.+0.j,  8.+0.j, 60.+0.j, 17.+0.j,  5.+0.j, 57.+0.j,\n",
       "        45.+0.j,  2.+0.j, 54.+0.j, 42.+0.j, 30.+0.j, 51.+0.j, 39.+0.j,\n",
       "        27.+0.j, 15.+0.j], dtype=complex64),\n",
       " array([48.+0.j, 36.+0.j, 24.+0.j, 12.+0.j, 33.+0.j, 21.+0.j,  9.+0.j,\n",
       "        61.+0.j, 18.+0.j,  6.+0.j, 58.+0.j, 46.+0.j,  3.+0.j, 55.+0.j,\n",
       "        43.+0.j, 31.+0.j], dtype=complex64))"
      ]
     },
     "execution_count": 237,
     "metadata": {},
     "output_type": "execute_result"
    }
   ],
   "source": []
  },
  {
   "cell_type": "code",
   "execution_count": null,
   "metadata": {},
   "outputs": [],
   "source": []
  }
 ],
 "metadata": {
  "kernelspec": {
   "display_name": "Python 3",
   "language": "python",
   "name": "python3"
  },
  "language_info": {
   "codemirror_mode": {
    "name": "ipython",
    "version": 3
   },
   "file_extension": ".py",
   "mimetype": "text/x-python",
   "name": "python",
   "nbconvert_exporter": "python",
   "pygments_lexer": "ipython3",
   "version": "3.7.6"
  }
 },
 "nbformat": 4,
 "nbformat_minor": 4
}
