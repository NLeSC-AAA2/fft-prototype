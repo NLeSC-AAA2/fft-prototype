{
 "cells": [
  {
   "cell_type": "code",
   "execution_count": 1,
   "metadata": {},
   "outputs": [],
   "source": [
    "import numpy as np\n",
    "from itertools import groupby\n",
    "from functools import partial"
   ]
  },
  {
   "cell_type": "markdown",
   "metadata": {},
   "source": [
    "## Radix-n data streamlining\n",
    "\n",
    "For a radix-2 FFT, it is possible to divide input data in such a way that every butterfly operation reads and writes to two different arrays in memory. This could be advantageous for an implementation on the FPGA. The trick is to separate data locations based on the parity of their index.\n",
    "\n",
    "### Parity\n",
    "\n",
    "The index of each element in the array can be written in binary. In the case of a radix-2 FFT, we can see the array being reshaped in a $[2, 2, 2, \\dots]$ shape. Every stage of the $n=2^k$ sized radix-2 FFT is being performed in a different dimension of the $k$-dimensional reshaped array. The indexing in this multi-dimensional array is the same as the binary notation for the linear index. That means that each time the 2-FFT is performed, the multi-index of the elements involved will differ by one bit in the linear index. Separating the array based on the parity of the index will guarantee that each 2-FFT operation reads and writes one (complex) number from each set. The parity is the sum of all the individual bits, modulo 2.\n",
    "\n",
    "$$P_2(i) = \\left(\\sum_k b_k\\right) \\mod 2,\\quad {\\rm where}\\, i := \\sum_k b_k 2^k$$\n",
    "\n",
    "We can extend this concept to the radix-4 FFT, on 4 data channels.\n",
    "\n",
    "### 4-parity\n",
    "\n",
    "In the radix-4 FFT we can view the array as being reshaped to a $[4, 4, 4, \\dots]$ shape. The multi-index into this array is equivalent to the quarternary number notation of the linear index. Similar to the radix-2 parity, we can define the radix-4 parity as the sum of each quarternary digit in the index, modulo 4.\n",
    "\n",
    "$$P_4(i) = \\left(\\sum_k q_k\\right) \\mod 4,\\quad {\\rm where}\\, i := \\sum_k q_k 4^k$$\n",
    "\n",
    "This would ensure that each 4-FFT reads its data from the 4 different input channels. We define the `parity` function to work with any radix:"
   ]
  },
  {
   "cell_type": "code",
   "execution_count": 2,
   "metadata": {},
   "outputs": [],
   "source": [
    "def digits(n, i):\n",
    "    \"\"\"Generates the n-numbered digits of i, in reverse order.\"\"\"\n",
    "    while True:\n",
    "        if i == 0:\n",
    "            return\n",
    "        else:\n",
    "            i, q = divmod(i, n)\n",
    "            yield q\n",
    "            \n",
    "def parity(n, i):\n",
    "    return sum(digits(n, i)) % n"
   ]
  },
  {
   "cell_type": "markdown",
   "metadata": {},
   "source": [
    "To see which index belongs in which channel, we use a `groupby` on keyed the `parity` function"
   ]
  },
  {
   "cell_type": "code",
   "execution_count": 3,
   "metadata": {},
   "outputs": [],
   "source": [
    "def channels(N, radix):\n",
    "    parity_r = partial(parity, radix)\n",
    "    return groupby(sorted(range(N), key=parity_r), parity_r)"
   ]
  },
  {
   "cell_type": "markdown",
   "metadata": {},
   "source": [
    "for instance, for radix-2, size 16, this creates the following channels"
   ]
  },
  {
   "cell_type": "code",
   "execution_count": 4,
   "metadata": {},
   "outputs": [
    {
     "name": "stdout",
     "output_type": "stream",
     "text": [
      "0 [0, 3, 5, 6, 9, 10, 12, 15]\n",
      "1 [1, 2, 4, 7, 8, 11, 13, 14]\n"
     ]
    }
   ],
   "source": [
    "for (g, i) in channels(16, 2):\n",
    "    print(g, list(i))"
   ]
  },
  {
   "cell_type": "markdown",
   "metadata": {},
   "source": [
    "### Example: radix-2 16-FFT\n",
    "\n",
    "We can implement the 16-FFT as a radix-2 operation on an array of shape $[2,2,2,2]$."
   ]
  },
  {
   "cell_type": "code",
   "execution_count": 5,
   "metadata": {},
   "outputs": [],
   "source": [
    "def fft2(x0, x1):\n",
    "    y = np.zeros(shape=(2,), dtype='complex64')\n",
    "    y[0] = x0 + x1\n",
    "    y[1] = x0 - x1\n",
    "    return y"
   ]
  },
  {
   "cell_type": "markdown",
   "metadata": {},
   "source": [
    "To check whether our grouping works, we create a dummy array, and a dummy `fft2_check` that just checks if all arguments are in different channels."
   ]
  },
  {
   "cell_type": "code",
   "execution_count": 6,
   "metadata": {},
   "outputs": [],
   "source": [
    "def fft2_check(x0, x1):\n",
    "    assert np.all(x0 != x1)"
   ]
  },
  {
   "cell_type": "code",
   "execution_count": 7,
   "metadata": {},
   "outputs": [],
   "source": [
    "x = np.zeros(shape=(16,), dtype=int)\n",
    "for (g, i) in channels(16, 2):\n",
    "    x[list(i)] = g"
   ]
  },
  {
   "cell_type": "code",
   "execution_count": 8,
   "metadata": {},
   "outputs": [
    {
     "name": "stdout",
     "output_type": "stream",
     "text": [
      "succeeded\n"
     ]
    }
   ],
   "source": [
    "factors = [2, 2, 2, 2]\n",
    "s = x.reshape(factors)\n",
    "\n",
    "try:\n",
    "    for k in range(len(factors)):\n",
    "        fft2_check(np.take(s, 0, axis=k), np.take(s, 1, axis=k))\n",
    "except AssertionError:\n",
    "    print(\"failed\")\n",
    "else:\n",
    "    print(\"succeeded\")"
   ]
  },
  {
   "cell_type": "markdown",
   "metadata": {},
   "source": [
    "### Example: radix-4 64-FFT"
   ]
  },
  {
   "cell_type": "code",
   "execution_count": 9,
   "metadata": {},
   "outputs": [
    {
     "name": "stdout",
     "output_type": "stream",
     "text": [
      "0 [0, 7, 10, 13, 19, 22, 25, 28, 34, 37, 40, 47, 49, 52, 59, 62]\n",
      "1 [1, 4, 11, 14, 16, 23, 26, 29, 35, 38, 41, 44, 50, 53, 56, 63]\n",
      "2 [2, 5, 8, 15, 17, 20, 27, 30, 32, 39, 42, 45, 51, 54, 57, 60]\n",
      "3 [3, 6, 9, 12, 18, 21, 24, 31, 33, 36, 43, 46, 48, 55, 58, 61]\n"
     ]
    }
   ],
   "source": [
    "for g, i in channels(64, 4):\n",
    "    print(g, list(i))"
   ]
  },
  {
   "cell_type": "code",
   "execution_count": 10,
   "metadata": {},
   "outputs": [],
   "source": [
    "from itertools import combinations\n",
    "import math\n",
    "\n",
    "def fft4_check(x0, x1, x2, x3):\n",
    "    for (a, b) in combinations([x0, x1, x2, x3], 2):\n",
    "        assert np.all(a != b)"
   ]
  },
  {
   "cell_type": "code",
   "execution_count": 11,
   "metadata": {},
   "outputs": [],
   "source": [
    "N = 64\n",
    "radix = 4\n",
    "\n",
    "x = np.zeros(shape=(N,), dtype=int)\n",
    "for g, i in channels(N, radix):\n",
    "    x[list(i)] = g"
   ]
  },
  {
   "cell_type": "code",
   "execution_count": 12,
   "metadata": {},
   "outputs": [
    {
     "name": "stdout",
     "output_type": "stream",
     "text": [
      "succeeded\n"
     ]
    }
   ],
   "source": [
    "factors = [radix] * int(math.log(N, radix))\n",
    "s = x.reshape(factors)\n",
    "\n",
    "try:\n",
    "    for k in range(len(factors)):\n",
    "        fft4_check(*(np.take(s, i, axis=k) for i in range(radix)))\n",
    "except AssertionError:\n",
    "    print(\"failed\")\n",
    "else:\n",
    "    print(\"succeeded\")"
   ]
  }
 ],
 "metadata": {
  "kernelspec": {
   "display_name": "Python 3",
   "language": "python",
   "name": "python3"
  },
  "language_info": {
   "codemirror_mode": {
    "name": "ipython",
    "version": 3
   },
   "file_extension": ".py",
   "mimetype": "text/x-python",
   "name": "python",
   "nbconvert_exporter": "python",
   "pygments_lexer": "ipython3",
   "version": "3.7.6"
  }
 },
 "nbformat": 4,
 "nbformat_minor": 4
}
