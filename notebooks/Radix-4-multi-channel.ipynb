{
 "cells": [
  {
   "cell_type": "code",
   "execution_count": 15,
   "metadata": {},
   "outputs": [],
   "source": [
    "import numpy as np\n",
    "import math\n",
    "from itertools import groupby\n",
    "from functools import partial\n",
    "\n",
    "def make_twiddle(n1, n2):\n",
    "    def w(k, n):\n",
    "        return np.exp(2j * np.pi * k / n)\n",
    "\n",
    "    I1 = np.arange(n1)\n",
    "    I2 = np.arange(n2)\n",
    "    return w(I1[:,None] * I2[None,:], n1*n2).astype('complex64')"
   ]
  },
  {
   "cell_type": "markdown",
   "metadata": {},
   "source": [
    "## Radix-n data streamlining\n",
    "\n",
    "For a radix-2 FFT, it is possible to divide input data in such a way that every butterfly operation reads and writes to two different arrays in memory. This could be advantageous for an implementation on the FPGA. The trick is to separate data locations based on the parity of their index.\n",
    "\n",
    "### Parity\n",
    "\n",
    "The index of each element in the array can be written in binary. In the case of a radix-2 FFT, we can see the array being reshaped in a $[2, 2, 2, \\dots]$ shape. Every stage of the $n=2^k$ sized radix-2 FFT is being performed in a different dimension of the $k$-dimensional reshaped array. The indexing in this multi-dimensional array is the same as the binary notation for the linear index. That means that each time the 2-FFT is performed, the multi-index of the elements involved will differ by one bit in the linear index. Separating the array based on the parity of the index will guarantee that each 2-FFT operation reads and writes one (complex) number from each set. The parity is the sum of all the individual bits, modulo 2.\n",
    "\n",
    "$$P_2(i) = \\left(\\sum_k b_k\\right) \\mod 2,\\quad {\\rm where}\\, i := \\sum_k b_k 2^k$$\n",
    "\n",
    "We can extend this concept to the radix-4 FFT, on 4 data channels.\n",
    "\n",
    "### 4-parity\n",
    "\n",
    "In the radix-4 FFT we can view the array as being reshaped to a $[4, 4, 4, \\dots]$ shape. The multi-index into this array is equivalent to the quarternary number notation of the linear index. Similar to the radix-2 parity, we can define the radix-4 parity as the sum of each quarternary digit in the index, modulo 4.\n",
    "\n",
    "$$P_4(i) = \\left(\\sum_k q_k\\right) \\mod 4,\\quad {\\rm where}\\, i := \\sum_k q_k 4^k$$\n",
    "\n",
    "This would ensure that each 4-FFT reads its data from the 4 different input channels. We define the `parity` function to work with any radix:"
   ]
  },
  {
   "cell_type": "code",
   "execution_count": 16,
   "metadata": {},
   "outputs": [],
   "source": [
    "def digits(n, i):\n",
    "    \"\"\"Generates the n-numbered digits of i, in reverse order.\"\"\"\n",
    "    while True:\n",
    "        if i == 0:\n",
    "            return\n",
    "        else:\n",
    "            i, q = divmod(i, n)\n",
    "            yield q\n",
    "            \n",
    "def parity(n, i):\n",
    "    return sum(digits(n, i)) % n"
   ]
  },
  {
   "cell_type": "markdown",
   "metadata": {},
   "source": [
    "To see which index belongs in which channel, we use a `groupby` on keyed the `parity` function"
   ]
  },
  {
   "cell_type": "code",
   "execution_count": 17,
   "metadata": {},
   "outputs": [],
   "source": [
    "def channels(N, radix):\n",
    "    parity_r = partial(parity, radix)\n",
    "    return groupby(sorted(range(N), key=parity_r), parity_r)"
   ]
  },
  {
   "cell_type": "markdown",
   "metadata": {},
   "source": [
    "for instance, for radix-2, size 16, this creates the following channels"
   ]
  },
  {
   "cell_type": "code",
   "execution_count": 18,
   "metadata": {},
   "outputs": [
    {
     "name": "stdout",
     "output_type": "stream",
     "text": [
      "0 [0, 3, 5, 6, 9, 10, 12, 15]\n",
      "1 [1, 2, 4, 7, 8, 11, 13, 14]\n"
     ]
    }
   ],
   "source": [
    "for (g, i) in channels(16, 2):\n",
    "    print(g, list(i))"
   ]
  },
  {
   "cell_type": "markdown",
   "metadata": {},
   "source": [
    "### Example: radix-2 16-FFT\n",
    "\n",
    "We can implement the 16-FFT as a radix-2 operation on an array of shape $[2,2,2,2]$."
   ]
  },
  {
   "cell_type": "code",
   "execution_count": 19,
   "metadata": {},
   "outputs": [],
   "source": [
    "def fft2(x0, x1):\n",
    "    y = np.zeros(shape=(2,)+x0.shape, dtype='complex64')\n",
    "    y[0] = x0 + x1\n",
    "    y[1] = x0 - x1\n",
    "    x0[:] = y[0]\n",
    "    x1[:] = y[1]"
   ]
  },
  {
   "cell_type": "markdown",
   "metadata": {},
   "source": [
    "To check whether our grouping works, we create a dummy array, and a dummy `fft2_check` that just checks if all arguments are in different channels."
   ]
  },
  {
   "cell_type": "code",
   "execution_count": 20,
   "metadata": {},
   "outputs": [],
   "source": [
    "def fft2_check(x0, x1):\n",
    "    assert np.all(x0 != x1)"
   ]
  },
  {
   "cell_type": "code",
   "execution_count": 21,
   "metadata": {},
   "outputs": [],
   "source": [
    "x = np.zeros(shape=(16,), dtype=int)\n",
    "for (g, i) in channels(16, 2):\n",
    "    x[list(i)] = g"
   ]
  },
  {
   "cell_type": "code",
   "execution_count": 22,
   "metadata": {},
   "outputs": [
    {
     "name": "stdout",
     "output_type": "stream",
     "text": [
      "succeeded\n"
     ]
    }
   ],
   "source": [
    "N = 16\n",
    "radix = 2\n",
    "\n",
    "factors = [radix] * int(math.log(N, radix))\n",
    "s = x.reshape(factors).transpose()\n",
    "\n",
    "try:\n",
    "    for k in range(len(factors)):\n",
    "        fft2_check(np.take(s, 0, axis=k), np.take(s, 1, axis=k))\n",
    "except AssertionError:\n",
    "    print(\"failed\")\n",
    "else:\n",
    "    print(\"succeeded\")"
   ]
  },
  {
   "cell_type": "code",
   "execution_count": 23,
   "metadata": {},
   "outputs": [],
   "source": [
    "# x = (np.random.normal(size=N) + 1j * np.random.normal(size=N)).astype('complex64')\n",
    "x = np.arange(0, N, dtype='complex64')\n",
    "s = x.copy().reshape(factors).transpose()\n",
    "\n",
    "fft2(s[...,0], s[...,1])\n",
    "\n",
    "for k in range(1, len(factors)):\n",
    "    w = make_twiddle(2, 2**k).conj()[:,:]\n",
    "    z = s.reshape([-1, 2, 2**k])\n",
    "    z *= w\n",
    "    fft2(z[..., 0, :], z[..., 1, :])\n",
    "    s = z"
   ]
  },
  {
   "cell_type": "code",
   "execution_count": 24,
   "metadata": {},
   "outputs": [
    {
     "data": {
      "text/plain": [
       "array([120.        +0.j       ,  -7.9999995+40.21872j  ,\n",
       "        -8.       +19.31371j  ,  -8.       +11.972846j ,\n",
       "        -8.        +8.j       ,  -8.        +5.3454294j,\n",
       "        -8.        +3.3137083j,  -8.        +1.591299j ,\n",
       "        -8.        +0.j       ,  -8.        -1.591299j ,\n",
       "        -8.        -3.3137083j,  -8.        -5.3454294j,\n",
       "        -8.        -8.j       ,  -8.       -11.972846j ,\n",
       "        -8.       -19.31371j  ,  -7.9999995-40.21872j  ], dtype=complex64)"
      ]
     },
     "execution_count": 24,
     "metadata": {},
     "output_type": "execute_result"
    }
   ],
   "source": [
    "s.flatten()"
   ]
  },
  {
   "cell_type": "code",
   "execution_count": 25,
   "metadata": {},
   "outputs": [
    {
     "data": {
      "text/plain": [
       "3.577337255373132e-06"
      ]
     },
     "execution_count": 25,
     "metadata": {},
     "output_type": "execute_result"
    }
   ],
   "source": [
    "abs(s.flatten() - np.fft.fft(x)).max()"
   ]
  },
  {
   "cell_type": "markdown",
   "metadata": {},
   "source": [
    "### Example: radix-4 64-FFT"
   ]
  },
  {
   "cell_type": "code",
   "execution_count": 26,
   "metadata": {},
   "outputs": [
    {
     "name": "stdout",
     "output_type": "stream",
     "text": [
      "0 [0, 7, 10, 13, 19, 22, 25, 28, 34, 37, 40, 47, 49, 52, 59, 62]\n",
      "1 [1, 4, 11, 14, 16, 23, 26, 29, 35, 38, 41, 44, 50, 53, 56, 63]\n",
      "2 [2, 5, 8, 15, 17, 20, 27, 30, 32, 39, 42, 45, 51, 54, 57, 60]\n",
      "3 [3, 6, 9, 12, 18, 21, 24, 31, 33, 36, 43, 46, 48, 55, 58, 61]\n"
     ]
    }
   ],
   "source": [
    "for g, i in channels(64, 4):\n",
    "    print(g, list(i))"
   ]
  },
  {
   "cell_type": "code",
   "execution_count": 27,
   "metadata": {},
   "outputs": [],
   "source": [
    "from itertools import combinations\n",
    "import math\n",
    "\n",
    "def fft4_check(x0, x1, x2, x3):\n",
    "    for (a, b) in combinations([x0, x1, x2, x3], 2):\n",
    "        assert np.all(a != b)"
   ]
  },
  {
   "cell_type": "code",
   "execution_count": 28,
   "metadata": {},
   "outputs": [],
   "source": [
    "N = 64\n",
    "radix = 4\n",
    "\n",
    "x = np.zeros(shape=(N,), dtype=int)\n",
    "for g, i in channels(N, radix):\n",
    "    x[list(i)] = g"
   ]
  },
  {
   "cell_type": "code",
   "execution_count": 29,
   "metadata": {},
   "outputs": [
    {
     "name": "stdout",
     "output_type": "stream",
     "text": [
      "succeeded\n"
     ]
    }
   ],
   "source": [
    "factors = [radix] * int(math.log(N, radix))\n",
    "s = x.reshape(factors)\n",
    "\n",
    "try:\n",
    "    for k in range(len(factors)):\n",
    "        fft4_check(*(np.take(s, i, axis=k) for i in range(radix)))\n",
    "except AssertionError:\n",
    "    print(\"failed\")\n",
    "else:\n",
    "    print(\"succeeded\")"
   ]
  },
  {
   "cell_type": "markdown",
   "metadata": {},
   "source": [
    "## Implementing the radix-4 FFT"
   ]
  },
  {
   "cell_type": "code",
   "execution_count": 30,
   "metadata": {},
   "outputs": [],
   "source": [
    "def fft4(x0, x1, x2, x3, w0=1, w1=1, w2=1, w3=1):\n",
    "    a = w0*x0 + w2*x2\n",
    "    b = w1*x1 + w3*x3\n",
    "    c = w0*x0 - w2*x2\n",
    "    d = w1*x1 - w3*x3\n",
    "    x0[:] = a + b\n",
    "    x1[:] = c - 1j*d\n",
    "    x2[:] = a - b\n",
    "    x3[:] = c + 1j*d"
   ]
  },
  {
   "cell_type": "code",
   "execution_count": 31,
   "metadata": {},
   "outputs": [],
   "source": [
    "x = np.arange(0, N, dtype='complex64')\n",
    "s = x.copy().reshape(factors).transpose()\n",
    "\n",
    "fft4(*(s[...,k] for k in range(4)))\n",
    "\n",
    "for k in range(1, len(factors)):\n",
    "    w = make_twiddle(4, 4**k).conj()[:,:]\n",
    "    z = s.reshape([-1, 4, 4**k])\n",
    "    z *= w\n",
    "    fft4(*(z[..., l, :] for l in range(4)))\n",
    "    s = z"
   ]
  },
  {
   "cell_type": "code",
   "execution_count": 32,
   "metadata": {},
   "outputs": [
    {
     "data": {
      "text/plain": [
       "2.5034746158780763e-05"
      ]
     },
     "execution_count": 32,
     "metadata": {},
     "output_type": "execute_result"
    }
   ],
   "source": [
    "abs(s.flatten() - np.fft.fft(x)).max()"
   ]
  },
  {
   "cell_type": "markdown",
   "metadata": {},
   "source": [
    "## OpenCL\n",
    "\n",
    "Each of the transforms are in-place, meaning we can do this in any order, but we don't know the system in the indices yet."
   ]
  },
  {
   "cell_type": "code",
   "execution_count": 33,
   "metadata": {},
   "outputs": [
    {
     "data": {
      "text/plain": [
       "array([[0, 1, 2, 3, 1, 2, 3, 0, 2, 3, 0, 1, 3, 0, 1, 2],\n",
       "       [1, 2, 3, 0, 2, 3, 0, 1, 3, 0, 1, 2, 0, 1, 2, 3],\n",
       "       [2, 3, 0, 1, 3, 0, 1, 2, 0, 1, 2, 3, 1, 2, 3, 0],\n",
       "       [3, 0, 1, 2, 0, 1, 2, 3, 1, 2, 3, 0, 2, 3, 0, 1]])"
      ]
     },
     "execution_count": 33,
     "metadata": {},
     "output_type": "execute_result"
    }
   ],
   "source": [
    "# Fill `x` with the integer id of the array to which the location belongs\n",
    "x = np.zeros(shape=(N,), dtype=int)\n",
    "for g, i in channels(N, radix):\n",
    "    x[list(i)] = g  # np.arange(N//radix, dtype=int)\n",
    "s = x.reshape(factors).transpose()\n",
    "\n",
    "perm = np.array([s[...,k].flatten() for k in range(4)])\n",
    "perm"
   ]
  },
  {
   "cell_type": "markdown",
   "metadata": {},
   "source": [
    "This pattern is the same for each iteration. Note that the permutation is always the same cycle starting at a different number. This means the top row gives us which of the four permutations is needed. Do we implement four different versions of `fft4` to implement each permutation?"
   ]
  },
  {
   "cell_type": "code",
   "execution_count": 34,
   "metadata": {},
   "outputs": [
    {
     "data": {
      "text/plain": [
       "array([[ 0,  7, 10, 13],\n",
       "       [ 1,  4, 11, 14],\n",
       "       [ 2,  5,  8, 15],\n",
       "       [ 3,  6,  9, 12]])"
      ]
     },
     "execution_count": 34,
     "metadata": {},
     "output_type": "execute_result"
    }
   ],
   "source": [
    "colid = np.argsort(perm[0]).reshape(4,4)\n",
    "colid"
   ]
  },
  {
   "cell_type": "markdown",
   "metadata": {},
   "source": [
    "These are the indices into the index array that will select which of the four permutated versions of `fft4` needs to be used."
   ]
  },
  {
   "cell_type": "markdown",
   "metadata": {},
   "source": [
    "Now for the indices into each channel:"
   ]
  },
  {
   "cell_type": "code",
   "execution_count": 35,
   "metadata": {},
   "outputs": [
    {
     "data": {
      "text/plain": [
       "array([[ 0,  1,  2,  3,  0,  1,  2,  3,  0,  1,  2,  3,  0,  1,  2,  3],\n",
       "       [ 4,  5,  6,  7,  4,  5,  6,  7,  4,  5,  6,  7,  4,  5,  6,  7],\n",
       "       [ 8,  9, 10, 11,  8,  9, 10, 11,  8,  9, 10, 11,  8,  9, 10, 11],\n",
       "       [12, 13, 14, 15, 12, 13, 14, 15, 12, 13, 14, 15, 12, 13, 14, 15]])"
      ]
     },
     "execution_count": 35,
     "metadata": {},
     "output_type": "execute_result"
    }
   ],
   "source": [
    "# Here `x` is the index into each source array\n",
    "x = np.zeros(shape=(N,), dtype=int)\n",
    "for g, i in channels(N, radix):\n",
    "    #x[list(i)] = g  # np.arange(N//radix, dtype=int)\n",
    "    x[list(i)] = np.arange(N//radix, dtype=int)\n",
    "s = x.reshape(factors).transpose()\n",
    "\n",
    "idx = np.array([s[...,k].flatten() for k in range(4)])\n",
    "idx"
   ]
  },
  {
   "cell_type": "markdown",
   "metadata": {},
   "source": [
    "So the first permutation is called with these indices"
   ]
  },
  {
   "cell_type": "code",
   "execution_count": 36,
   "metadata": {},
   "outputs": [
    {
     "data": {
      "text/plain": [
       "array([[ 0,  3,  2,  1],\n",
       "       [ 4,  7,  6,  5],\n",
       "       [ 8, 11, 10,  9],\n",
       "       [12, 15, 14, 13]])"
      ]
     },
     "execution_count": 36,
     "metadata": {},
     "output_type": "execute_result"
    }
   ],
   "source": [
    "idx[:,colid[0]]"
   ]
  },
  {
   "cell_type": "markdown",
   "metadata": {},
   "source": [
    "and so on ..., these all contain the same columns in different order. Meaning we can run each `fft4` permutation **with the same indices!**"
   ]
  },
  {
   "cell_type": "code",
   "execution_count": 37,
   "metadata": {},
   "outputs": [
    {
     "data": {
      "text/plain": [
       "array([[ 0,  4,  8, 12,  0,  4,  8, 12,  0,  4,  8, 12,  0,  4,  8, 12],\n",
       "       [ 1,  5,  9, 13,  1,  5,  9, 13,  1,  5,  9, 13,  1,  5,  9, 13],\n",
       "       [ 2,  6, 10, 14,  2,  6, 10, 14,  2,  6, 10, 14,  2,  6, 10, 14],\n",
       "       [ 3,  7, 11, 15,  3,  7, 11, 15,  3,  7, 11, 15,  3,  7, 11, 15]])"
      ]
     },
     "execution_count": 37,
     "metadata": {},
     "output_type": "execute_result"
    }
   ],
   "source": [
    "z = s.reshape([-1, 4, 4])\n",
    "idx = np.array([z[:,l,:].flatten() for l in range(4)])\n",
    "idx"
   ]
  },
  {
   "cell_type": "code",
   "execution_count": 38,
   "metadata": {},
   "outputs": [
    {
     "data": {
      "text/plain": [
       "array([[ 0, 12,  8,  4],\n",
       "       [ 1, 13,  9,  5],\n",
       "       [ 2, 14, 10,  6],\n",
       "       [ 3, 15, 11,  7]])"
      ]
     },
     "execution_count": 38,
     "metadata": {},
     "output_type": "execute_result"
    }
   ],
   "source": [
    "idx[:,colid[0]]"
   ]
  },
  {
   "cell_type": "code",
   "execution_count": 39,
   "metadata": {},
   "outputs": [],
   "source": [
    "z = s.reshape([-1, 4, 16])\n",
    "idx = np.array([z[:,l,:].flatten() for l in range(4)])"
   ]
  },
  {
   "cell_type": "code",
   "execution_count": 40,
   "metadata": {},
   "outputs": [
    {
     "data": {
      "text/plain": [
       "array([[ 4,  1, 14, 11],\n",
       "       [ 4,  1, 14, 11],\n",
       "       [ 4,  1, 14, 11],\n",
       "       [ 4,  1, 14, 11]])"
      ]
     },
     "execution_count": 40,
     "metadata": {},
     "output_type": "execute_result"
    }
   ],
   "source": [
    "idx[:,colid[1]]"
   ]
  },
  {
   "cell_type": "markdown",
   "metadata": {},
   "source": [
    "Only the last instance is different. However, note that these are the same indices as we found in computing the 4-parity."
   ]
  },
  {
   "cell_type": "markdown",
   "metadata": {},
   "source": [
    "# An algorithm by recipe"
   ]
  },
  {
   "cell_type": "code",
   "execution_count": 41,
   "metadata": {},
   "outputs": [],
   "source": [
    "from dataclasses import dataclass\n",
    "\n",
    "@dataclass\n",
    "class MultiChannel:\n",
    "    N: int\n",
    "    radix: int\n",
    "    \n",
    "    @property\n",
    "    def depth(self):\n",
    "        return int(math.log(self.N, self.radix))\n",
    "    \n",
    "    @property\n",
    "    def M(self):\n",
    "        return self.N//self.radix\n",
    "    \n",
    "    @property\n",
    "    def L(self):\n",
    "        return self.M//self.radix\n",
    "    \n",
    "    @property\n",
    "    def factors(self):\n",
    "        return [self.radix] * self.depth\n",
    "    \n",
    "    @property\n",
    "    def channels(self):\n",
    "        return channels(self.N, self.radix)\n",
    "    \n",
    "    @property\n",
    "    def channel_loc(self):\n",
    "        x = np.zeros(shape=(self.N,), dtype=int)\n",
    "        for g, i in self.channels:\n",
    "            x[list(i)] = g\n",
    "        return x.reshape(self.factors)\n",
    "    \n",
    "    @property\n",
    "    def index_loc(self):\n",
    "        x = np.zeros(shape=(self.N,), dtype=int)\n",
    "        for g, i in self.channels:\n",
    "            x[list(i)] = np.arange(self.M, dtype=int)\n",
    "        return x.reshape(self.factors)\n",
    "    \n",
    "    def mix(self, x):\n",
    "        return tuple(x[list(i)].copy() for g, i in self.channels)\n",
    "\n",
    "    def unmix(self, s):\n",
    "        x = np.zeros(shape=(self.N,), dtype='complex64')\n",
    "        for g, i in self.channels:\n",
    "            x[list(i)] = s[g]\n",
    "        return x"
   ]
  },
  {
   "cell_type": "code",
   "execution_count": 42,
   "metadata": {},
   "outputs": [],
   "source": [
    "def fft4x(x0, x1, x2, x3, i0, i1, i2, i3, w0=1, w1=1, w2=1, w3=1):\n",
    "    a = w0*x0[i0] + w2*x2[i2]\n",
    "    b = w1*x1[i1] + w3*x3[i3]\n",
    "    c = w0*x0[i0] - w2*x2[i2]\n",
    "    d = w1*x1[i1] - w3*x3[i3]\n",
    "    x0[i0] = a + b\n",
    "    x1[i1] = c - 1j*d\n",
    "    x2[i2] = a - b\n",
    "    x3[i3] = c + 1j*d"
   ]
  },
  {
   "cell_type": "code",
   "execution_count": 43,
   "metadata": {},
   "outputs": [],
   "source": [
    "mc = MultiChannel(64, 4)\n",
    "\n",
    "# let x be the input array\n",
    "x = np.arange(0, N, dtype='complex64')\n",
    "\n",
    "# <lin> ===========================================\n",
    "s_lin = x.copy().reshape(mc.factors).transpose()\n",
    "fft4(*(s_lin[...,k] for k in range(4)))\n",
    "# </lin> ==========================================\n",
    "\n",
    "mc =  MultiChannel(N=64, radix=4)\n",
    "\n",
    "x = np.arange(N, dtype='complex64')\n",
    "s = mc.mix(x.reshape(mc.factors).transpose().flatten())\n",
    "    \n",
    "# 16 fft-4, the inner-loop is best left unfolded\n",
    "ca = mc.channel_loc.reshape([-1, 4])\n",
    "ia = mc.index_loc.reshape([-1, 4])\n",
    "\n",
    "for c, i in zip(ca, ia):\n",
    "    fft4x(*[s[i] for i in c], *i)\n",
    "\n",
    "assert abs(mc.unmix(s) - s_lin.flatten()).max() < 1e-4"
   ]
  },
  {
   "cell_type": "code",
   "execution_count": 44,
   "metadata": {},
   "outputs": [],
   "source": [
    "# <lin> ===========================================\n",
    "w = make_twiddle(4, 4).conj()\n",
    "s_lin *= w\n",
    "fft4(*(s_lin[..., l, :] for l in range(4)))\n",
    "# </lin> ==========================================\n",
    "\n",
    "ca = mc.channel_loc.transpose([0,2,1]).reshape([-1, 4])\n",
    "ia = mc.index_loc.transpose([0,2,1]).reshape([-1, 4])\n",
    "w_4_4 = (np.ones(shape=[4,4,4]) * w).transpose([0,2,1]).reshape([-1,4])\n",
    "\n",
    "for c, i, w in zip(ca, ia, w_4_4):\n",
    "    fft4x(*[s[i] for i in c], *i, *w)\n",
    "\n",
    "assert abs(mc.unmix(s) - s_lin.flatten()).max() < 1e-4"
   ]
  },
  {
   "cell_type": "code",
   "execution_count": 45,
   "metadata": {},
   "outputs": [],
   "source": [
    "# <lin> ===========================================\n",
    "w = make_twiddle(4, 16).conj()\n",
    "s_lin *= w.reshape([4,4,4])\n",
    "fft4(*(s_lin[l] for l in range(4)))\n",
    "# </lin> =========================================="
   ]
  },
  {
   "cell_type": "code",
   "execution_count": 46,
   "metadata": {},
   "outputs": [],
   "source": [
    "ca = mc.channel_loc.transpose([1,2,0]).reshape([-1, 4])\n",
    "ia = mc.index_loc.transpose([1,2,0]).reshape([-1, 4])\n",
    "w_4_16 = w.reshape([4,4,4]).transpose([1,2,0]).reshape([-1,4])\n",
    "\n",
    "for c, i, w in zip(ca, ia, w_4_16):\n",
    "    fft4x(*[s[i] for i in c], *i, *w)\n",
    "\n",
    "assert abs(mc.unmix(s) - s_lin.flatten()).max() < 1e-4\n",
    "assert abs(mc.unmix(s) - np.fft.fft(x)).max() < 1e-4"
   ]
  },
  {
   "cell_type": "markdown",
   "metadata": {},
   "source": [
    "## Observations\n",
    "\n",
    "The `ca` array is always the same."
   ]
  },
  {
   "cell_type": "markdown",
   "metadata": {},
   "source": [
    "# Unrolling the recipe for permutations"
   ]
  },
  {
   "cell_type": "markdown",
   "metadata": {},
   "source": [
    "The pattern of the permutation shifts one every outer loop. To correct for this we need to permute all input factors"
   ]
  },
  {
   "cell_type": "code",
   "execution_count": 47,
   "metadata": {},
   "outputs": [],
   "source": [
    "ca = mc.channel_loc.reshape([4, 4, 4])\n",
    "perm = (ca[:,0,:].argsort(axis=1) + (np.arange(4)*4)[:,None]).flatten()"
   ]
  },
  {
   "cell_type": "code",
   "execution_count": 48,
   "metadata": {},
   "outputs": [
    {
     "data": {
      "text/plain": [
       "array([ 0,  1,  2,  3,  7,  4,  5,  6, 10, 11,  8,  9, 13, 14, 15, 12])"
      ]
     },
     "execution_count": 48,
     "metadata": {},
     "output_type": "execute_result"
    }
   ],
   "source": [
    "perm"
   ]
  },
  {
   "cell_type": "code",
   "execution_count": 49,
   "metadata": {},
   "outputs": [
    {
     "data": {
      "text/plain": [
       "[[0, 1, 2, 3], [7, 4, 5, 6], [10, 11, 8, 9], [13, 14, 15, 12]]"
      ]
     },
     "execution_count": 49,
     "metadata": {},
     "output_type": "execute_result"
    }
   ],
   "source": [
    "[[i*4 + (rot-i)%4 for rot in range(4)] for i in range(4)]"
   ]
  },
  {
   "cell_type": "code",
   "execution_count": 50,
   "metadata": {},
   "outputs": [],
   "source": [
    "mc =  MultiChannel(N=64, radix=4)\n",
    "\n",
    "x = np.arange(N, dtype='complex64')\n",
    "s = mc.mix(x.reshape(mc.factors).transpose().flatten())\n",
    "w_0 = np.ones(shape=[16,4])\n",
    "\n",
    "w = make_twiddle(4, 4).conj()\n",
    "w_4_4 = (np.ones(shape=[4,4,4]) * w).transpose([0,2,1]).reshape([-1,4])[perm]\n",
    "\n",
    "w = make_twiddle(4, 16).conj()\n",
    "w_4_16 = w.reshape([4,4,4]).transpose([1,2,0]).reshape([-1,4])[perm]\n",
    "\n",
    "W = np.r_[w_0, w_4_4, w_4_16]\n",
    "\n",
    "fa = 1\n",
    "fb = 1\n",
    "fc = 4\n",
    "Wp = 0\n",
    "\n",
    "for k in range(3):\n",
    "    for i in range(4):\n",
    "        for rot in range(4):\n",
    "            ix = [fa * (i*4 + (rot - i)%4) + (1-fa) * (i*fc + j*fb) for j in range(4)]\n",
    "            fft4x(*[s[(rot+j) % 4] for j in range(4)],\n",
    "                  *ix,\n",
    "                  *W[Wp])\n",
    "            Wp += 1\n",
    "    if fa == 0:\n",
    "        fc //= 4\n",
    "        fb *= 4\n",
    "    else:\n",
    "        fa = 0"
   ]
  },
  {
   "cell_type": "code",
   "execution_count": 51,
   "metadata": {},
   "outputs": [],
   "source": [
    "assert abs(mc.unmix(s) - np.fft.fft(x)).max() < 1e-4"
   ]
  },
  {
   "cell_type": "code",
   "execution_count": 52,
   "metadata": {},
   "outputs": [],
   "source": [
    "mc =  MultiChannel(N=1024, radix=4)\n",
    "# perm = [i*mc.radix + (rot-i)%mc.radix for i in range(mc.L) for rot in range(mc.radix)]\n",
    "\n",
    "ca = mc.channel_loc.reshape(mc.factors)\n",
    "# perm = (ca[...,0,:].argsort(axis=1) + (np.arange(16)*4)[:,None]).flatten()"
   ]
  },
  {
   "cell_type": "code",
   "execution_count": 53,
   "metadata": {},
   "outputs": [],
   "source": [
    "def comp_perm(radix, i):\n",
    "    base = (i & ~(radix - 1))\n",
    "    rem = (i & (radix - 1))\n",
    "    p = parity(radix, base)\n",
    "    return base | ((rem - p) % radix)\n",
    "\n",
    "def comp_idx(radix, i, j, k):\n",
    "    base = (i & ~(radix**k - 1))\n",
    "    rem  = (i &  (radix**k - 1))\n",
    "    return rem + j * radix**k + base * radix"
   ]
  },
  {
   "cell_type": "code",
   "execution_count": 58,
   "metadata": {},
   "outputs": [],
   "source": [
    "%%capture fft_1024_mc_cl\n",
    "\n",
    "# x = np.arange(mc.N, dtype='complex64')\n",
    "x = np.random.normal(size=mc.N) + 1j*np.random.normal(size=mc.N)\n",
    "s = mc.mix(x.reshape(mc.factors).transpose().flatten())\n",
    "W = np.ones(shape=[mc.radix, mc.radix])\n",
    "perm = np.array([comp_perm(mc.radix, i) for i in range(mc.M)])\n",
    "\n",
    "n = mc.radix\n",
    "for k in range(mc.depth - 1):\n",
    "    w = make_twiddle(mc.radix, n).conj()\n",
    "    w_r_x = (np.ones(shape=[mc.M//n,mc.radix,n]) * w).transpose([0,2,1]).reshape([-1,mc.radix])[perm]\n",
    "    W = np.r_[W, w_r_x]\n",
    "    n *= mc.radix\n",
    "\n",
    "print(f\"__constant float2 W[{W.shape[0]}][{mc.radix-1}] {{\")\n",
    "print( \"    {\" + \"},\\n    {\".join(\", \".join(f\"(float2) ({w.real: f}f, {w.imag: f}f)\" for w in ws[1:]) for ws in W) + \"}};\")\n",
    "\n",
    "print( \"void fft_4(__restrict float2 *s0, __restrict float2 *s1, __restrict float2 *s2, __restrict float2 *s3,\")\n",
    "print( \"           int i0, int i1, int i2, int i3, int iw)\")\n",
    "print( \"{\")\n",
    "print( \"}\")\n",
    "\n",
    "print(f\"void fft_{mc.N}(__restrict float2 *s0, __restrict float2 *s1, __restrict float2 *s2, __restrict float2 *s3)\")\n",
    "print( \"{\")\n",
    "print( \"    bool first = true;\")\n",
    "print(f\"    for (int k = 0; k < {mc.depth}; ++k) {{\")\n",
    "print(f\"        for (int i = 0; i < {mc.L}; ++i) {{\")        \n",
    "print( \"            if (!first) {\")\n",
    "print( \"            } else {\")\n",
    "print( \"            }\")\n",
    "print( \"        }\")\n",
    "print( \"    }\")\n",
    "print( \"}\")\n",
    "\n",
    "Wp = 0\n",
    "\n",
    "for k in range(mc.depth):\n",
    "    for i in range(mc.L):\n",
    "        if k > 0:\n",
    "            ix = [comp_idx(mc.radix, i, j, k-1) for j in range(mc.radix)]\n",
    "            Wp += 4\n",
    "        else:\n",
    "            ix = [comp_perm(mc.radix, i*mc.radix)] * mc.radix\n",
    "        fft4x(s[0], s[1], s[2], s[3], *ix, *W[Wp])\n",
    "        if k == 0:\n",
    "            ix = [comp_perm(mc.radix, i*mc.radix+1)] * mc.radix\n",
    "        fft4x(s[1], s[2], s[3], s[0], *ix, *W[Wp+1])\n",
    "        if k == 0:\n",
    "            ix = [comp_perm(mc.radix, i*mc.radix+2)] * mc.radix\n",
    "        fft4x(s[2], s[3], s[0], s[1], *ix, *W[Wp+2])\n",
    "        if k == 0:\n",
    "            ix = [comp_perm(mc.radix, i*mc.radix+3)] * mc.radix\n",
    "        fft4x(s[3], s[0], s[1], s[2], *ix, *W[Wp+3])"
   ]
  },
  {
   "cell_type": "code",
   "execution_count": 61,
   "metadata": {},
   "outputs": [
    {
     "data": {
      "text/plain": [
       "array([1.+0.j, 1.+0.j, 1.+0.j, 1.+0.j, 1.+0.j, 1.+0.j, 1.+0.j, 1.+0.j,\n",
       "       1.+0.j, 1.+0.j, 1.+0.j, 1.+0.j, 1.+0.j, 1.+0.j, 1.+0.j, 1.+0.j,\n",
       "       1.+0.j, 1.+0.j, 1.+0.j, 1.+0.j, 1.+0.j, 1.+0.j, 1.+0.j, 1.+0.j,\n",
       "       1.+0.j, 1.+0.j, 1.+0.j, 1.+0.j, 1.+0.j, 1.+0.j, 1.+0.j, 1.+0.j,\n",
       "       1.+0.j, 1.+0.j, 1.+0.j, 1.+0.j, 1.+0.j, 1.+0.j, 1.+0.j, 1.+0.j,\n",
       "       1.+0.j, 1.+0.j, 1.+0.j, 1.+0.j, 1.+0.j, 1.+0.j, 1.+0.j, 1.+0.j,\n",
       "       1.+0.j, 1.+0.j, 1.+0.j, 1.+0.j, 1.+0.j, 1.+0.j, 1.+0.j, 1.+0.j,\n",
       "       1.+0.j, 1.+0.j, 1.+0.j, 1.+0.j, 1.+0.j, 1.+0.j, 1.+0.j, 1.+0.j,\n",
       "       1.+0.j, 1.+0.j, 1.+0.j, 1.+0.j, 1.+0.j, 1.+0.j, 1.+0.j, 1.+0.j,\n",
       "       1.+0.j, 1.+0.j, 1.+0.j, 1.+0.j, 1.+0.j, 1.+0.j, 1.+0.j, 1.+0.j,\n",
       "       1.+0.j, 1.+0.j, 1.+0.j, 1.+0.j, 1.+0.j, 1.+0.j, 1.+0.j, 1.+0.j,\n",
       "       1.+0.j, 1.+0.j, 1.+0.j, 1.+0.j, 1.+0.j, 1.+0.j, 1.+0.j, 1.+0.j,\n",
       "       1.+0.j, 1.+0.j, 1.+0.j, 1.+0.j, 1.+0.j, 1.+0.j, 1.+0.j, 1.+0.j,\n",
       "       1.+0.j, 1.+0.j, 1.+0.j, 1.+0.j, 1.+0.j, 1.+0.j, 1.+0.j, 1.+0.j,\n",
       "       1.+0.j, 1.+0.j, 1.+0.j, 1.+0.j, 1.+0.j, 1.+0.j, 1.+0.j, 1.+0.j,\n",
       "       1.+0.j, 1.+0.j, 1.+0.j, 1.+0.j, 1.+0.j, 1.+0.j, 1.+0.j, 1.+0.j,\n",
       "       1.+0.j, 1.+0.j, 1.+0.j, 1.+0.j, 1.+0.j, 1.+0.j, 1.+0.j, 1.+0.j,\n",
       "       1.+0.j, 1.+0.j, 1.+0.j, 1.+0.j, 1.+0.j, 1.+0.j, 1.+0.j, 1.+0.j,\n",
       "       1.+0.j, 1.+0.j, 1.+0.j, 1.+0.j, 1.+0.j, 1.+0.j, 1.+0.j, 1.+0.j,\n",
       "       1.+0.j, 1.+0.j, 1.+0.j, 1.+0.j, 1.+0.j, 1.+0.j, 1.+0.j, 1.+0.j,\n",
       "       1.+0.j, 1.+0.j, 1.+0.j, 1.+0.j, 1.+0.j, 1.+0.j, 1.+0.j, 1.+0.j,\n",
       "       1.+0.j, 1.+0.j, 1.+0.j, 1.+0.j, 1.+0.j, 1.+0.j, 1.+0.j, 1.+0.j,\n",
       "       1.+0.j, 1.+0.j, 1.+0.j, 1.+0.j, 1.+0.j, 1.+0.j, 1.+0.j, 1.+0.j,\n",
       "       1.+0.j, 1.+0.j, 1.+0.j, 1.+0.j, 1.+0.j, 1.+0.j, 1.+0.j, 1.+0.j,\n",
       "       1.+0.j, 1.+0.j, 1.+0.j, 1.+0.j, 1.+0.j, 1.+0.j, 1.+0.j, 1.+0.j,\n",
       "       1.+0.j, 1.+0.j, 1.+0.j, 1.+0.j, 1.+0.j, 1.+0.j, 1.+0.j, 1.+0.j,\n",
       "       1.+0.j, 1.+0.j, 1.+0.j, 1.+0.j, 1.+0.j, 1.+0.j, 1.+0.j, 1.+0.j,\n",
       "       1.+0.j, 1.+0.j, 1.+0.j, 1.+0.j, 1.+0.j, 1.+0.j, 1.+0.j, 1.+0.j,\n",
       "       1.+0.j, 1.+0.j, 1.+0.j, 1.+0.j, 1.+0.j, 1.+0.j, 1.+0.j, 1.+0.j,\n",
       "       1.+0.j, 1.+0.j, 1.+0.j, 1.+0.j, 1.+0.j, 1.+0.j, 1.+0.j, 1.+0.j,\n",
       "       1.+0.j, 1.+0.j, 1.+0.j, 1.+0.j, 1.+0.j, 1.+0.j, 1.+0.j, 1.+0.j,\n",
       "       1.+0.j, 1.+0.j, 1.+0.j, 1.+0.j, 1.+0.j, 1.+0.j, 1.+0.j, 1.+0.j,\n",
       "       1.+0.j, 1.+0.j, 1.+0.j, 1.+0.j, 1.+0.j, 1.+0.j, 1.+0.j, 1.+0.j,\n",
       "       1.+0.j, 1.+0.j, 1.+0.j, 1.+0.j, 1.+0.j, 1.+0.j, 1.+0.j, 1.+0.j,\n",
       "       1.+0.j, 1.+0.j, 1.+0.j, 1.+0.j, 1.+0.j, 1.+0.j, 1.+0.j, 1.+0.j,\n",
       "       1.+0.j, 1.+0.j, 1.+0.j, 1.+0.j, 1.+0.j, 1.+0.j, 1.+0.j, 1.+0.j,\n",
       "       1.+0.j, 1.+0.j, 1.+0.j, 1.+0.j, 1.+0.j, 1.+0.j, 1.+0.j, 1.+0.j,\n",
       "       1.+0.j, 1.+0.j, 1.+0.j, 1.+0.j, 1.+0.j, 1.+0.j, 1.+0.j, 1.+0.j,\n",
       "       1.+0.j, 1.+0.j, 1.+0.j, 1.+0.j, 1.+0.j, 1.+0.j, 1.+0.j, 1.+0.j,\n",
       "       1.+0.j, 1.+0.j, 1.+0.j, 1.+0.j, 1.+0.j, 1.+0.j, 1.+0.j, 1.+0.j,\n",
       "       1.+0.j, 1.+0.j, 1.+0.j, 1.+0.j, 1.+0.j, 1.+0.j, 1.+0.j, 1.+0.j,\n",
       "       1.+0.j, 1.+0.j, 1.+0.j, 1.+0.j, 1.+0.j, 1.+0.j, 1.+0.j, 1.+0.j,\n",
       "       1.+0.j, 1.+0.j, 1.+0.j, 1.+0.j, 1.+0.j, 1.+0.j, 1.+0.j, 1.+0.j,\n",
       "       1.+0.j, 1.+0.j, 1.+0.j, 1.+0.j, 1.+0.j, 1.+0.j, 1.+0.j, 1.+0.j,\n",
       "       1.+0.j, 1.+0.j, 1.+0.j, 1.+0.j, 1.+0.j, 1.+0.j, 1.+0.j, 1.+0.j,\n",
       "       1.+0.j, 1.+0.j, 1.+0.j, 1.+0.j, 1.+0.j, 1.+0.j, 1.+0.j, 1.+0.j,\n",
       "       1.+0.j, 1.+0.j, 1.+0.j, 1.+0.j, 1.+0.j, 1.+0.j, 1.+0.j, 1.+0.j,\n",
       "       1.+0.j, 1.+0.j, 1.+0.j, 1.+0.j, 1.+0.j, 1.+0.j, 1.+0.j, 1.+0.j,\n",
       "       1.+0.j, 1.+0.j, 1.+0.j, 1.+0.j, 1.+0.j, 1.+0.j, 1.+0.j, 1.+0.j,\n",
       "       1.+0.j, 1.+0.j, 1.+0.j, 1.+0.j, 1.+0.j, 1.+0.j, 1.+0.j, 1.+0.j,\n",
       "       1.+0.j, 1.+0.j, 1.+0.j, 1.+0.j, 1.+0.j, 1.+0.j, 1.+0.j, 1.+0.j,\n",
       "       1.+0.j, 1.+0.j, 1.+0.j, 1.+0.j, 1.+0.j, 1.+0.j, 1.+0.j, 1.+0.j,\n",
       "       1.+0.j, 1.+0.j, 1.+0.j, 1.+0.j, 1.+0.j, 1.+0.j, 1.+0.j, 1.+0.j,\n",
       "       1.+0.j, 1.+0.j, 1.+0.j, 1.+0.j, 1.+0.j, 1.+0.j, 1.+0.j, 1.+0.j,\n",
       "       1.+0.j, 1.+0.j, 1.+0.j, 1.+0.j, 1.+0.j, 1.+0.j, 1.+0.j, 1.+0.j,\n",
       "       1.+0.j, 1.+0.j, 1.+0.j, 1.+0.j, 1.+0.j, 1.+0.j, 1.+0.j, 1.+0.j,\n",
       "       1.+0.j, 1.+0.j, 1.+0.j, 1.+0.j, 1.+0.j, 1.+0.j, 1.+0.j, 1.+0.j,\n",
       "       1.+0.j, 1.+0.j, 1.+0.j, 1.+0.j, 1.+0.j, 1.+0.j, 1.+0.j, 1.+0.j,\n",
       "       1.+0.j, 1.+0.j, 1.+0.j, 1.+0.j, 1.+0.j, 1.+0.j, 1.+0.j, 1.+0.j,\n",
       "       1.+0.j, 1.+0.j, 1.+0.j, 1.+0.j, 1.+0.j, 1.+0.j, 1.+0.j, 1.+0.j,\n",
       "       1.+0.j, 1.+0.j, 1.+0.j, 1.+0.j, 1.+0.j, 1.+0.j, 1.+0.j, 1.+0.j,\n",
       "       1.+0.j, 1.+0.j, 1.+0.j, 1.+0.j, 1.+0.j, 1.+0.j, 1.+0.j, 1.+0.j,\n",
       "       1.+0.j, 1.+0.j, 1.+0.j, 1.+0.j, 1.+0.j, 1.+0.j, 1.+0.j, 1.+0.j,\n",
       "       1.+0.j, 1.+0.j, 1.+0.j, 1.+0.j, 1.+0.j, 1.+0.j, 1.+0.j, 1.+0.j,\n",
       "       1.+0.j, 1.+0.j, 1.+0.j, 1.+0.j, 1.+0.j, 1.+0.j, 1.+0.j, 1.+0.j,\n",
       "       1.+0.j, 1.+0.j, 1.+0.j, 1.+0.j, 1.+0.j, 1.+0.j, 1.+0.j, 1.+0.j,\n",
       "       1.+0.j, 1.+0.j, 1.+0.j, 1.+0.j, 1.+0.j, 1.+0.j, 1.+0.j, 1.+0.j,\n",
       "       1.+0.j, 1.+0.j, 1.+0.j, 1.+0.j, 1.+0.j, 1.+0.j, 1.+0.j, 1.+0.j,\n",
       "       1.+0.j, 1.+0.j, 1.+0.j, 1.+0.j, 1.+0.j, 1.+0.j, 1.+0.j, 1.+0.j,\n",
       "       1.+0.j, 1.+0.j, 1.+0.j, 1.+0.j, 1.+0.j, 1.+0.j, 1.+0.j, 1.+0.j,\n",
       "       1.+0.j, 1.+0.j, 1.+0.j, 1.+0.j, 1.+0.j, 1.+0.j, 1.+0.j, 1.+0.j,\n",
       "       1.+0.j, 1.+0.j, 1.+0.j, 1.+0.j, 1.+0.j, 1.+0.j, 1.+0.j, 1.+0.j,\n",
       "       1.+0.j, 1.+0.j, 1.+0.j, 1.+0.j, 1.+0.j, 1.+0.j, 1.+0.j, 1.+0.j,\n",
       "       1.+0.j, 1.+0.j, 1.+0.j, 1.+0.j, 1.+0.j, 1.+0.j, 1.+0.j, 1.+0.j,\n",
       "       1.+0.j, 1.+0.j, 1.+0.j, 1.+0.j, 1.+0.j, 1.+0.j, 1.+0.j, 1.+0.j,\n",
       "       1.+0.j, 1.+0.j, 1.+0.j, 1.+0.j, 1.+0.j, 1.+0.j, 1.+0.j, 1.+0.j,\n",
       "       1.+0.j, 1.+0.j, 1.+0.j, 1.+0.j, 1.+0.j, 1.+0.j, 1.+0.j, 1.+0.j,\n",
       "       1.+0.j, 1.+0.j, 1.+0.j, 1.+0.j, 1.+0.j, 1.+0.j, 1.+0.j, 1.+0.j,\n",
       "       1.+0.j, 1.+0.j, 1.+0.j, 1.+0.j, 1.+0.j, 1.+0.j, 1.+0.j, 1.+0.j,\n",
       "       1.+0.j, 1.+0.j, 1.+0.j, 1.+0.j, 1.+0.j, 1.+0.j, 1.+0.j, 1.+0.j,\n",
       "       1.+0.j, 1.+0.j, 1.+0.j, 1.+0.j, 1.+0.j, 1.+0.j, 1.+0.j, 1.+0.j,\n",
       "       1.+0.j, 1.+0.j, 1.+0.j, 1.+0.j, 1.+0.j, 1.+0.j, 1.+0.j, 1.+0.j,\n",
       "       1.+0.j, 1.+0.j, 1.+0.j, 1.+0.j, 1.+0.j, 1.+0.j, 1.+0.j, 1.+0.j,\n",
       "       1.+0.j, 1.+0.j, 1.+0.j, 1.+0.j, 1.+0.j, 1.+0.j, 1.+0.j, 1.+0.j,\n",
       "       1.+0.j, 1.+0.j, 1.+0.j, 1.+0.j, 1.+0.j, 1.+0.j, 1.+0.j, 1.+0.j,\n",
       "       1.+0.j, 1.+0.j, 1.+0.j, 1.+0.j, 1.+0.j, 1.+0.j, 1.+0.j, 1.+0.j,\n",
       "       1.+0.j, 1.+0.j, 1.+0.j, 1.+0.j, 1.+0.j, 1.+0.j, 1.+0.j, 1.+0.j,\n",
       "       1.+0.j, 1.+0.j, 1.+0.j, 1.+0.j, 1.+0.j, 1.+0.j, 1.+0.j, 1.+0.j,\n",
       "       1.+0.j, 1.+0.j, 1.+0.j, 1.+0.j, 1.+0.j, 1.+0.j, 1.+0.j, 1.+0.j,\n",
       "       1.+0.j, 1.+0.j, 1.+0.j, 1.+0.j, 1.+0.j, 1.+0.j, 1.+0.j, 1.+0.j,\n",
       "       1.+0.j, 1.+0.j, 1.+0.j, 1.+0.j, 1.+0.j, 1.+0.j, 1.+0.j, 1.+0.j,\n",
       "       1.+0.j, 1.+0.j, 1.+0.j, 1.+0.j, 1.+0.j, 1.+0.j, 1.+0.j, 1.+0.j,\n",
       "       1.+0.j, 1.+0.j, 1.+0.j, 1.+0.j, 1.+0.j, 1.+0.j, 1.+0.j, 1.+0.j,\n",
       "       1.+0.j, 1.+0.j, 1.+0.j, 1.+0.j, 1.+0.j, 1.+0.j, 1.+0.j, 1.+0.j,\n",
       "       1.+0.j, 1.+0.j, 1.+0.j, 1.+0.j, 1.+0.j, 1.+0.j, 1.+0.j, 1.+0.j,\n",
       "       1.+0.j, 1.+0.j, 1.+0.j, 1.+0.j, 1.+0.j, 1.+0.j, 1.+0.j, 1.+0.j,\n",
       "       1.+0.j, 1.+0.j, 1.+0.j, 1.+0.j, 1.+0.j, 1.+0.j, 1.+0.j, 1.+0.j,\n",
       "       1.+0.j, 1.+0.j, 1.+0.j, 1.+0.j, 1.+0.j, 1.+0.j, 1.+0.j, 1.+0.j,\n",
       "       1.+0.j, 1.+0.j, 1.+0.j, 1.+0.j, 1.+0.j, 1.+0.j, 1.+0.j, 1.+0.j,\n",
       "       1.+0.j, 1.+0.j, 1.+0.j, 1.+0.j, 1.+0.j, 1.+0.j, 1.+0.j, 1.+0.j,\n",
       "       1.+0.j, 1.+0.j, 1.+0.j, 1.+0.j, 1.+0.j, 1.+0.j, 1.+0.j, 1.+0.j,\n",
       "       1.+0.j, 1.+0.j, 1.+0.j, 1.+0.j, 1.+0.j, 1.+0.j, 1.+0.j, 1.+0.j,\n",
       "       1.+0.j, 1.+0.j, 1.+0.j, 1.+0.j, 1.+0.j, 1.+0.j, 1.+0.j, 1.+0.j,\n",
       "       1.+0.j, 1.+0.j, 1.+0.j, 1.+0.j, 1.+0.j, 1.+0.j, 1.+0.j, 1.+0.j,\n",
       "       1.+0.j, 1.+0.j, 1.+0.j, 1.+0.j, 1.+0.j, 1.+0.j, 1.+0.j, 1.+0.j,\n",
       "       1.+0.j, 1.+0.j, 1.+0.j, 1.+0.j, 1.+0.j, 1.+0.j, 1.+0.j, 1.+0.j,\n",
       "       1.+0.j, 1.+0.j, 1.+0.j, 1.+0.j, 1.+0.j, 1.+0.j, 1.+0.j, 1.+0.j,\n",
       "       1.+0.j, 1.+0.j, 1.+0.j, 1.+0.j, 1.+0.j, 1.+0.j, 1.+0.j, 1.+0.j,\n",
       "       1.+0.j, 1.+0.j, 1.+0.j, 1.+0.j, 1.+0.j, 1.+0.j, 1.+0.j, 1.+0.j,\n",
       "       1.+0.j, 1.+0.j, 1.+0.j, 1.+0.j, 1.+0.j, 1.+0.j, 1.+0.j, 1.+0.j,\n",
       "       1.+0.j, 1.+0.j, 1.+0.j, 1.+0.j, 1.+0.j, 1.+0.j, 1.+0.j, 1.+0.j,\n",
       "       1.+0.j, 1.+0.j, 1.+0.j, 1.+0.j, 1.+0.j, 1.+0.j, 1.+0.j, 1.+0.j,\n",
       "       1.+0.j, 1.+0.j, 1.+0.j, 1.+0.j, 1.+0.j, 1.+0.j, 1.+0.j, 1.+0.j,\n",
       "       1.+0.j, 1.+0.j, 1.+0.j, 1.+0.j, 1.+0.j, 1.+0.j, 1.+0.j, 1.+0.j,\n",
       "       1.+0.j, 1.+0.j, 1.+0.j, 1.+0.j, 1.+0.j, 1.+0.j, 1.+0.j, 1.+0.j,\n",
       "       1.+0.j, 1.+0.j, 1.+0.j, 1.+0.j, 1.+0.j, 1.+0.j, 1.+0.j, 1.+0.j,\n",
       "       1.+0.j, 1.+0.j, 1.+0.j, 1.+0.j, 1.+0.j, 1.+0.j, 1.+0.j, 1.+0.j,\n",
       "       1.+0.j, 1.+0.j, 1.+0.j, 1.+0.j, 1.+0.j, 1.+0.j, 1.+0.j, 1.+0.j,\n",
       "       1.+0.j, 1.+0.j, 1.+0.j, 1.+0.j, 1.+0.j, 1.+0.j, 1.+0.j, 1.+0.j,\n",
       "       1.+0.j, 1.+0.j, 1.+0.j, 1.+0.j, 1.+0.j, 1.+0.j, 1.+0.j, 1.+0.j,\n",
       "       1.+0.j, 1.+0.j, 1.+0.j, 1.+0.j, 1.+0.j, 1.+0.j, 1.+0.j, 1.+0.j,\n",
       "       1.+0.j, 1.+0.j, 1.+0.j, 1.+0.j, 1.+0.j, 1.+0.j, 1.+0.j, 1.+0.j,\n",
       "       1.+0.j, 1.+0.j, 1.+0.j, 1.+0.j, 1.+0.j, 1.+0.j, 1.+0.j, 1.+0.j,\n",
       "       1.+0.j, 1.+0.j, 1.+0.j, 1.+0.j, 1.+0.j, 1.+0.j, 1.+0.j, 1.+0.j,\n",
       "       1.+0.j, 1.+0.j, 1.+0.j, 1.+0.j, 1.+0.j, 1.+0.j, 1.+0.j, 1.+0.j,\n",
       "       1.+0.j, 1.+0.j, 1.+0.j, 1.+0.j, 1.+0.j, 1.+0.j, 1.+0.j, 1.+0.j,\n",
       "       1.+0.j, 1.+0.j, 1.+0.j, 1.+0.j, 1.+0.j, 1.+0.j, 1.+0.j, 1.+0.j,\n",
       "       1.+0.j, 1.+0.j, 1.+0.j, 1.+0.j, 1.+0.j, 1.+0.j, 1.+0.j, 1.+0.j,\n",
       "       1.+0.j, 1.+0.j, 1.+0.j, 1.+0.j])"
      ]
     },
     "execution_count": 61,
     "metadata": {},
     "output_type": "execute_result"
    }
   ],
   "source": [
    "W[:,0]"
   ]
  },
  {
   "cell_type": "code",
   "execution_count": 59,
   "metadata": {},
   "outputs": [
    {
     "data": {
      "text/plain": [
       "7.5252156763460605e-06"
      ]
     },
     "execution_count": 59,
     "metadata": {},
     "output_type": "execute_result"
    }
   ],
   "source": [
    "abs(mc.unmix(s) - np.fft.fft(x)).max()"
   ]
  },
  {
   "cell_type": "markdown",
   "metadata": {},
   "source": [
    "# Running on Vanilla OpenCL"
   ]
  },
  {
   "cell_type": "code",
   "execution_count": 1,
   "metadata": {},
   "outputs": [],
   "source": [
    "import os\n",
    "import pyopencl as cl\n",
    "import pyopencl.cltypes\n",
    "import numpy as np\n",
    "\n",
    "os.environ[\"PYOPENCL_CTX\"] = \"Intel(R) OpenCL HD Graphics\"\n",
    "\n",
    "def max_err(a, b):\n",
    "    return np.abs(a - b).max()\n",
    "\n",
    "np.set_printoptions(threshold=10000)"
   ]
  },
  {
   "cell_type": "code",
   "execution_count": 2,
   "metadata": {},
   "outputs": [],
   "source": [
    "kernel = open(\"../test/fft1024.cl\", \"r\").read()"
   ]
  },
  {
   "cell_type": "code",
   "execution_count": 3,
   "metadata": {},
   "outputs": [],
   "source": [
    "ctx = cl.create_some_context()\n",
    "prog = cl.Program(ctx, kernel).build([\"-DTESTING\"])\n",
    "queue = cl.CommandQueue(ctx)"
   ]
  },
  {
   "cell_type": "code",
   "execution_count": 4,
   "metadata": {},
   "outputs": [],
   "source": [
    "x = np.arange(1024, dtype='complex64')\n",
    "y = np.zeros_like(x)"
   ]
  },
  {
   "cell_type": "code",
   "execution_count": 5,
   "metadata": {},
   "outputs": [],
   "source": [
    "mf = cl.mem_flags\n",
    "x_g = cl.Buffer(ctx, mf.READ_ONLY | mf.COPY_HOST_PTR, hostbuf=x)\n",
    "y_g = cl.Buffer(ctx, mf.WRITE_ONLY, x.nbytes)"
   ]
  },
  {
   "cell_type": "code",
   "execution_count": 6,
   "metadata": {},
   "outputs": [
    {
     "data": {
      "text/plain": [
       "<pyopencl._cl.Event at 0x7facdc52c290>"
      ]
     },
     "execution_count": 6,
     "metadata": {},
     "output_type": "execute_result"
    }
   ],
   "source": [
    "prog.fft_1024(queue, (1,), None, x_g, y_g)"
   ]
  },
  {
   "cell_type": "code",
   "execution_count": 7,
   "metadata": {},
   "outputs": [
    {
     "data": {
      "text/plain": [
       "<pyopencl._cl.NannyEvent at 0x7facdc522470>"
      ]
     },
     "execution_count": 7,
     "metadata": {},
     "output_type": "execute_result"
    }
   ],
   "source": [
    "cl.enqueue_copy(queue, y, y_g)"
   ]
  },
  {
   "cell_type": "code",
   "execution_count": 8,
   "metadata": {},
   "outputs": [
    {
     "data": {
      "text/plain": [
       "array([-3.41338408e+23+2.34468584e+23j,  1.14255899e+23+1.41625850e+23j,\n",
       "       -2.87459720e+22+1.11500343e+24j,  3.08442531e+20-3.87668054e+21j,\n",
       "        2.13303380e+07+1.03117120e+07j, -2.09633000e+06-3.36017120e+07j,\n",
       "        1.50261350e+06+9.28750000e+04j,  1.59624670e+07-1.24078540e+07j,\n",
       "        1.05312788e+06+2.09094440e+07j,  1.01594650e+07-3.70667600e+06j,\n",
       "        2.86112160e+07+1.15030910e+07j,  1.01645688e+08+5.54148640e+07j,\n",
       "        1.98763840e+07-1.68958400e+06j, -1.54571750e+07-6.16612760e+07j,\n",
       "        1.10303040e+08-1.08460860e+07j, -1.09123520e+08+2.35837760e+08j,\n",
       "       -7.69740541e+20-2.74561923e+21j,  3.19594626e+21+4.49324360e+21j,\n",
       "       -4.60811832e+20-1.58223769e+20j, -5.25506463e+20+1.68704448e+21j,\n",
       "        7.95460156e+03-7.45730781e+04j,  7.19451172e+02-1.17442969e+03j,\n",
       "        1.61933682e+04-3.92479004e+02j,  6.90419238e+03-6.99330762e+03j,\n",
       "        4.69438477e+03+1.72752031e+04j,  6.21392578e+02+1.50323145e+04j,\n",
       "       -2.87089746e+04+6.93135078e+04j,  1.70672188e+04+3.56778672e+04j,\n",
       "        5.69787537e+02-2.79332188e+04j,  6.25114160e+03+3.30439219e+04j,\n",
       "        2.35640879e+04+8.39995859e+04j,  7.79887207e+03+8.42526758e+03j,\n",
       "        3.62776744e+21-1.96957457e+21j, -1.94887504e+20+1.13131788e+21j,\n",
       "       -1.12592496e+21+8.40603204e+20j, -2.68777838e+21+2.20723768e+21j,\n",
       "        1.01487871e+04-2.09479004e+04j, -9.64970703e+01-1.84009805e+04j,\n",
       "        5.55655898e+04-2.57200938e+04j,  1.43407090e+04-5.21976270e+03j,\n",
       "       -1.71392051e+04+1.47837764e+04j, -1.32170186e+04-4.37081367e+04j,\n",
       "        2.38673086e+04-8.81694375e+04j, -9.39299023e+03-1.48920693e+04j,\n",
       "        1.44051172e+03-9.39887695e+02j, -3.57688281e+04+8.78669297e+04j,\n",
       "       -1.39708623e+04-9.58875000e+02j, -3.17655762e+03-5.94381250e+03j,\n",
       "        4.28863050e+16-6.09032590e+16j, -5.91723142e+16-9.45134182e+16j,\n",
       "        1.72299966e+17-8.30677942e+16j,  4.24163755e+17+1.82012158e+17j,\n",
       "        1.81818359e+04-6.81537744e+03j,  8.26124609e+03+4.81108750e+04j,\n",
       "       -6.20038242e+04+5.83078750e+04j,  8.03003711e+03+1.11811328e+04j,\n",
       "        1.90170117e+04+7.28483740e+03j,  7.70190000e+04-6.36207578e+04j,\n",
       "        1.88371719e+04+1.04369922e+04j, -5.04073047e+03+2.25659297e+04j,\n",
       "       -2.90260547e+04-8.57306738e+03j, -4.63600898e+04-1.10376875e+04j,\n",
       "       -5.58891699e+03-7.43625391e+03j, -5.01573672e+04-4.30190273e+04j,\n",
       "       -3.92765949e+23+8.83947223e+23j, -1.02915952e+23-1.19485740e+23j,\n",
       "        1.25757363e+23+5.74818199e+23j,  4.92623318e+21+4.30189511e+22j,\n",
       "       -2.06202638e+06+5.80484150e+06j,  2.18671400e+06-2.26248400e+07j,\n",
       "        1.29120288e+06-1.05174125e+06j,  2.43425320e+07-2.54118720e+07j,\n",
       "        2.07169600e+06-2.09558475e+06j,  8.53696900e+06-1.15602200e+07j,\n",
       "        1.41739250e+05-3.44775250e+06j,  5.46297250e+06+5.20453720e+07j,\n",
       "       -1.40539925e+06-5.70163938e+05j,  3.83149300e+06-1.72170640e+07j,\n",
       "       -2.72993075e+06+4.31982250e+06j,  1.28000580e+07-8.83342800e+06j,\n",
       "       -2.60050049e+03-1.10505234e+04j,  1.56621875e+03+1.21606580e+03j,\n",
       "        3.67238013e+03-1.16631616e+03j,  3.43171021e+02+1.10327783e+03j,\n",
       "       -5.08120361e+02+8.85226807e+02j, -4.73054790e+00+1.26236403e+00j,\n",
       "       -1.23628394e+03+5.06856628e+02j, -4.64922237e+00+8.23906803e+00j,\n",
       "        3.56284546e+02+1.02820599e+00j,  8.53556728e+00+5.38143492e+00j,\n",
       "        2.48164276e+02+2.29673615e+02j,  5.65801144e+00-2.90395355e+00j,\n",
       "        3.94341553e+02-3.50090942e+01j,  8.09366035e+00-1.57414317e+00j,\n",
       "        2.73784973e+02+2.25325134e+02j, -2.56880999e+00+7.70642042e-01j,\n",
       "        6.46389893e+02+7.45811035e+03j, -6.15918335e+02+4.73350220e+01j,\n",
       "       -4.82644043e+03+7.15013281e+03j, -7.86300171e+02+2.86203955e+03j,\n",
       "        4.04364838e+02+1.15161598e+00j,  9.02166271e+00+3.17429757e+00j,\n",
       "        3.30930359e+02+2.43524689e+02j,  5.05304241e+00-5.03021574e+00j,\n",
       "        4.51191681e+02-9.11513062e+01j,  7.56575155e+00-3.23890018e+00j,\n",
       "        3.56165588e+02+2.33799561e+02j, -2.36344814e+00+8.04979801e-01j,\n",
       "       -9.61207153e+02-7.88548950e+02j, -7.76151037e+00-9.76147270e+00j,\n",
       "        3.39962799e+02-2.73688690e+02j, -3.49009609e+00-1.23219671e+01j,\n",
       "        2.20278931e+02-6.38728564e+03j,  1.30555713e+03-5.96937158e+03j,\n",
       "        3.33194629e+03-6.65083545e+03j, -2.00471814e+03-2.56038501e+03j,\n",
       "        4.92799927e+02-1.57783539e+02j,  6.68253803e+00-4.68297672e+00j,\n",
       "        4.40268860e+02+2.25278168e+02j, -2.15611601e+00+8.24115992e-01j,\n",
       "       -1.15554614e+03-6.35915771e+02j, -9.97415352e+00-7.93269014e+00j,\n",
       "        3.54069824e+02-3.30772095e+02j, -5.83401108e+00-1.14479980e+01j,\n",
       "        6.07203857e+02+1.73995789e+03j, -4.82794809e+00+1.94793594e+00j,\n",
       "       -7.95086060e+02+1.68819312e+03j, -1.83707714e-01+8.08124542e+00j,\n",
       "       -7.00378053e+23-2.24365713e+23j,  4.56637080e+22+3.37706809e+22j,\n",
       "        1.31889739e+22+2.87593585e+23j,  5.54475890e+22-7.14612724e+21j,\n",
       "        2.89037175e+06-1.83094700e+06j,  4.91139050e+06-7.78422100e+06j,\n",
       "        1.31665900e+06-3.26831500e+06j,  1.53745310e+07+1.56521860e+07j,\n",
       "       -2.40688125e+06-5.78769450e+06j, -3.32240600e+06-1.82152520e+07j,\n",
       "       -9.58191300e+06+1.25984560e+07j,  6.16840000e+06-1.43579360e+07j,\n",
       "        2.69569120e+07+1.35124030e+07j,  1.75418780e+07+5.32434000e+07j,\n",
       "        2.82693980e+07-1.16367820e+07j, -2.40383020e+07-4.07742800e+06j,\n",
       "        1.34545527e+04+2.31068984e+04j, -3.60171606e+03+5.18010156e+03j,\n",
       "       -7.19277979e+03+2.17766250e+04j,  1.55167871e+04-3.67411206e+03j,\n",
       "        5.96769531e+02+1.57669199e+00j,  7.09506464e+00-3.98890948e+00j,\n",
       "        6.36236450e+02+1.21929565e+02j, -3.24733162e+00-8.59040451e+00j,\n",
       "        4.94498535e+02-3.69206604e+02j,  2.71471715e+00-6.96155739e+00j,\n",
       "        6.41265808e+02+9.56598511e+01j, -1.53355598e+00+7.89700031e-01j,\n",
       "       -1.38371802e+03+6.75884705e+01j, -1.15704584e+01+2.13386059e-01j,\n",
       "        3.54411163e+02-5.19491089e+02j, -1.04480209e+01-7.05021620e+00j,\n",
       "        3.35401440e+03+1.28726196e+03j, -9.04478882e+02+5.48686816e+03j,\n",
       "        8.28930664e+03-8.50467480e+03j,  5.29338086e+03+3.58615137e+03j,\n",
       "        4.51707306e+02-4.22623901e+02j,  1.29997730e+00-6.92065191e+00j,\n",
       "        6.70241455e+02+2.64477539e+01j, -1.32959604e+00+7.47828007e-01j,\n",
       "       -1.30940613e+03+3.10432343e+02j, -1.02442179e+01+2.63880539e+00j,\n",
       "        3.39398773e+02-5.85773682e+02j, -1.12853203e+01-5.35031748e+00j,\n",
       "        2.23557642e+03+4.64844604e+02j, -4.72128963e+00+2.77109003e+00j,\n",
       "        6.91907593e+02+2.41138550e+03j,  2.79152966e+00+4.39236307e+00j,\n",
       "        4.57309531e+04-1.27386016e+04j, -8.87765625e+02-6.42306104e+03j,\n",
       "        1.65470215e+04-5.94383281e+04j,  1.13305625e+04-1.80270781e+04j,\n",
       "       -1.16323657e+03+5.14956543e+02j, -8.25451756e+00+4.38158512e+00j,\n",
       "        3.16435211e+02-6.52437317e+02j, -1.18570356e+01-3.59707451e+00j,\n",
       "        2.21095850e+03-1.16471924e+02j, -4.65719223e+00+2.96919203e+00j,\n",
       "        1.17028894e+03+2.44256519e+03j,  2.86407518e+00+3.31001353e+00j,\n",
       "        7.57189514e+02+1.82842004e+00j,  3.23822236e+00-7.93608475e+00j,\n",
       "        6.49823486e+02-1.17995911e+02j, -7.81775141e+00-2.77895641e+00j,\n",
       "        1.64645511e+19-2.06243620e+19j, -1.58037046e+20+1.34742010e+20j,\n",
       "       -2.49363960e+18-2.22331631e+19j, -1.02765546e+20+1.30725934e+20j,\n",
       "        2.80152051e+03-2.56332837e+03j,  5.92359375e+02-2.53736230e+03j,\n",
       "        1.61629468e+03-2.53860327e+03j,  2.76577295e+03-1.61527051e+03j,\n",
       "       -1.42652881e+03+1.80344507e+03j,  3.41446313e+03+5.12774756e+03j,\n",
       "       -2.74564062e+03+2.50410889e+02j, -4.17688623e+03-2.17522656e+03j,\n",
       "       -3.01165137e+03-2.01199011e+03j, -1.35168789e+04+2.44647461e+03j,\n",
       "        2.90410840e+03+3.01720703e+02j, -9.37986523e+03-2.07056094e+04j,\n",
       "        4.88727227e+04-6.60459062e+04j, -1.03162258e+05-2.51267031e+04j,\n",
       "       -6.93519531e+04+3.98401914e+04j, -5.74916797e+04-4.04274492e+04j,\n",
       "        1.54342529e+02-3.98201996e+02j, -2.05765414e+00-3.58861041e+00j,\n",
       "        4.86501648e+02-2.03982391e+02j, -5.60811996e-01+4.34900045e-01j,\n",
       "       -4.75862366e+02+6.92490295e+02j, -1.67359591e+00+4.46709251e+00j,\n",
       "        1.99020462e+02-8.46457825e+02j, -1.19469852e+01+2.12401605e+00j,\n",
       "        9.93832825e+02-1.07746460e+03j, -4.38027573e+00+3.52783608e+00j,\n",
       "        2.83867480e+03+1.91096704e+03j,  1.75335813e+00+7.75141060e-01j,\n",
       "       -6.03354375e+04+3.82720750e+05j, -1.17387117e+05+2.04733281e+04j,\n",
       "        1.41289562e+05+3.52367305e+04j,  1.56324906e+05-6.82783516e+04j,\n",
       "       -2.54222046e+02+5.72242065e+02j, -3.50776196e-01+3.14437294e+00j,\n",
       "        1.43831650e+02-9.06342285e+02j, -1.12437525e+01+4.14912844e+00j,\n",
       "        4.85561401e+02-9.16375793e+02j, -4.26143169e+00+3.69880009e+00j,\n",
       "        3.38712671e+03+1.42221069e+03j,  1.12138677e+00+3.09470177e-01j,\n",
       "        9.49755188e+02+1.98495996e+00j, -4.62410736e+00-9.55280495e+00j,\n",
       "        2.27667114e+02-1.63105057e+02j, -2.40977526e+00+1.72643733e+00j,\n",
       "        1.09622188e+04+7.65803359e+04j, -1.82246609e+05+4.44471680e+04j,\n",
       "       -1.11157742e+05+1.82550234e+05j, -3.59466375e+05-1.06401112e+06j,\n",
       "        1.20022896e+02-5.14137939e+02j, -4.13033390e+00+3.86055803e+00j,\n",
       "        3.83954907e+03+7.46014587e+02j,  4.67007279e-01+5.74211180e-02j,\n",
       "        9.97901855e+02+1.99758995e+00j, -6.90046692e+00-8.72684002e+00j,\n",
       "        7.60034180e+01-6.83064423e+01j, -6.73149347e-01+7.45589495e-01j,\n",
       "       -7.52368164e+00-2.53695145e+01j, -2.88029134e-01-1.56159401e-01j,\n",
       "        2.51632423e+01-2.39794273e+01j, -1.23100281e-02+1.22339725e-02j,\n",
       "       -2.69723306e+22-3.47660823e+22j, -9.26780996e+22-2.28925287e+22j,\n",
       "       -6.29404169e+22+3.10001497e+22j, -1.90967500e+21-2.09379688e+22j,\n",
       "        2.57786200e+06+2.26565500e+06j,  1.63034575e+06-6.18442500e+06j,\n",
       "        1.92926875e+06+1.37343750e+06j,  2.28313000e+06-4.52438450e+06j,\n",
       "        4.46460450e+06+1.89022575e+06j,  1.48486440e+07+3.44753250e+06j,\n",
       "        3.00021060e+07-2.29465760e+07j, -4.17114175e+06+4.37801800e+06j,\n",
       "       -6.03043000e+06-1.54904380e+07j,  5.60618160e+07-4.42419200e+07j,\n",
       "        1.92215400e+07-1.36312410e+07j, -3.51969840e+07+1.98768020e+07j,\n",
       "       -1.29386544e+20+8.49383464e+19j, -2.19191320e+20+6.45259570e+20j,\n",
       "        1.71564848e+19-9.59088864e+19j, -1.02698934e+20+3.37442335e+20j,\n",
       "       -8.61854688e+03-1.57156582e+04j, -8.89529228e+00+4.28399515e+00j,\n",
       "       -5.74491357e+03-1.74176025e+03j,  7.14173730e+03+1.84877109e+04j,\n",
       "        5.28995410e+03+5.86956348e+03j,  1.30091973e+04-9.78596582e+03j,\n",
       "       -3.99916016e+03+4.27844922e+03j, -1.03865234e+03-3.86922607e+02j,\n",
       "        5.93990771e+03-2.39875977e+02j,  5.73494336e+03-1.69368086e+04j,\n",
       "        3.32273560e+01+1.09587736e+01j, -1.18932991e+01-5.91663790e+00j,\n",
       "       -6.65658941e+19-1.55324049e+19j,  3.49439080e+20-2.10149745e+20j,\n",
       "       -1.36835014e+20+9.38620531e+20j, -7.11611402e+19+1.28543825e+20j,\n",
       "        8.19070947e+03-3.75253613e+03j, -1.47621758e+04-1.34969336e+04j,\n",
       "        2.73220679e+03-4.39243506e+03j,  2.26214380e+03+2.18744263e+03j,\n",
       "       -5.56859570e+03-1.00668379e+04j, -2.01293008e+04-3.88886963e+03j,\n",
       "        9.69461346e+00-3.10762825e+01j, -1.33094702e+01+5.80634928e+00j,\n",
       "       -8.30663672e+03-1.47153528e+03j, -1.95025254e+04+6.84226855e+03j,\n",
       "       -1.37569547e+00+1.00407829e+01j, -1.48328174e+03+1.77646660e+04j,\n",
       "        1.30580642e+15-2.20028910e+14j,  7.91360008e+16-1.53887433e+16j,\n",
       "        2.34675510e+16-7.35792859e+15j,  3.34877016e+15+4.85317212e+14j,\n",
       "       -6.17342578e+03+1.67035117e+04j, -5.08932812e+03+1.96722109e+04j,\n",
       "       -2.90365753e+01-1.72300415e+01j, -1.77135754e+00+1.28230839e+01j,\n",
       "        9.45223535e+03+1.46254434e+04j,  3.95370874e+03+1.97230898e+04j,\n",
       "        7.04985666e+00+5.15888596e+00j,  3.44634766e+03-1.61052100e+04j,\n",
       "        9.46283691e+03+6.00487183e+02j,  1.05580311e+01-5.24968481e+00j,\n",
       "       -1.47845932e+02-3.17621045e+03j, -1.16492324e+04-1.11361689e+04j,\n",
       "        1.38426895e+20-1.69331704e+20j,  1.25628659e+19+5.14736413e+19j,\n",
       "       -6.31063819e+18-6.76721149e+18j,  8.53873715e+09-2.51224351e+10j,\n",
       "        1.73914258e+04-6.44429785e+03j,  1.98037827e+02-2.00421973e+03j,\n",
       "       -1.89744377e+01+6.17172775e+01j,  8.97730469e+02+1.84618909e+03j,\n",
       "       -1.01883672e+04-9.62279102e+03j, -1.79048218e+03-1.04095117e+03j,\n",
       "        6.17339478e+01-6.45366058e+01j, -4.51573096e+03-4.23835449e+02j,\n",
       "       -1.59413928e+03+3.19781104e+03j, -1.66258728e+03+1.35647656e+03j,\n",
       "       -3.75678444e+01+2.10351715e+01j,  1.97334912e+03-2.00556665e+03j,\n",
       "       -2.02943875e+05-5.35563438e+05j, -1.46038812e+05+5.03222500e+04j,\n",
       "       -2.35811600e+06-5.36133700e+06j,  6.53274125e+05-2.18301450e+06j,\n",
       "        1.36600000e+03+0.00000000e+00j, -2.00000000e+00+2.00000000e+00j,\n",
       "       -2.00000000e+00+0.00000000e+00j, -2.00000000e+00-2.00000000e+00j,\n",
       "        1.38200000e+03+0.00000000e+00j, -2.00000000e+00+2.00000000e+00j,\n",
       "       -2.00000000e+00+0.00000000e+00j, -2.00000000e+00-2.00000000e+00j,\n",
       "        1.39800000e+03+0.00000000e+00j, -2.00000000e+00+2.00000000e+00j,\n",
       "       -2.00000000e+00+0.00000000e+00j, -2.00000000e+00-2.00000000e+00j,\n",
       "       -1.63753200e+06+1.45150675e+06j,  1.06862950e+06+4.04179000e+05j,\n",
       "        1.24613920e+07+1.43997760e+07j, -1.34287200e+06-9.15046200e+06j,\n",
       "        1.43000000e+03+0.00000000e+00j, -2.00000000e+00+2.00000000e+00j,\n",
       "       -2.00000000e+00+0.00000000e+00j, -2.00000000e+00-2.00000000e+00j,\n",
       "        1.44600000e+03+0.00000000e+00j, -2.00000000e+00+2.00000000e+00j,\n",
       "       -2.00000000e+00+0.00000000e+00j, -2.00000000e+00-2.00000000e+00j,\n",
       "        1.46200000e+03+0.00000000e+00j, -2.00000000e+00+2.00000000e+00j,\n",
       "       -2.00000000e+00+0.00000000e+00j, -2.00000000e+00-2.00000000e+00j,\n",
       "        3.36345000e+06-4.56448600e+06j, -3.40516150e+06+5.89651000e+05j,\n",
       "       -5.03819440e+07-1.76835200e+06j, -1.71282000e+06-1.85057440e+07j,\n",
       "        1.49400000e+03+0.00000000e+00j, -2.00000000e+00+2.00000000e+00j,\n",
       "       -2.00000000e+00+0.00000000e+00j, -2.00000000e+00-2.00000000e+00j,\n",
       "        1.51000000e+03+0.00000000e+00j, -2.00000000e+00+2.00000000e+00j,\n",
       "       -2.00000000e+00+0.00000000e+00j, -2.00000000e+00-2.00000000e+00j,\n",
       "        1.52600000e+03+0.00000000e+00j, -2.00000000e+00+2.00000000e+00j,\n",
       "       -2.00000000e+00+0.00000000e+00j, -2.00000000e+00-2.00000000e+00j,\n",
       "        3.89112661e+20+8.05758431e+20j, -1.08249831e+20-1.09610499e+20j,\n",
       "        1.60102197e+19+5.90849016e+18j, -9.26884987e+10+1.57122191e+10j,\n",
       "        1.24760547e+04-5.46944092e+03j,  1.74573389e+03+1.39794592e+03j,\n",
       "       -5.01916962e+01-1.21656036e+01j, -6.54539258e+03+5.89151807e+03j,\n",
       "       -1.51967568e+04-1.57833008e+04j,  2.93160156e+03-3.15686084e+03j,\n",
       "        1.14975784e+02-1.26459198e+01j, -9.45790039e+02-8.32222656e+03j,\n",
       "        3.30838379e+02+9.51516504e+03j, -4.22841992e+03-4.14615381e+03j,\n",
       "       -4.37733841e+01+1.50450668e+01j,  2.36556641e+02+1.10329102e+03j,\n",
       "       -1.35182120e+07-7.82064200e+06j, -4.03584832e+08+1.64025408e+08j,\n",
       "        5.68098080e+07+1.56649120e+07j,  2.15872050e+06+4.06342200e+06j,\n",
       "        1.62200000e+03+0.00000000e+00j, -2.00000000e+00+2.00000000e+00j,\n",
       "       -2.00000000e+00+0.00000000e+00j, -2.00000000e+00-2.00000000e+00j,\n",
       "        1.63800000e+03+0.00000000e+00j, -2.00000000e+00+2.00000000e+00j,\n",
       "       -2.00000000e+00+0.00000000e+00j, -2.00000000e+00-2.00000000e+00j,\n",
       "        1.65400000e+03+0.00000000e+00j, -2.00000000e+00+2.00000000e+00j,\n",
       "       -2.00000000e+00+0.00000000e+00j, -2.00000000e+00-2.00000000e+00j,\n",
       "        1.59015060e+07+2.14584460e+07j,  4.32077984e+08-4.54824832e+08j,\n",
       "        1.00587840e+08+5.62091520e+07j,  1.15216840e+07+1.14956200e+07j,\n",
       "        1.68600000e+03+0.00000000e+00j, -2.00000000e+00+2.00000000e+00j,\n",
       "       -2.00000000e+00+0.00000000e+00j, -2.00000000e+00-2.00000000e+00j,\n",
       "        1.70200000e+03+0.00000000e+00j, -2.00000000e+00+2.00000000e+00j,\n",
       "       -2.00000000e+00+0.00000000e+00j, -2.00000000e+00-2.00000000e+00j,\n",
       "        1.71800000e+03+0.00000000e+00j, -2.00000000e+00+2.00000000e+00j,\n",
       "       -2.00000000e+00+0.00000000e+00j, -2.00000000e+00-2.00000000e+00j,\n",
       "       -1.37532480e+07-4.83790920e+07j, -7.96573440e+08+6.74653184e+08j,\n",
       "       -7.10058560e+07+3.15703744e+08j,  1.83109040e+07+2.84653360e+07j,\n",
       "        1.75000000e+03+0.00000000e+00j, -2.00000000e+00+2.00000000e+00j,\n",
       "       -2.00000000e+00+0.00000000e+00j, -2.00000000e+00-2.00000000e+00j,\n",
       "        1.76600000e+03+0.00000000e+00j, -2.00000000e+00+2.00000000e+00j,\n",
       "       -2.00000000e+00+0.00000000e+00j, -2.00000000e+00-2.00000000e+00j,\n",
       "        1.78200000e+03+0.00000000e+00j, -2.00000000e+00+2.00000000e+00j,\n",
       "       -2.00000000e+00+0.00000000e+00j, -2.00000000e+00-2.00000000e+00j,\n",
       "        1.88046993e+20+1.03429317e+21j, -8.51047069e+19-1.73798484e+20j,\n",
       "        1.55753761e+19+1.77329818e+19j,  7.10053806e+10+1.42101938e+11j,\n",
       "       -1.37239600e+04-3.37842383e+03j,  7.45715088e+03-2.32047412e+03j,\n",
       "       -6.24168091e+01-1.23588425e+02j, -1.19160488e+04+1.32788379e+04j,\n",
       "        8.47295410e+02-1.85368125e+04j,  1.40520642e+03-8.56280957e+03j,\n",
       "        2.00270035e+02+1.13452560e+02j,  5.33134766e+02-2.12903047e+04j,\n",
       "        1.20708008e+02+1.35746641e+04j, -1.06181777e+04-3.42141113e+03j,\n",
       "       -1.05031357e+02-2.30740051e+01j,  4.66680273e+03+6.54163428e+03j,\n",
       "       -1.03211028e+10+4.58520064e+08j,  6.98178560e+07+3.74084736e+08j,\n",
       "       -6.31149280e+07+2.68267840e+07j,  4.90324320e+07+6.11584000e+06j,\n",
       "        1.87800000e+03+0.00000000e+00j, -2.00000000e+00+2.00000000e+00j,\n",
       "       -2.00000000e+00+0.00000000e+00j, -2.00000000e+00-2.00000000e+00j,\n",
       "        1.89400000e+03+0.00000000e+00j, -2.00000000e+00+2.00000000e+00j,\n",
       "       -2.00000000e+00+0.00000000e+00j, -2.00000000e+00-2.00000000e+00j,\n",
       "        1.91000000e+03+0.00000000e+00j, -2.00000000e+00+2.00000000e+00j,\n",
       "       -2.00000000e+00+0.00000000e+00j, -2.00000000e+00-2.00000000e+00j,\n",
       "        1.30197443e+10+2.72779469e+09j, -2.61608448e+08-1.74706163e+09j,\n",
       "       -2.21824064e+08+5.70248320e+07j,  1.53030752e+08-2.90099200e+07j,\n",
       "        1.94200000e+03+0.00000000e+00j, -2.00000000e+00+2.00000000e+00j,\n",
       "       -2.00000000e+00+0.00000000e+00j, -2.00000000e+00-2.00000000e+00j,\n",
       "        1.95800000e+03+0.00000000e+00j, -2.00000000e+00+2.00000000e+00j,\n",
       "       -2.00000000e+00+0.00000000e+00j, -2.00000000e+00-2.00000000e+00j,\n",
       "        1.97400000e+03+0.00000000e+00j, -2.00000000e+00+2.00000000e+00j,\n",
       "       -2.00000000e+00+0.00000000e+00j, -2.00000000e+00-2.00000000e+00j,\n",
       "       -1.22333532e+10-1.97402481e+10j,  3.29304576e+09+3.81432576e+09j,\n",
       "       -1.63153280e+08-6.06052928e+08j,  3.45787104e+08+3.70586240e+07j,\n",
       "        2.00600000e+03+0.00000000e+00j, -2.00000000e+00+2.00000000e+00j,\n",
       "       -2.00000000e+00+0.00000000e+00j, -2.00000000e+00-2.00000000e+00j,\n",
       "        2.02200000e+03+0.00000000e+00j, -2.00000000e+00+2.00000000e+00j,\n",
       "       -2.00000000e+00+0.00000000e+00j, -2.00000000e+00-2.00000000e+00j,\n",
       "        2.03800000e+03+0.00000000e+00j, -2.00000000e+00+2.00000000e+00j,\n",
       "       -2.00000000e+00+0.00000000e+00j, -2.00000000e+00-2.00000000e+00j,\n",
       "        4.46456918e+21-2.23201482e+22j,  2.20255610e+22-8.19843293e+22j,\n",
       "       -1.43224939e+22-4.00800911e+22j,  2.21587298e+23-9.41658772e+20j,\n",
       "       -1.98500950e+06+1.04120425e+06j, -3.65603750e+06-1.53121350e+06j,\n",
       "       -2.41156775e+06+1.56881712e+06j, -1.59956225e+06-2.20495150e+06j,\n",
       "       -8.91374900e+06-7.44708250e+05j,  1.30597510e+07+4.82717000e+06j,\n",
       "        1.76102540e+07-1.38333780e+07j, -1.13965540e+07-5.74316850e+06j,\n",
       "        2.65323350e+06-1.86943160e+07j,  4.25286000e+07-1.91441660e+07j,\n",
       "        8.16722000e+06-2.66699080e+07j, -8.16913438e+05-1.94984150e+06j,\n",
       "       -1.52173817e+19-4.72608976e+19j, -1.53755073e+20+3.93834228e+20j,\n",
       "        3.27398604e+20-2.34082560e+20j, -2.55932776e+20+8.37147219e+19j,\n",
       "        3.45868262e+03-2.35113599e+03j,  1.47527676e+04-8.30927539e+03j,\n",
       "        1.76636072e+03-5.73243652e+03j, -2.27885508e+04+8.38173535e+03j,\n",
       "       -7.95037891e+03-7.84080957e+03j,  8.57995996e+03-1.59006172e+04j,\n",
       "       -4.23109570e+03-3.99656226e+03j,  8.45714453e+03-9.95458008e+03j,\n",
       "        3.61545557e+03+1.63203125e+01j, -1.07787061e+03-1.91892793e+04j,\n",
       "       -1.92924156e+01+6.21667004e+00j,  6.64687158e+03+4.90763574e+03j,\n",
       "        4.04004588e+20+8.67357048e+19j,  1.67442093e+20+4.61578500e+19j,\n",
       "       -3.61200477e+20+3.38360507e+20j, -1.41183899e+20-9.60366056e+19j,\n",
       "       -2.76382422e+03+6.86684668e+03j, -1.96982266e+04-9.06012012e+03j,\n",
       "        4.39178125e+03+2.68193384e+03j, -1.25037773e+04-5.35773242e+03j,\n",
       "        3.68861914e+03-3.21003662e+03j, -2.28108613e+04+2.40245459e+03j,\n",
       "        4.05317926e+00+1.75752430e+01j, -6.90257324e+03-6.42098389e+03j,\n",
       "        4.65298096e+03-1.12740723e+03j,  1.51040802e+01+2.89944839e+00j,\n",
       "       -5.81968994e+02-4.53267578e+03j, -2.04362383e+04-2.92888989e+03j,\n",
       "        2.73020377e+16-3.24551008e+16j,  1.81811291e+16+5.24622997e+16j,\n",
       "        4.12481358e+16+1.54564040e+16j, -1.53471852e+15+1.21176879e+15j,\n",
       "       -1.28865889e+04-4.74717969e+03j,  3.51181470e+03+2.59826133e+04j,\n",
       "        1.13136864e+01-2.33473015e+00j,  6.72083740e+03+8.14724561e+03j,\n",
       "       -1.26149043e+04+6.61208594e+03j,  2.12027836e+00-1.13723793e+01j,\n",
       "        1.41949329e+03+3.20613916e+03j,  1.67448789e+04+4.12127051e+03j,\n",
       "       -3.11475317e+03+9.73029883e+03j,  2.50524551e+04+1.03594023e+04j,\n",
       "        3.15638965e+03-8.72654114e+01j,  1.13973682e+04-1.16868379e+04j,\n",
       "       -7.22001470e+20+4.48712806e+20j,  1.53270909e+19-1.06609457e+20j,\n",
       "        2.33111122e+15-5.10997660e+14j,  3.10440919e+21-2.42865336e+21j,\n",
       "        3.17039141e+04-1.17344971e+04j,  7.03349731e+02-2.73213696e+03j,\n",
       "        3.82141875e+04-5.22153633e+04j, -4.15801406e+04-2.80687363e+04j,\n",
       "       -2.07153242e+04-1.63796680e+04j, -3.17224561e+03-4.98147095e+02j,\n",
       "        9.61965625e+04-2.28619609e+04j,  6.43423281e+04+2.22546143e+02j,\n",
       "       -2.03083691e+03+6.57805127e+03j, -3.09267578e+03+1.48188318e+03j,\n",
       "        3.26286797e+04+5.30328047e+04j, -4.23416113e+03-7.83724365e+01j,\n",
       "        5.67303823e+10-3.33521715e+09j,  6.18842423e+11+8.11916984e+11j,\n",
       "       -1.34213468e+10-8.80169779e+09j, -7.05251328e+08+1.25881999e+10j,\n",
       "        2.39000000e+03+0.00000000e+00j, -2.00000000e+00+2.00000000e+00j,\n",
       "       -2.00000000e+00+0.00000000e+00j, -2.00000000e+00-2.00000000e+00j,\n",
       "        2.40600000e+03+0.00000000e+00j, -2.00000000e+00+2.00000000e+00j,\n",
       "       -2.00000000e+00+0.00000000e+00j, -2.00000000e+00-2.00000000e+00j,\n",
       "        2.42200000e+03+0.00000000e+00j, -2.00000000e+00+2.00000000e+00j,\n",
       "       -2.00000000e+00+0.00000000e+00j, -2.00000000e+00-2.00000000e+00j,\n",
       "       -8.06326927e+10-2.24067994e+10j, -1.36841580e+12-1.32438662e+12j,\n",
       "       -1.18630842e+11-2.32728822e+11j,  1.05439969e+10+3.54576466e+10j,\n",
       "        2.45400000e+03+0.00000000e+00j, -2.00000000e+00+2.00000000e+00j,\n",
       "       -2.00000000e+00+0.00000000e+00j, -2.00000000e+00-2.00000000e+00j,\n",
       "        2.47000000e+03+0.00000000e+00j, -2.00000000e+00+2.00000000e+00j,\n",
       "       -2.00000000e+00+0.00000000e+00j, -2.00000000e+00-2.00000000e+00j,\n",
       "        2.48600000e+03+0.00000000e+00j, -2.00000000e+00+2.00000000e+00j,\n",
       "       -2.00000000e+00+0.00000000e+00j, -2.00000000e+00-2.00000000e+00j,\n",
       "        9.61279918e+10+1.09490422e+11j,  3.40894836e+12+2.60005849e+12j,\n",
       "        6.84605374e+11-1.24456272e+11j, -2.01737830e+09+8.23327293e+10j,\n",
       "        2.51800000e+03+0.00000000e+00j, -2.00000000e+00+2.00000000e+00j,\n",
       "       -2.00000000e+00+0.00000000e+00j, -2.00000000e+00-2.00000000e+00j,\n",
       "        2.53400000e+03+0.00000000e+00j, -2.00000000e+00+2.00000000e+00j,\n",
       "       -2.00000000e+00+0.00000000e+00j, -2.00000000e+00-2.00000000e+00j,\n",
       "        2.55000000e+03+0.00000000e+00j, -2.00000000e+00+2.00000000e+00j,\n",
       "       -2.00000000e+00+0.00000000e+00j, -2.00000000e+00-2.00000000e+00j,\n",
       "        2.68077823e+19-1.08293908e+20j,  5.30862730e+19+3.06409877e+19j,\n",
       "        2.62860562e+15+2.88339784e+15j,  9.88912650e+20+1.73359312e+20j,\n",
       "        1.76434297e+04-7.53494873e+03j,  2.47613062e+03+2.73098022e+03j,\n",
       "        4.64200234e+04+2.76581250e+03j,  2.79286562e+04-4.21286406e+04j,\n",
       "       -2.69579180e+04-2.70516895e+04j,  2.89339404e+03-4.05868091e+03j,\n",
       "        1.29352250e+05+6.41287500e+04j,  1.15816539e+05+5.04860703e+04j,\n",
       "        2.10943750e+03+1.50238330e+04j, -6.96436670e+03-7.39632764e+03j,\n",
       "        3.60585938e+04+9.71453906e+04j, -2.33985430e+04+1.78276719e+04j,\n",
       "        7.61744746e+12+3.02545591e+13j,  3.50696505e+12-1.39722542e+12j,\n",
       "       -3.14685850e+10-5.55062395e+10j, -1.38693902e+11+5.85556787e+10j,\n",
       "        2.64600000e+03+0.00000000e+00j, -2.00000000e+00+2.00000000e+00j,\n",
       "       -2.00000000e+00+0.00000000e+00j, -2.00000000e+00-2.00000000e+00j,\n",
       "        2.66200000e+03+0.00000000e+00j, -2.00000000e+00+2.00000000e+00j,\n",
       "       -2.00000000e+00+0.00000000e+00j, -2.00000000e+00-2.00000000e+00j,\n",
       "        2.67800000e+03+0.00000000e+00j, -2.00000000e+00+2.00000000e+00j,\n",
       "       -2.00000000e+00+0.00000000e+00j, -2.00000000e+00-2.00000000e+00j,\n",
       "        2.78278229e+12-4.38903547e+13j, -4.77965268e+12+4.76993762e+12j,\n",
       "       -5.20706064e+11-1.27307612e+10j, -3.57046780e+11+2.88605209e+11j,\n",
       "        2.71000000e+03+0.00000000e+00j, -2.00000000e+00+2.00000000e+00j,\n",
       "       -2.00000000e+00+0.00000000e+00j, -2.00000000e+00-2.00000000e+00j,\n",
       "        2.72600000e+03+0.00000000e+00j, -2.00000000e+00+2.00000000e+00j,\n",
       "       -2.00000000e+00+0.00000000e+00j, -2.00000000e+00-2.00000000e+00j,\n",
       "        2.74200000e+03+0.00000000e+00j, -2.00000000e+00+2.00000000e+00j,\n",
       "       -2.00000000e+00+0.00000000e+00j, -2.00000000e+00-2.00000000e+00j,\n",
       "       -5.12105057e+13+5.99111363e+13j,  7.21321722e+12-1.00293704e+13j,\n",
       "        5.04375804e+11-1.51827448e+12j, -9.94471576e+11+3.88575789e+11j,\n",
       "        2.77400000e+03+0.00000000e+00j, -2.00000000e+00+2.00000000e+00j,\n",
       "       -2.00000000e+00+0.00000000e+00j, -2.00000000e+00-2.00000000e+00j,\n",
       "        2.79000000e+03+0.00000000e+00j, -2.00000000e+00+2.00000000e+00j,\n",
       "       -2.00000000e+00+0.00000000e+00j, -2.00000000e+00-2.00000000e+00j,\n",
       "        2.80600000e+03+0.00000000e+00j, -2.00000000e+00+2.00000000e+00j,\n",
       "       -2.00000000e+00+0.00000000e+00j, -2.00000000e+00-2.00000000e+00j,\n",
       "        1.88527225e+20-1.24874262e+21j,  1.25602218e+20+5.72284191e+19j,\n",
       "        8.88781420e+15-3.15068063e+13j,  3.21321700e+21+3.73265993e+21j,\n",
       "       -3.36044141e+04-5.45813770e+03j,  1.00308887e+04-2.33755005e+03j,\n",
       "        1.55675203e+05+7.62121875e+03j,  1.44738094e+05-2.95384961e+04j,\n",
       "        5.46949609e+03-3.24830371e+04j, -1.05584045e+03-1.33327773e+04j,\n",
       "        1.88583375e+05+2.00452688e+05j,  1.39639906e+05+1.69048250e+05j,\n",
       "        4.43843506e+02+1.96842344e+04j, -1.61710420e+04-7.44854395e+03j,\n",
       "        2.70097188e+04+2.03335703e+05j, -3.24684219e+04+4.74590547e+04j,\n",
       "        1.01209420e+14-1.32589415e+13j, -6.95711302e+11-8.28300591e+12j,\n",
       "        6.72085836e+11-7.07498344e+11j, -4.21462247e+13-6.85183515e+13j,\n",
       "        2.90200000e+03+0.00000000e+00j, -2.00000000e+00+2.00000000e+00j,\n",
       "       -2.00000000e+00+0.00000000e+00j, -2.00000000e+00-2.00000000e+00j,\n",
       "        2.91800000e+03+0.00000000e+00j, -2.00000000e+00+2.00000000e+00j,\n",
       "       -2.00000000e+00+0.00000000e+00j, -2.00000000e+00-2.00000000e+00j,\n",
       "        2.93400000e+03+0.00000000e+00j, -2.00000000e+00+2.00000000e+00j,\n",
       "       -2.00000000e+00+0.00000000e+00j, -2.00000000e+00-2.00000000e+00j,\n",
       "       -1.41326906e+14-1.55939190e+13j,  5.50163710e+12+1.33994780e+13j,\n",
       "       -2.45387022e+12-5.96401717e+12j, -1.81056091e+14-1.65611104e+14j,\n",
       "        2.96600000e+03+0.00000000e+00j, -2.00000000e+00+2.00000000e+00j,\n",
       "       -2.00000000e+00+0.00000000e+00j, -2.00000000e+00-2.00000000e+00j,\n",
       "        2.98200000e+03+0.00000000e+00j, -2.00000000e+00+2.00000000e+00j,\n",
       "       -2.00000000e+00+0.00000000e+00j, -2.00000000e+00-2.00000000e+00j,\n",
       "        2.99800000e+03+0.00000000e+00j, -2.00000000e+00+2.00000000e+00j,\n",
       "       -2.00000000e+00+0.00000000e+00j, -2.00000000e+00-2.00000000e+00j,\n",
       "        1.59689501e+14+1.68941465e+14j, -1.38040291e+13-2.57138853e+13j,\n",
       "        2.05568753e+13-1.90231819e+12j, -2.91101139e+14-4.97000462e+14j,\n",
       "        3.03000000e+03+0.00000000e+00j, -2.00000000e+00+2.00000000e+00j,\n",
       "       -2.00000000e+00+0.00000000e+00j, -2.00000000e+00-2.00000000e+00j,\n",
       "        3.04600000e+03+0.00000000e+00j, -2.00000000e+00+2.00000000e+00j,\n",
       "       -2.00000000e+00+0.00000000e+00j, -2.00000000e+00-2.00000000e+00j,\n",
       "        3.06200000e+03+0.00000000e+00j, -2.00000000e+00+2.00000000e+00j,\n",
       "       -2.00000000e+00+0.00000000e+00j, -2.00000000e+00-2.00000000e+00j,\n",
       "        9.52384140e+22+1.61862140e+22j, -2.36615449e+23-8.33079012e+22j,\n",
       "        1.51661438e+23-2.71874023e+23j, -4.37357800e+22+7.46332432e+22j,\n",
       "        5.64350100e+06+1.20772925e+06j, -5.20972800e+06+1.05215570e+07j,\n",
       "       -2.60205500e+06-1.35867000e+05j, -1.10101850e+06-2.71127050e+06j,\n",
       "        1.62206090e+07+3.99706640e+07j,  2.22389740e+07-1.18361840e+07j,\n",
       "       -2.76427075e+06-7.56089000e+06j, -5.39409750e+06+8.67619900e+06j,\n",
       "        4.35444800e+07-4.45154560e+07j,  4.14337320e+07-2.01813000e+07j,\n",
       "       -1.29610790e+07+9.25269800e+06j,  2.04909320e+07+5.46761700e+06j,\n",
       "       -1.12463172e+21+3.79430872e+20j,  1.93848861e+20-4.62540370e+20j,\n",
       "       -7.14988926e+19-1.17228153e+20j, -1.11164364e+20+1.21397413e+20j,\n",
       "        4.08445557e+03-1.44829668e+04j,  5.74704541e+03+1.75526758e+03j,\n",
       "       -1.04882217e+04-3.03555859e+04j, -1.61972168e+04-3.47841406e+03j,\n",
       "       -4.22711377e+03-1.44226201e+04j,  4.02789648e+03-4.23194727e+03j,\n",
       "       -1.18981523e+04-4.82333984e+03j, -1.80085625e+04-9.69015430e+03j,\n",
       "       -1.10289570e+04-1.00084971e+04j,  1.36810246e+01+1.21208410e+01j,\n",
       "       -4.86705078e+03+6.65504883e+03j,  1.38805840e+04+1.14114062e+04j,\n",
       "       -3.35642268e+20-4.71745728e+20j,  1.36762815e+20+2.45069531e+20j,\n",
       "        1.26720131e+20-1.86074223e+20j, -3.08547873e+20-2.25209870e+20j,\n",
       "       -1.33188125e+04+4.56408398e+03j, -2.69574487e+03+4.36729736e+03j,\n",
       "        9.61530566e+03+9.41952246e+03j, -5.87118945e+03+1.60521309e+04j,\n",
       "       -8.91679199e+03+9.89858398e+03j,  9.86999989e+00-4.62757587e+00j,\n",
       "        6.41638281e+03-6.93535498e+03j, -5.88700684e+03-2.06691465e+04j,\n",
       "       -3.07256055e+03+1.20407861e+04j,  4.48857520e+03-5.80319397e+02j,\n",
       "        9.19026562e+03-3.22736582e+04j, -1.21672578e+04-3.02744995e+02j,\n",
       "        7.30596872e+16+3.36640696e+16j,  2.76878675e+16-4.15981498e+16j,\n",
       "        7.99765645e+15-1.00963232e+15j,  3.41329512e+16+2.97047218e+16j,\n",
       "        6.17013574e+03+8.89490234e+03j, -2.11595154e+00-1.96861191e+01j,\n",
       "       -8.17886621e+03+6.73141406e+03j, -8.58968555e+03+2.18386133e+04j,\n",
       "        8.73875293e+03+5.82888281e+03j, -3.20615015e+03+1.46693518e+03j,\n",
       "       -1.31971348e+04+2.60207266e+04j,  1.43489756e+04+1.16728086e+04j,\n",
       "        1.05136211e+04+2.31873584e+03j,  8.21784973e+01+3.18256201e+03j,\n",
       "        1.42035020e+04+2.35950078e+04j,  2.84744844e+04+1.87412317e+03j,\n",
       "        7.55198629e+20-2.23154206e+20j, -2.72691814e+19-4.97487582e+19j,\n",
       "        2.27931613e+22-1.06959140e+22j, -3.57256569e+21+1.53826919e+20j,\n",
       "        4.97598516e+04-1.98572500e+04j, -5.13463250e+05-5.10877125e+05j,\n",
       "       -1.96315828e+05+4.15761688e+05j, -6.00239766e+04-5.73680625e+04j,\n",
       "       -2.40449141e+04-3.48778125e+04j, -1.26070825e+06+7.95327000e+05j,\n",
       "       -5.58228312e+05+8.64229250e+05j,  1.19092812e+05-1.45415527e+03j,\n",
       "        7.24986084e+03-2.82697021e+03j, -7.12483250e+05+1.23637838e+06j,\n",
       "       -3.61296344e+05+1.98881234e+05j, -7.78568457e+03+1.30195752e+03j,\n",
       "       -7.07966217e+16-7.01302189e+16j, -7.07494608e+15-7.62416610e+15j,\n",
       "       -6.98251624e+13-3.53259449e+14j, -5.03182799e+14-8.40927753e+13j,\n",
       "        3.41400000e+03+0.00000000e+00j, -2.00000000e+00+2.00000000e+00j,\n",
       "       -2.00000000e+00+0.00000000e+00j, -2.00000000e+00-2.00000000e+00j,\n",
       "        3.43000000e+03+0.00000000e+00j, -2.00000000e+00+2.00000000e+00j,\n",
       "       -2.00000000e+00+0.00000000e+00j, -2.00000000e+00-2.00000000e+00j,\n",
       "        3.44600000e+03+0.00000000e+00j, -2.00000000e+00+2.00000000e+00j,\n",
       "       -2.00000000e+00+0.00000000e+00j, -2.00000000e+00-2.00000000e+00j,\n",
       "        6.10037570e+16+1.28732144e+17j,  1.59236836e+16+1.16078943e+16j,\n",
       "        8.89568258e+14+1.57892554e+15j, -1.47186731e+15+1.75409149e+14j,\n",
       "        3.47800000e+03+0.00000000e+00j, -2.00000000e+00+2.00000000e+00j,\n",
       "       -2.00000000e+00+0.00000000e+00j, -2.00000000e+00-2.00000000e+00j,\n",
       "        3.49400000e+03+0.00000000e+00j, -2.00000000e+00+2.00000000e+00j,\n",
       "       -2.00000000e+00+0.00000000e+00j, -2.00000000e+00-2.00000000e+00j,\n",
       "        3.51000000e+03+0.00000000e+00j, -2.00000000e+00+2.00000000e+00j,\n",
       "       -2.00000000e+00+0.00000000e+00j, -2.00000000e+00-2.00000000e+00j,\n",
       "        4.24127333e+16-2.54462089e+17j, -3.77290114e+16-2.05396718e+16j,\n",
       "       -4.74419403e+15-4.48111118e+14j, -3.42167213e+15-6.51955634e+14j,\n",
       "        3.54200000e+03+0.00000000e+00j, -2.00000000e+00+2.00000000e+00j,\n",
       "       -2.00000000e+00+0.00000000e+00j, -2.00000000e+00-2.00000000e+00j,\n",
       "        3.55800000e+03+0.00000000e+00j, -2.00000000e+00+2.00000000e+00j,\n",
       "       -2.00000000e+00+0.00000000e+00j, -2.00000000e+00-2.00000000e+00j,\n",
       "        3.57400000e+03+0.00000000e+00j, -2.00000000e+00+2.00000000e+00j,\n",
       "       -2.00000000e+00+0.00000000e+00j, -2.00000000e+00-2.00000000e+00j,\n",
       "       -5.28001457e+20-2.76458811e+20j, -5.81623575e+19-8.45578538e+19j,\n",
       "       -1.95779762e+22-2.79780723e+21j,  8.29634546e+20+2.55311821e+21j,\n",
       "        2.81406016e+04-7.12968262e+03j,  1.51421000e+05+1.22178875e+05j,\n",
       "       -6.32473812e+05+2.36428750e+04j,  8.12986719e+04-7.08860547e+04j,\n",
       "       -2.11416387e+04-4.61660156e+04j, -1.78479012e+06-3.99921000e+05j,\n",
       "       -1.65072662e+06+6.39342062e+05j,  2.08581297e+05+9.82858750e+04j,\n",
       "        2.45990117e+04+9.00671973e+03j, -1.69917850e+06+1.67256488e+06j,\n",
       "       -6.97985938e+05+2.60431281e+05j, -3.61932227e+04+2.86008438e+04j,\n",
       "       -1.15717689e+17-2.94658293e+17j, -3.56492078e+16+9.08894107e+15j,\n",
       "        3.97427497e+15-1.85666873e+14j,  2.34479582e+17+1.20568047e+17j,\n",
       "        3.67000000e+03+0.00000000e+00j, -2.00000000e+00+2.00000000e+00j,\n",
       "       -2.00000000e+00+0.00000000e+00j, -2.00000000e+00-2.00000000e+00j,\n",
       "        3.68600000e+03+0.00000000e+00j, -2.00000000e+00+2.00000000e+00j,\n",
       "       -2.00000000e+00+0.00000000e+00j, -2.00000000e+00-2.00000000e+00j,\n",
       "        3.70200000e+03+0.00000000e+00j, -2.00000000e+00+2.00000000e+00j,\n",
       "       -2.00000000e+00+0.00000000e+00j, -2.00000000e+00-2.00000000e+00j,\n",
       "        3.35590190e+16+4.45574373e+17j,  4.36347031e+16-3.48102117e+16j,\n",
       "        2.74469026e+15-1.97790932e+16j,  7.89606854e+17+1.61465688e+17j,\n",
       "        3.73400000e+03+0.00000000e+00j, -2.00000000e+00+2.00000000e+00j,\n",
       "       -2.00000000e+00+0.00000000e+00j, -2.00000000e+00-2.00000000e+00j,\n",
       "        3.75000000e+03+0.00000000e+00j, -2.00000000e+00+2.00000000e+00j,\n",
       "       -2.00000000e+00+0.00000000e+00j, -2.00000000e+00-2.00000000e+00j,\n",
       "        3.76600000e+03+0.00000000e+00j, -2.00000000e+00+2.00000000e+00j,\n",
       "       -2.00000000e+00+0.00000000e+00j, -2.00000000e+00-2.00000000e+00j,\n",
       "        4.26987232e+17-6.62655867e+17j, -7.54510305e+16+5.63491463e+16j,\n",
       "        6.04433282e+16+3.03598525e+16j,  1.65022044e+18+9.05017367e+17j,\n",
       "        3.79800000e+03+0.00000000e+00j, -2.00000000e+00+2.00000000e+00j,\n",
       "       -2.00000000e+00+0.00000000e+00j, -2.00000000e+00-2.00000000e+00j,\n",
       "        3.81400000e+03+0.00000000e+00j, -2.00000000e+00+2.00000000e+00j,\n",
       "       -2.00000000e+00+0.00000000e+00j, -2.00000000e+00-2.00000000e+00j,\n",
       "        3.83000000e+03+0.00000000e+00j, -2.00000000e+00+2.00000000e+00j,\n",
       "       -2.00000000e+00+0.00000000e+00j, -2.00000000e+00-2.00000000e+00j,\n",
       "        4.07315120e+20+2.70227180e+21j,  2.54053297e+20-8.35979625e+19j,\n",
       "        6.89263583e+22+7.28049304e+22j, -8.51813085e+21-1.60534862e+22j,\n",
       "       -4.57427070e+04+5.04839844e+02j, -1.06799500e+05-2.17691075e+06j,\n",
       "       -1.05971950e+06-8.95154062e+05j,  2.92762812e+05-2.60951562e+04j,\n",
       "        4.74795312e+04-2.90086230e+04j, -3.09195800e+06-1.81078950e+06j,\n",
       "       -3.10963550e+06-8.28048875e+05j,  2.48581125e+05+3.20220438e+05j,\n",
       "        5.34665039e+04+1.71105742e+04j, -4.04160700e+06+2.20237100e+06j,\n",
       "       -1.42076675e+06+1.54973750e+05j, -5.18897656e+04+7.23985547e+04j,\n",
       "       -8.95108568e+17-6.02393559e+16j,  3.59877028e+17-2.12196123e+16j,\n",
       "       -1.88275753e+18-1.13727985e+17j,  5.12936331e+17+6.25869506e+17j,\n",
       "        3.92600000e+03+0.00000000e+00j, -2.00000000e+00+2.00000000e+00j,\n",
       "       -2.00000000e+00+0.00000000e+00j, -2.00000000e+00-2.00000000e+00j,\n",
       "        3.94200000e+03+0.00000000e+00j, -2.00000000e+00+2.00000000e+00j,\n",
       "       -2.00000000e+00+0.00000000e+00j, -2.00000000e+00-2.00000000e+00j,\n",
       "        3.95800000e+03+0.00000000e+00j, -2.00000000e+00+2.00000000e+00j,\n",
       "       -2.00000000e+00+0.00000000e+00j, -2.00000000e+00-2.00000000e+00j,\n",
       "        1.12050515e+18+3.62043684e+17j, -5.70401516e+17+1.88752611e+17j,\n",
       "       -5.25484754e+18+9.83944709e+18j,  2.02498706e+18+1.39975403e+18j,\n",
       "        3.99000000e+03+0.00000000e+00j, -2.00000000e+00+2.00000000e+00j,\n",
       "       -2.00000000e+00+0.00000000e+00j, -2.00000000e+00-2.00000000e+00j,\n",
       "        4.00600000e+03+0.00000000e+00j, -2.00000000e+00+2.00000000e+00j,\n",
       "       -2.00000000e+00+0.00000000e+00j, -2.00000000e+00-2.00000000e+00j,\n",
       "        4.02200000e+03+0.00000000e+00j, -2.00000000e+00+2.00000000e+00j,\n",
       "       -2.00000000e+00+0.00000000e+00j, -2.00000000e+00-2.00000000e+00j,\n",
       "       -9.14901426e+17-1.79213482e+18j,  1.17379079e+18-4.54276698e+17j,\n",
       "       -2.58190883e+19-2.55450328e+19j,  3.56117028e+18+4.55793529e+18j,\n",
       "        4.05400000e+03+0.00000000e+00j, -2.00000000e+00+2.00000000e+00j,\n",
       "       -2.00000000e+00+0.00000000e+00j, -2.00000000e+00-2.00000000e+00j,\n",
       "        4.07000000e+03+0.00000000e+00j, -2.00000000e+00+2.00000000e+00j,\n",
       "       -2.00000000e+00+0.00000000e+00j, -2.00000000e+00-2.00000000e+00j,\n",
       "        4.08600000e+03+0.00000000e+00j, -2.00000000e+00+2.00000000e+00j,\n",
       "       -2.00000000e+00+0.00000000e+00j, -2.00000000e+00-2.00000000e+00j],\n",
       "      dtype=complex64)"
      ]
     },
     "execution_count": 8,
     "metadata": {},
     "output_type": "execute_result"
    }
   ],
   "source": [
    "y"
   ]
  },
  {
   "cell_type": "code",
   "execution_count": 274,
   "metadata": {},
   "outputs": [
    {
     "data": {
      "text/plain": [
       "<pyopencl._cl.NannyEvent at 0x7fc2d049d7d0>"
      ]
     },
     "execution_count": 274,
     "metadata": {},
     "output_type": "execute_result"
    }
   ],
   "source": [
    "x = np.arange(1024, dtype=cl.cltypes.int)\n",
    "y = np.zeros_like(x)\n",
    "x_g = cl.Buffer(ctx, mf.READ_ONLY | mf.COPY_HOST_PTR, hostbuf=x)\n",
    "y_g = cl.Buffer(ctx, mf.WRITE_ONLY, x.nbytes)\n",
    "prog.test_parity_4(queue, (1024,), None, x_g, y_g)\n",
    "cl.enqueue_copy(queue, y, y_g)"
   ]
  },
  {
   "cell_type": "code",
   "execution_count": 275,
   "metadata": {},
   "outputs": [
    {
     "data": {
      "text/plain": [
       "array([0, 1, 2, ..., 1, 2, 3], dtype=int32)"
      ]
     },
     "execution_count": 275,
     "metadata": {},
     "output_type": "execute_result"
    }
   ],
   "source": [
    "y"
   ]
  },
  {
   "cell_type": "code",
   "execution_count": 276,
   "metadata": {},
   "outputs": [],
   "source": [
    "y_ref = np.array([parity(4, i) for i in range(1024)])"
   ]
  },
  {
   "cell_type": "code",
   "execution_count": 277,
   "metadata": {},
   "outputs": [
    {
     "data": {
      "text/plain": [
       "True"
      ]
     },
     "execution_count": 277,
     "metadata": {},
     "output_type": "execute_result"
    }
   ],
   "source": [
    "np.all(y == y_ref)"
   ]
  }
 ],
 "metadata": {
  "kernelspec": {
   "display_name": "Python 3",
   "language": "python",
   "name": "python3"
  },
  "language_info": {
   "codemirror_mode": {
    "name": "ipython",
    "version": 3
   },
   "file_extension": ".py",
   "mimetype": "text/x-python",
   "name": "python",
   "nbconvert_exporter": "python",
   "pygments_lexer": "ipython3",
   "version": "3.7.6"
  }
 },
 "nbformat": 4,
 "nbformat_minor": 4
}
