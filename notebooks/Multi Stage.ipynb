{
 "cells": [
  {
   "cell_type": "code",
   "execution_count": 2,
   "metadata": {},
   "outputs": [],
   "source": [
    "import numpy as np\n",
    "from numpy import fft\n",
    "\n",
    "from genfft.fft import make_twiddle\n",
    "from genfft.plan import Array"
   ]
  },
  {
   "cell_type": "code",
   "execution_count": 3,
   "metadata": {},
   "outputs": [],
   "source": [
    "N = 36\n",
    "factors = [4, 9]\n",
    "\n",
    "x = np.arange(N)\n",
    "s = x.reshape(factors[::-1]).T\n",
    "\n",
    "# Notw fft\n",
    "y = fft.fft(s, axis=1)\n",
    "\n",
    "# Twiddle\n",
    "y *= make_twiddle(4, 9).conj()\n",
    "z = fft.fft(y.T).T.flatten()"
   ]
  },
  {
   "cell_type": "code",
   "execution_count": 4,
   "metadata": {},
   "outputs": [
    {
     "data": {
      "text/plain": [
       "2.3517349180080774e-06"
      ]
     },
     "execution_count": 4,
     "metadata": {},
     "output_type": "execute_result"
    }
   ],
   "source": [
    "abs(fft.fft(x) - z).max()"
   ]
  },
  {
   "cell_type": "code",
   "execution_count": 5,
   "metadata": {},
   "outputs": [],
   "source": [
    "from functools import reduce\n",
    "import operator"
   ]
  },
  {
   "cell_type": "code",
   "execution_count": 6,
   "metadata": {},
   "outputs": [],
   "source": [
    "def reduce_factors_back(f):\n",
    "    return f[:-2] + [f[-2] * f[-1]]"
   ]
  },
  {
   "cell_type": "code",
   "execution_count": 7,
   "metadata": {},
   "outputs": [],
   "source": [
    "f = [4, 4, 4]\n",
    "N = reduce(operator.mul, f)\n",
    "\n",
    "# x = np.arange(N)\n",
    "x = np.random.normal(size=[N])\n",
    "s = x.reshape(f[::-1]).transpose()\n",
    "\n",
    "# Notw fft\n",
    "y = fft.fft(s, axis=-1)\n",
    "\n",
    "# Twiddle\n",
    "y *= make_twiddle(*f[-2:]).conj()\n",
    "y = fft.fft(y, axis=1)\n",
    "\n",
    "# Twiddle\n",
    "f = reduce_factors_back(f)\n",
    "y = y.reshape(f) * make_twiddle(*f).conj()\n",
    "z = fft.fft(y, axis=0).flatten()"
   ]
  },
  {
   "cell_type": "code",
   "execution_count": 8,
   "metadata": {},
   "outputs": [
    {
     "data": {
      "text/plain": [
       "5.486820709182914e-07"
      ]
     },
     "execution_count": 8,
     "metadata": {},
     "output_type": "execute_result"
    }
   ],
   "source": [
    "abs(fft.fft(x) - z).max()"
   ]
  },
  {
   "cell_type": "code",
   "execution_count": 9,
   "metadata": {},
   "outputs": [],
   "source": [
    "def reduce_factors(f):\n",
    "    return [f[0] * f[1]] + f[2:]"
   ]
  },
  {
   "cell_type": "code",
   "execution_count": 12,
   "metadata": {},
   "outputs": [],
   "source": [
    "from textwrap import indent, wrap\n",
    "\n",
    "def for_loop(var, start, n, step, body):\n",
    "    if start == 0 or start == \"0\":\n",
    "        end = \"{}\".format(n*step)\n",
    "    else:\n",
    "        end = \"{}+{}\".format(start, n*step)\n",
    "        \n",
    "    return \"\\n\".join([\n",
    "        \"for ({var}={start}; {var}<{end}; {var}+={inc}) {{\".format(var=var, start=start, end=end, inc=step),\n",
    "        indent(body, \"    \"),\n",
    "        \"}\"])\n",
    "\n",
    "def inc_var(var):\n",
    "    return chr(ord(var) + 1)\n",
    "\n",
    "def twiddle_loop(a, var=\"a\", start=\"0\"):\n",
    "    if a.ndim == 2:\n",
    "        return \"twiddle_{x}(output+{start}, output+{start}+1, w_{x}_{y}, {stride}, 0, {y}, 2)\".format(x=a.shape[-2],start=start, y=a.shape[-1], stride=a.real.stride[-2])\n",
    "    else:\n",
    "        return for_loop(var, start, a.shape[0], a.real.stride[0], twiddle_loop(a[0], inc_var(var), start=var))\n",
    "    \n",
    "def decl_vars(n):\n",
    "    return \"int {};\".format(\", \".join(chr(i + ord(\"a\")) for i in range(n)))"
   ]
  },
  {
   "cell_type": "code",
   "execution_count": 14,
   "metadata": {},
   "outputs": [
    {
     "name": "stdout",
     "output_type": "stream",
     "text": [
      "int a, b, c;\n",
      "__constant short offset[32] = {\n",
      "    0, 16, 32, 48, 4, 20, 36, 52, 8, 24, 40, 56, 12, 28, 44, 60, 2, 18,\n",
      "    34, 50, 6, 22, 38, 54, 10, 26, 42, 58, 14, 30, 46, 62\n",
      "};\n",
      "for (a=0; a<32; a+=1) {\n",
      "    notw_4(input + offset[a], input + offset[a] + 1, output + a*32, output + a*32 + 1, 256, 2, 4, 64, 8)\n",
      "}\n",
      "for (a=0; a<1024; a+=512) {\n",
      "    for (b=a; b<a+512; b+=128) {\n",
      "        for (c=b; c<b+128; c+=32) {\n",
      "            twiddle_4(output+c, output+c+1, w_4_4, 8, 0, 4, 2)\n",
      "        }\n",
      "    }\n",
      "}\n",
      "for (a=0; a<1024; a+=512) {\n",
      "    for (b=a; b<a+512; b+=128) {\n",
      "        twiddle_4(output+b, output+b+1, w_4_16, 32, 0, 16, 2)\n",
      "    }\n",
      "}\n",
      "for (a=0; a<1024; a+=512) {\n",
      "    twiddle_4(output+a, output+a+1, w_4_64, 128, 0, 64, 2)\n",
      "}\n",
      "twiddle_2(output+0, output+0+1, w_2_256, 512, 0, 256, 2)\n"
     ]
    }
   ],
   "source": [
    "f = [4, 4, 4, 4, 2]\n",
    "N = reduce(operator.mul, f)\n",
    "\n",
    "# x = np.arange(N)\n",
    "x = np.random.normal(size=[N])\n",
    "s = x.reshape(f).transpose()\n",
    "p = np.arange(N).reshape(f).transpose()\n",
    "\n",
    "# Notw fft\n",
    "print(decl_vars(len(f)-2))\n",
    "\n",
    "offsets = p[..., 0, 0].flatten() * 2\n",
    "print(\"__constant short offset[{size}] = {{\\n{values}\\n}};\".format(\n",
    "    size=len(offsets),\n",
    "    values=indent(\"\\n\".join(wrap(\", \".join(str(o) for o in offsets))), \"    \")))\n",
    "\n",
    "notw_stride = reduce(operator.mul, f[2:])\n",
    "a_x = Array(\"x\", \"complex64\", f).T\n",
    "\n",
    "y = fft.fft(s, axis=-1)\n",
    "p_y = np.arange(N).reshape(y.shape)\n",
    "a_y = Array(\"y\", \"complex64\", y.shape)\n",
    "\n",
    "print(for_loop(\"a\", 0, notw_stride, 1,\n",
    "               \"notw_{}(input + offset[a], input + offset[a] + 1, output + a*{stride}, output + a*{stride} + 1, {ins}, {outs}, {v}, {ivs}, {ovs})\".format(\n",
    "                   f[0], stride=notw_stride, ins=a_x.real.stride[-1], outs=a_y.real.stride[-1], v=f[1], ivs=a_x.real.stride[-2], ovs=a_y.real.stride[-2])))\n",
    "\n",
    "\n",
    "while len(f) > 1:\n",
    "    # Twiddle\n",
    "    y *= make_twiddle(*f[1::-1]).conj()\n",
    "    y = fft.fft(y, axis=-2)\n",
    "    print(twiddle_loop(a_y))\n",
    "    f = reduce_factors(f)\n",
    "    y = y.reshape(f[::-1])\n",
    "    p_y = p_y.reshape(f[::-1])\n",
    "    a_y = a_y.reshape(f[::-1])"
   ]
  }
 ],
 "metadata": {
  "kernelspec": {
   "display_name": "Python 3",
   "language": "python",
   "name": "python3"
  },
  "language_info": {
   "codemirror_mode": {
    "name": "ipython",
    "version": 3
   },
   "file_extension": ".py",
   "mimetype": "text/x-python",
   "name": "python",
   "nbconvert_exporter": "python",
   "pygments_lexer": "ipython3",
   "version": "3.7.6"
  }
 },
 "nbformat": 4,
 "nbformat_minor": 4
}
