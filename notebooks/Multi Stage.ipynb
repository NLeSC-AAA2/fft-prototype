{
 "cells": [
  {
   "cell_type": "code",
   "execution_count": 4,
   "metadata": {},
   "outputs": [],
   "source": [
    "import numpy as np\n",
    "from numpy import fft\n",
    "\n",
    "from genfft.fft import make_twiddle"
   ]
  },
  {
   "cell_type": "code",
   "execution_count": 42,
   "metadata": {},
   "outputs": [],
   "source": [
    "N = 36\n",
    "factors = [4, 9]\n",
    "\n",
    "x = np.arange(N)\n",
    "s = x.reshape(factors[::-1]).T\n",
    "\n",
    "# Notw fft\n",
    "y = fft.fft(s, axis=1)\n",
    "\n",
    "# Twiddle\n",
    "y *= make_twiddle(4, 9).conj()\n",
    "z = fft.fft(y.T).T.flatten()"
   ]
  },
  {
   "cell_type": "code",
   "execution_count": 43,
   "metadata": {},
   "outputs": [
    {
     "data": {
      "text/plain": [
       "2.3517349180080774e-06"
      ]
     },
     "execution_count": 43,
     "metadata": {},
     "output_type": "execute_result"
    }
   ],
   "source": [
    "abs(fft.fft(x) - z).max()"
   ]
  },
  {
   "cell_type": "code",
   "execution_count": 58,
   "metadata": {},
   "outputs": [],
   "source": [
    "from functools import reduce\n",
    "import operator"
   ]
  },
  {
   "cell_type": "code",
   "execution_count": 150,
   "metadata": {},
   "outputs": [],
   "source": [
    "def reduce_factors_back(f):\n",
    "    return f[:-2] + [f[-2] * f[-1]]"
   ]
  },
  {
   "cell_type": "code",
   "execution_count": 151,
   "metadata": {},
   "outputs": [],
   "source": [
    "f = [4, 4, 4]\n",
    "N = reduce(operator.mul, f)\n",
    "\n",
    "# x = np.arange(N)\n",
    "x = np.random.normal(size=[N])\n",
    "s = x.reshape(f[::-1]).transpose()\n",
    "\n",
    "# Notw fft\n",
    "y = fft.fft(s, axis=-1)\n",
    "\n",
    "# Twiddle\n",
    "y *= make_twiddle(*f[-2:]).conj()\n",
    "y = fft.fft(y, axis=1)\n",
    "\n",
    "# Twiddle\n",
    "f = reduce_factors_back(f)\n",
    "y = y.reshape(f) * make_twiddle(*f).conj()\n",
    "z = fft.fft(y, axis=0).flatten()"
   ]
  },
  {
   "cell_type": "code",
   "execution_count": 152,
   "metadata": {},
   "outputs": [
    {
     "data": {
      "text/plain": [
       "3.7810183237622525e-07"
      ]
     },
     "execution_count": 152,
     "metadata": {},
     "output_type": "execute_result"
    }
   ],
   "source": [
    "abs(fft.fft(x) - z).max()"
   ]
  },
  {
   "cell_type": "code",
   "execution_count": 97,
   "metadata": {},
   "outputs": [],
   "source": [
    "def reduce_factors(f):\n",
    "    return [f[0] * f[1]] + f[2:]"
   ]
  },
  {
   "cell_type": "code",
   "execution_count": 147,
   "metadata": {},
   "outputs": [
    {
     "name": "stdout",
     "output_type": "stream",
     "text": [
      "notw_2()\n",
      "twiddle_4()\n",
      "twiddle_4()\n",
      "twiddle_4()\n",
      "twiddle_4()\n"
     ]
    }
   ],
   "source": [
    "f = [2, 4, 4, 4, 4]\n",
    "N = reduce(operator.mul, f)\n",
    "\n",
    "# x = np.arange(N)\n",
    "x = np.random.normal(size=[N])\n",
    "s = x.reshape(f).transpose()\n",
    "p = np.arange(N).reshape(f).transpose()\n",
    "\n",
    "# Notw fft\n",
    "y = fft.fft(s, axis=-1)\n",
    "print(\"notw_{}()\".format(f[0]))\n",
    "\n",
    "while len(f) > 1:\n",
    "    # Twiddle\n",
    "    y *= make_twiddle(*f[1::-1]).conj()\n",
    "    y = fft.fft(y, axis=-2)\n",
    "    print(\"twiddle_{}()\".format(f[1]))\n",
    "    f = reduce_factors(f)\n",
    "    y = y.reshape(f[::-1])"
   ]
  },
  {
   "cell_type": "code",
   "execution_count": 140,
   "metadata": {},
   "outputs": [
    {
     "data": {
      "text/plain": [
       "512"
      ]
     },
     "execution_count": 140,
     "metadata": {},
     "output_type": "execute_result"
    }
   ],
   "source": [
    "N"
   ]
  },
  {
   "cell_type": "code",
   "execution_count": 141,
   "metadata": {},
   "outputs": [
    {
     "data": {
      "text/plain": [
       "3.4571333006311086e-06"
      ]
     },
     "execution_count": 141,
     "metadata": {},
     "output_type": "execute_result"
    }
   ],
   "source": [
    "abs(fft.fft(x) - y).max()"
   ]
  },
  {
   "cell_type": "code",
   "execution_count": 146,
   "metadata": {},
   "outputs": [
    {
     "data": {
      "text/plain": [
       "array([ 0, 16, 32, 48,  4, 20, 36, 52,  8, 24, 40, 56, 12, 28, 44, 60,  2,\n",
       "       18, 34, 50,  6, 22, 38, 54, 10, 26, 42, 58, 14, 30, 46, 62])"
      ]
     },
     "execution_count": 146,
     "metadata": {},
     "output_type": "execute_result"
    }
   ],
   "source": [
    "p[..., 0, 0].flatten() * 2"
   ]
  }
 ],
 "metadata": {
  "kernelspec": {
   "display_name": "Python 3",
   "language": "python",
   "name": "python3"
  },
  "language_info": {
   "codemirror_mode": {
    "name": "ipython",
    "version": 3
   },
   "file_extension": ".py",
   "mimetype": "text/x-python",
   "name": "python",
   "nbconvert_exporter": "python",
   "pygments_lexer": "ipython3",
   "version": "3.7.6"
  }
 },
 "nbformat": 4,
 "nbformat_minor": 4
}
