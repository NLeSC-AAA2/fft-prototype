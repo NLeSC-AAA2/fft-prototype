{
 "cells": [
  {
   "cell_type": "code",
   "execution_count": 1,
   "metadata": {},
   "outputs": [],
   "source": [
    "from codelets import load_codelet\n",
    "import numpy as np"
   ]
  },
  {
   "cell_type": "code",
   "execution_count": 12,
   "metadata": {},
   "outputs": [],
   "source": [
    "fft7 = load_codelet(\"build/notw-7.gen.so\", \"fft\", \"notw\", \"float32\", 7)\n",
    "fft21 = load_codelet(\"build/notw-21.gen.so\", \"fft\", \"notw\", \"float32\", 21)"
   ]
  },
  {
   "cell_type": "code",
   "execution_count": 35,
   "metadata": {},
   "outputs": [],
   "source": [
    "x = np.random.normal(size=[65536, 7]).astype(\"complex64\")\n",
    "y = np.zeros_like(x)"
   ]
  },
  {
   "cell_type": "code",
   "execution_count": 36,
   "metadata": {},
   "outputs": [
    {
     "name": "stdout",
     "output_type": "stream",
     "text": [
      "999 µs ± 6.89 µs per loop (mean ± std. dev. of 20 runs, 1000 loops each)\n"
     ]
    }
   ],
   "source": [
    "%%timeit -r 20\n",
    "fft7(x, y)"
   ]
  },
  {
   "cell_type": "code",
   "execution_count": 37,
   "metadata": {},
   "outputs": [
    {
     "name": "stdout",
     "output_type": "stream",
     "text": [
      "7.51 ms ± 72.8 µs per loop (mean ± std. dev. of 20 runs, 100 loops each)\n"
     ]
    }
   ],
   "source": [
    "%%timeit -r 20\n",
    "z = np.fft.fft(x)"
   ]
  },
  {
   "cell_type": "code",
   "execution_count": 7,
   "metadata": {},
   "outputs": [
    {
     "data": {
      "text/plain": [
       "array([[0.00000000e+00, 3.21365520e-07, 8.87363779e-08, ...,\n",
       "        1.25200696e-07, 8.87363779e-08, 3.21365520e-07],\n",
       "       [5.96046448e-08, 7.89701689e-08, 6.19461613e-08, ...,\n",
       "        1.02013273e-07, 6.19461613e-08, 7.89701689e-08],\n",
       "       [4.17232513e-07, 4.04151342e-07, 1.66017165e-07, ...,\n",
       "        8.10644953e-08, 1.66017165e-07, 4.04151342e-07],\n",
       "       ...,\n",
       "       [7.45058060e-09, 3.52005798e-08, 2.34257893e-08, ...,\n",
       "        9.67652037e-08, 2.34257893e-08, 3.52005798e-08],\n",
       "       [2.98023224e-08, 2.01620415e-07, 3.10358022e-07, ...,\n",
       "        2.64884594e-07, 3.10358022e-07, 2.01620415e-07],\n",
       "       [1.63912773e-07, 6.90611755e-08, 3.32769933e-07, ...,\n",
       "        1.75025769e-07, 3.32769933e-07, 6.90611755e-08]])"
      ]
     },
     "execution_count": 7,
     "metadata": {},
     "output_type": "execute_result"
    }
   ],
   "source": [
    "diff = (y - z)\n",
    "np.sqrt((diff * diff.conj()).real)"
   ]
  },
  {
   "cell_type": "code",
   "execution_count": null,
   "metadata": {},
   "outputs": [],
   "source": []
  },
  {
   "cell_type": "code",
   "execution_count": null,
   "metadata": {},
   "outputs": [],
   "source": []
  }
 ],
 "metadata": {
  "kernelspec": {
   "display_name": "Python 3",
   "language": "python",
   "name": "python3"
  },
  "language_info": {
   "codemirror_mode": {
    "name": "ipython",
    "version": 3
   },
   "file_extension": ".py",
   "mimetype": "text/x-python",
   "name": "python",
   "nbconvert_exporter": "python",
   "pygments_lexer": "ipython3",
   "version": "3.7.2"
  }
 },
 "nbformat": 4,
 "nbformat_minor": 2
}
